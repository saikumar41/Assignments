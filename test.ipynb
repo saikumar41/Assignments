{
 "cells": [
  {
   "cell_type": "code",
   "execution_count": 22,
   "id": "c7da7945",
   "metadata": {},
   "outputs": [],
   "source": [
    "l = [[1,2,3],[11,12,'b','b','b'],[21,'t','223',44,'ba'],[4,5,6],[7,8,9],'demo',12.5]"
   ]
  },
  {
   "cell_type": "code",
   "execution_count": 23,
   "id": "338d901d",
   "metadata": {},
   "outputs": [
    {
     "data": {
      "text/plain": [
       "[[1, 2, 3],\n",
       " [11, 12, 'b', 'b', 'b'],\n",
       " [21, 't', '223', 44, 'ba'],\n",
       " [4, 5, 6],\n",
       " [7, 8, 9],\n",
       " 'demo',\n",
       " 12.5]"
      ]
     },
     "execution_count": 23,
     "metadata": {},
     "output_type": "execute_result"
    }
   ],
   "source": [
    "l"
   ]
  },
  {
   "cell_type": "code",
   "execution_count": 24,
   "id": "3fde15c1",
   "metadata": {},
   "outputs": [
    {
     "name": "stdout",
     "output_type": "stream",
     "text": [
      "string found at 2 index of sublist [11, 12, 'b', 'b', 'b']\n",
      "string found at 2 index of sublist [11, 12, 'b', 'b']\n",
      "string found at 2 index of sublist [11, 12, 'b']\n",
      "string found at 1 index of sublist [21, 't', '223', 44, 'ba']\n",
      "string found at 1 index of sublist [21, '223', 44, 'ba']\n",
      "string found at 2 index of sublist [21, 44, 'ba']\n",
      "[[1, 2, 3], [11, 12], [21, 44], [4, 5, 6], [7, 8, 9], 'demo', 12.5]\n"
     ]
    }
   ],
   "source": [
    "for i in l:\n",
    "    if isinstance(i,list):\n",
    "        c=0\n",
    "        while c < len(i):\n",
    "            j=i[c]\n",
    "            if isinstance(j,str):\n",
    "                print(\"string found at {} index of sublist {}\".format(i.index(j),i))\n",
    "                i.remove(j)\n",
    "                c-=1\n",
    "            c+=1\n",
    "            \n",
    "print(l)"
   ]
  },
  {
   "cell_type": "code",
   "execution_count": 5,
   "id": "29161853",
   "metadata": {},
   "outputs": [],
   "source": [
    "s = set([1,2])"
   ]
  },
  {
   "cell_type": "code",
   "execution_count": 6,
   "id": "38ea1a95",
   "metadata": {},
   "outputs": [
    {
     "data": {
      "text/plain": [
       "set"
      ]
     },
     "execution_count": 6,
     "metadata": {},
     "output_type": "execute_result"
    }
   ],
   "source": [
    "type(s)"
   ]
  },
  {
   "cell_type": "code",
   "execution_count": 23,
   "id": "d29f831c",
   "metadata": {},
   "outputs": [],
   "source": [
    "def test(*lst):\n",
    "    return([i.extend for i in lst])"
   ]
  },
  {
   "cell_type": "code",
   "execution_count": 24,
   "id": "4c1957f9",
   "metadata": {},
   "outputs": [
    {
     "data": {
      "text/plain": [
       "[<function list.extend(iterable, /)>, <function list.extend(iterable, /)>]"
      ]
     },
     "execution_count": 24,
     "metadata": {},
     "output_type": "execute_result"
    }
   ],
   "source": [
    "test([1,2,3],[2,3,4])"
   ]
  },
  {
   "cell_type": "code",
   "execution_count": 35,
   "id": "c3f4c3a5",
   "metadata": {},
   "outputs": [
    {
     "name": "stdout",
     "output_type": "stream",
     "text": [
      "227b Baker st,London Nw3 6XE7\n",
      "_#@y yzpVi hg,oLmwlm Md% _cv#\n"
     ]
    }
   ],
   "source": [
    "instr = input()\n",
    "digit = ['_','#', '@', '%']\n",
    "out = ''\n",
    "count_alpha = 0\n",
    "count_digit = 0\n",
    "for i in range(len(instr)):\n",
    "    if ord(instr[i]) > 47 and ord(instr[i]) < 58:\n",
    "        out += digit[count_digit]\n",
    "        if count_digit == len(digit)-1:\n",
    "            count_digit = 0\n",
    "        else:\n",
    "            count_digit += 1\n",
    "    elif ord(instr[i]) > 64 and ord(instr[i]) < 91:\n",
    "        ch = chr(ord('Z') - ord(instr[i]) + ord('A'))\n",
    "        if (count_alpha+1) % 5 == 0 and count_alpha != 0:\n",
    "            out += ch.upper()\n",
    "        else:\n",
    "            out += ch.lower()\n",
    "        count_alpha += 1\n",
    "    elif ord(instr[i]) > 96 and ord(instr[i]) < 123:\n",
    "        ch = chr(ord('z') - ord(instr[i]) + ord('a'))\n",
    "        if (count_alpha+1) % 5 == 0 and count_alpha != 0:\n",
    "            out += ch.upper()\n",
    "        else:\n",
    "            out += ch\n",
    "        count_alpha += 1\n",
    "    else:\n",
    "        out += instr[i]\n",
    "    \n",
    "print(out)\n"
   ]
  },
  {
   "cell_type": "code",
   "execution_count": 12,
   "id": "f72894fb",
   "metadata": {},
   "outputs": [
    {
     "data": {
      "text/plain": [
       "'{'"
      ]
     },
     "execution_count": 12,
     "metadata": {},
     "output_type": "execute_result"
    }
   ],
   "source": [
    "chr(ord('b')+25)"
   ]
  },
  {
   "cell_type": "code",
   "execution_count": 11,
   "id": "9bb9c5c8",
   "metadata": {},
   "outputs": [
    {
     "data": {
      "text/plain": [
       "'J'"
      ]
     },
     "execution_count": 11,
     "metadata": {},
     "output_type": "execute_result"
    }
   ],
   "source": [
    "chr(ord('1') + 25)"
   ]
  },
  {
   "cell_type": "code",
   "execution_count": 13,
   "id": "51135c99",
   "metadata": {},
   "outputs": [
    {
     "data": {
      "text/plain": [
       "95"
      ]
     },
     "execution_count": 13,
     "metadata": {},
     "output_type": "execute_result"
    }
   ],
   "source": [
    "ord('_')"
   ]
  },
  {
   "cell_type": "code",
   "execution_count": 43,
   "id": "afec1685",
   "metadata": {},
   "outputs": [],
   "source": [
    "def spiralOrderTraversal(lst,start_row, start_col, end_row, end_col):\n",
    "    if(start_row >= end_row or start_col >= end_col):\n",
    "        return\n",
    "\n",
    "    for i in range(start_row,end_co):\n",
    "        print(A[start_row][i])\n",
    "\n",
    "    for i in (start_row+1,end_row):\n",
    "        print(A[i][end_col-1])\n",
    "\n",
    "    if end_row-1 != start_row:\n",
    "        for i in range(end_col-2,start_col):\n",
    "          print(A[end_row-1][i])  \n",
    "\n",
    "    if end_col-1 != start_col:\n",
    "        for i in range(end_row-2,start_row):\n",
    "          print(A[i][start_col])\n",
    "\n",
    "    spiralOrderTraversal(A, start_row+1, start_col+1, end_row-1, end_col-1)\n",
    " "
   ]
  },
  {
   "cell_type": "code",
   "execution_count": null,
   "id": "f7dbbc55",
   "metadata": {},
   "outputs": [],
   "source": [
    "spiralOrderTraversal()"
   ]
  }
 ],
 "metadata": {
  "kernelspec": {
   "display_name": "Python 3 (ipykernel)",
   "language": "python",
   "name": "python3"
  },
  "language_info": {
   "codemirror_mode": {
    "name": "ipython",
    "version": 3
   },
   "file_extension": ".py",
   "mimetype": "text/x-python",
   "name": "python",
   "nbconvert_exporter": "python",
   "pygments_lexer": "ipython3",
   "version": "3.9.7"
  }
 },
 "nbformat": 4,
 "nbformat_minor": 5
}
