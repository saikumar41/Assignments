{
 "cells": [
  {
   "cell_type": "markdown",
   "id": "cb080955",
   "metadata": {},
   "source": [
    "# 1. What is the relationship between def statements and lambda expressions ?"
   ]
  },
  {
   "cell_type": "markdown",
   "id": "cbc7fdac",
   "metadata": {},
   "source": [
    "**Answer:**\n",
    "    \n",
    "   - **def** statements are used to define functions/methods by giving a name after it. A function name is a unique name to identify its definition.We can execute multiple expressions or statements when it is called.\n",
    "   - **lambda** expressions are simply anonymous functions. These are simple functions which doesnot have any name but we can execute only one single expression in it."
   ]
  },
  {
   "cell_type": "markdown",
   "id": "ef7aefdb",
   "metadata": {},
   "source": [
    "# 2. What is the benefit of lambda?"
   ]
  },
  {
   "cell_type": "markdown",
   "id": "96f2acea",
   "metadata": {},
   "source": [
    "**Answer:**\n",
    "    \n",
    "   Advantages of lambda are:\n",
    "   \n",
    "       1. Fewer lines of code\n",
    "       2. Sequential and Parallel execution support by passing behavior as an argument in methods\n",
    "       3. Higher Efficiency"
   ]
  },
  {
   "cell_type": "markdown",
   "id": "77086dec",
   "metadata": {},
   "source": [
    "# 3. Compare and contrast map, filter, and reduce."
   ]
  },
  {
   "cell_type": "markdown",
   "id": "9586355a",
   "metadata": {},
   "source": [
    "**Answer:**\n",
    "    \n",
    "   - **map** applies as a transformation to an element. The map() function iterates through all items in the given iterable and executes the function we passed as an argument on each of them.<br>\n",
    "       Syntax : map(function, iterable(s))\n",
    "   - **filter** accumulates only elements matching a condition. filter() forms a new list that contains only elements that satisfy a certain condition, i.e. the function we passed returns True.<br> Syntax : filter(function, iterable(s))\n",
    "   - **reduce** accumulates all elements to a single value, by using immutable values reduce() works by calling the function we passed for the first two items in the sequence. The result returned by the function is used in another call to function alongside with the next (third in this case), element.<br> Syntax : reduce(function, sequence[, initial])"
   ]
  },
  {
   "cell_type": "markdown",
   "id": "0e550f68",
   "metadata": {},
   "source": [
    "# 4. What are function annotations, and how are they used?"
   ]
  },
  {
   "cell_type": "markdown",
   "id": "72634a99",
   "metadata": {},
   "source": [
    "**Answer:**\n",
    "    \n",
    "   - Function annotations are completely optional both for parameters and return value.\n",
    "\n",
    "   - Function annotations provide a way of associating various parts of a function with arbitrary python expressions at compile time.\n",
    "\n",
    "   - The PEP-3107 makes no attempt to introduce any kind of standard semantics, even for the built-in types. All this work left to the third-party libraries."
   ]
  },
  {
   "cell_type": "markdown",
   "id": "7886a9ba",
   "metadata": {},
   "source": [
    "   **syntax:**\n",
    "    \n",
    "        def func(a: 'int') -> 'int':\n",
    "            pass"
   ]
  },
  {
   "cell_type": "markdown",
   "id": "00123d38",
   "metadata": {},
   "source": [
    "**Annotations for simple parameters:**\n",
    "    \n",
    "   - def func(x: 'float'=10.8, y: 'argument2'):\n",
    "    \n",
    "        In the above code the argument, ‘x’ of the function func, has been annotated to float data type and the argument ‘y’ has a string-based annotation. The argument can also be assigned to a default value using a ‘=’ symbol followed by the default value. These default values are optional to the code."
   ]
  },
  {
   "cell_type": "markdown",
   "id": "db14872d",
   "metadata": {},
   "source": [
    "**Annotations for return values:**\n",
    "\n",
    "   - def func(a: expression) -> 'int':\n",
    "   \n",
    "       The annotations for the return value is written after the ‘->’ symbol."
   ]
  },
  {
   "cell_type": "code",
   "execution_count": 2,
   "id": "6550ad19",
   "metadata": {},
   "outputs": [
    {
     "name": "stdout",
     "output_type": "stream",
     "text": [
      "{'a': 'float', 'b': 'int', 'return': 'result'}\n"
     ]
    }
   ],
   "source": [
    "#annotations can accessed using __annotations__ variable\n",
    "def annot(a:'float', b:'int')-> 'result': \n",
    "    pass\n",
    "print(annot.__annotations__)"
   ]
  },
  {
   "cell_type": "markdown",
   "id": "5ea18bcd",
   "metadata": {},
   "source": [
    "# 5. What are recursive functions, and how are they used?"
   ]
  },
  {
   "cell_type": "markdown",
   "id": "b4e050ca",
   "metadata": {},
   "source": [
    "**Answer:**\n",
    "    \n",
    "    A recursive function is a function that calls itself during its execution. This means that the function will continue to call itself and repeat its behavior until some condition is met to return a result"
   ]
  },
  {
   "cell_type": "code",
   "execution_count": 4,
   "id": "897bc668",
   "metadata": {},
   "outputs": [
    {
     "data": {
      "text/plain": [
       "120"
      ]
     },
     "execution_count": 4,
     "metadata": {},
     "output_type": "execute_result"
    }
   ],
   "source": [
    "# following is the example code for finding factorial using recursion\n",
    "def factorial(x):\n",
    "    if x == 1 :\n",
    "        return 1\n",
    "    else :\n",
    "        return x * factorial(x-1) # recursion\n",
    "    \n",
    "factorial(5)"
   ]
  },
  {
   "cell_type": "markdown",
   "id": "24bcb81f",
   "metadata": {},
   "source": [
    "# 6. What are some general design guidelines for coding functions?"
   ]
  },
  {
   "cell_type": "markdown",
   "id": "cc9c18ec",
   "metadata": {},
   "source": [
    "**Answer:**\n",
    "    \n",
    "   - Use 4-space indentation and no tabs\n",
    "   - Use docstrings\n",
    "   - Wrap lines so that they don’t exceed 79 characters\n",
    "   - Use of regular and updated comments are valuable to both the coders and users\n",
    "   - Use of trailing commas\n",
    "   - Use Python’s default UTF-8 or ASCII encodings and not any fancy encodings, if it is meant for international environment.\n",
    "   - Naming Conventions\n",
    "   - Characters that should not be used for identifiers \n",
    "   - Don’t use non-ASCII characters in identifiers\n",
    "   - Name your classes and functions consistently : The convention is to use CamelCase for classes and lower_case_with_underscores for functions and methods. Always use self as the name for the first method argument.\n",
    "   - While naming of function of methods always use self for the first argument to instance methods and cls for the first argument to class methods.If a functions argument name matches with reserved words then it can be written with a trailing comma. For e.g., class_"
   ]
  },
  {
   "cell_type": "markdown",
   "id": "22f4eb27",
   "metadata": {},
   "source": [
    "# 7. Name three or more ways that functions can communicate results to a caller."
   ]
  },
  {
   "cell_type": "markdown",
   "id": "c517775a",
   "metadata": {},
   "source": [
    "**Answer:**\n",
    "    \n",
    "   - we can use **return** keyword to communicate result to caller.\n",
    "   - We can update the result in a variable with **global** keyword, so that variable can be accessed by the caller.\n",
    "   - We can **print** the result directly.\n",
    "   - We can use **yield** keyword to communicate iterable result to caller\n"
   ]
  },
  {
   "cell_type": "code",
   "execution_count": null,
   "id": "0e36938c",
   "metadata": {},
   "outputs": [],
   "source": []
  }
 ],
 "metadata": {
  "kernelspec": {
   "display_name": "Python 3 (ipykernel)",
   "language": "python",
   "name": "python3"
  },
  "language_info": {
   "codemirror_mode": {
    "name": "ipython",
    "version": 3
   },
   "file_extension": ".py",
   "mimetype": "text/x-python",
   "name": "python",
   "nbconvert_exporter": "python",
   "pygments_lexer": "ipython3",
   "version": "3.9.7"
  }
 },
 "nbformat": 4,
 "nbformat_minor": 5
}
