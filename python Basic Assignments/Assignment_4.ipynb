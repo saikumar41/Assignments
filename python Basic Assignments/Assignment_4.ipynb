{
 "cells": [
  {
   "cell_type": "markdown",
   "id": "ad8e5b5a",
   "metadata": {},
   "source": [
    "# 1. What exactly is []?"
   ]
  },
  {
   "cell_type": "markdown",
   "id": "d786ee94",
   "metadata": {},
   "source": [
    "Answer:\n",
    "    \n",
    "    [] represents a empty list. a list containing no elements"
   ]
  },
  {
   "cell_type": "markdown",
   "id": "a81fc845",
   "metadata": {},
   "source": [
    "# 2. In a list of values stored in a variable called spam, how would you assign the value 'hello' as the third value? (Assume [2, 4, 6, 8, 10] are in spam.)"
   ]
  },
  {
   "cell_type": "markdown",
   "id": "4d79822f",
   "metadata": {},
   "source": [
    "Answer:\n",
    "    \n",
    "    **assignment operator '='** can be used to assign a value at any index of a list."
   ]
  },
  {
   "cell_type": "code",
   "execution_count": 3,
   "id": "86f63d8f",
   "metadata": {},
   "outputs": [
    {
     "data": {
      "text/plain": [
       "[2, 4, 'hello', 8, 10]"
      ]
     },
     "execution_count": 3,
     "metadata": {},
     "output_type": "execute_result"
    }
   ],
   "source": [
    "spam = [2,4,6,8,10]\n",
    "spam[2] = 'hello'\n",
    "spam"
   ]
  },
  {
   "cell_type": "markdown",
   "id": "776e8020",
   "metadata": {},
   "source": [
    "Let's pretend the spam includes the list ['a', 'b', 'c', 'd'] for the next three queries."
   ]
  },
  {
   "cell_type": "code",
   "execution_count": 4,
   "id": "4aca9780",
   "metadata": {},
   "outputs": [],
   "source": [
    "spam = ['a','b','c','d']"
   ]
  },
  {
   "cell_type": "markdown",
   "id": "3124d678",
   "metadata": {},
   "source": [
    "# 3. What is the value of spam[int(int('3' * 2) / 11)]?"
   ]
  },
  {
   "cell_type": "markdown",
   "id": "c5cb1027",
   "metadata": {},
   "source": [
    "Answer:\n",
    "    \n",
    "    int(int('3' * 2) / 11) expression evaluates to 3, so it returns value at index 3."
   ]
  },
  {
   "cell_type": "code",
   "execution_count": 6,
   "id": "275adf9f",
   "metadata": {},
   "outputs": [
    {
     "data": {
      "text/plain": [
       "'d'"
      ]
     },
     "execution_count": 6,
     "metadata": {},
     "output_type": "execute_result"
    }
   ],
   "source": [
    "spam[int(int('3' * 2) / 11)]"
   ]
  },
  {
   "cell_type": "markdown",
   "id": "7a952c2f",
   "metadata": {},
   "source": [
    "# 4. What is the value of spam[-1]?"
   ]
  },
  {
   "cell_type": "markdown",
   "id": "46425858",
   "metadata": {},
   "source": [
    "Answer:\n",
    "\n",
    "    '-1' index represents last element of a list. so, it returns 'd'"
   ]
  },
  {
   "cell_type": "code",
   "execution_count": 7,
   "id": "652fd686",
   "metadata": {},
   "outputs": [
    {
     "data": {
      "text/plain": [
       "'d'"
      ]
     },
     "execution_count": 7,
     "metadata": {},
     "output_type": "execute_result"
    }
   ],
   "source": [
    "spam[-1]"
   ]
  },
  {
   "cell_type": "markdown",
   "id": "f719cd26",
   "metadata": {},
   "source": [
    "# 5. What is the value of spam[:2]?"
   ]
  },
  {
   "cell_type": "markdown",
   "id": "d233baa9",
   "metadata": {},
   "source": [
    "Answer:\n",
    "\n",
    "    '[:2]' slices the list from starting element to 1st index(slicing omits upper limit i.e.., 2nd index\n",
    "    \n",
    "    so, it return ['a','b']"
   ]
  },
  {
   "cell_type": "code",
   "execution_count": 8,
   "id": "75f0fb89",
   "metadata": {},
   "outputs": [
    {
     "data": {
      "text/plain": [
       "['a', 'b']"
      ]
     },
     "execution_count": 8,
     "metadata": {},
     "output_type": "execute_result"
    }
   ],
   "source": [
    "spam[:2]"
   ]
  },
  {
   "cell_type": "markdown",
   "id": "7532f401",
   "metadata": {},
   "source": [
    "Let's pretend bacon has the list [3.14, 'cat,' 11, 'cat,' True] for the next three questions"
   ]
  },
  {
   "cell_type": "code",
   "execution_count": 11,
   "id": "cd0d2eb6",
   "metadata": {},
   "outputs": [],
   "source": [
    "bacon = [3.14, 'cat', 11, 'cat', True]"
   ]
  },
  {
   "cell_type": "markdown",
   "id": "d96a5c68",
   "metadata": {},
   "source": [
    "# 6. What is the value of bacon.index('cat')?"
   ]
  },
  {
   "cell_type": "markdown",
   "id": "9b6f9dff",
   "metadata": {},
   "source": [
    "Answer:\n",
    "\n",
    "  **index** function return the first occurance of the given element if it is present in given list else return -1.\n",
    "  so, the value will be 1"
   ]
  },
  {
   "cell_type": "code",
   "execution_count": 12,
   "id": "2a366d64",
   "metadata": {},
   "outputs": [
    {
     "data": {
      "text/plain": [
       "1"
      ]
     },
     "execution_count": 12,
     "metadata": {},
     "output_type": "execute_result"
    }
   ],
   "source": [
    "bacon.index('cat')"
   ]
  },
  {
   "cell_type": "markdown",
   "id": "053feb1c",
   "metadata": {},
   "source": [
    "# 7. How does bacon.append(99) change the look of the list value in bacon?"
   ]
  },
  {
   "cell_type": "markdown",
   "id": "270437de",
   "metadata": {},
   "source": [
    "Answer:\n",
    "\n",
    "   **append** function adds the given element at the end of list.so, the bacon list becomes\n",
    "   \n",
    "   [3.14, 'cat', 11, 'cat', True, 99, 99]"
   ]
  },
  {
   "cell_type": "code",
   "execution_count": 21,
   "id": "4b604abe",
   "metadata": {},
   "outputs": [
    {
     "data": {
      "text/plain": [
       "[3.14, 11, 'cat', True, 99, 99]"
      ]
     },
     "execution_count": 21,
     "metadata": {},
     "output_type": "execute_result"
    }
   ],
   "source": [
    "\n",
    "bacon.append(99)\n",
    "bacon"
   ]
  },
  {
   "cell_type": "markdown",
   "id": "e3df8315",
   "metadata": {},
   "source": [
    "# 8. How does bacon.remove('cat') change the look of the list in bacon?"
   ]
  },
  {
   "cell_type": "markdown",
   "id": "956e3bb0",
   "metadata": {},
   "source": [
    "Answer:\n",
    "\n",
    "   **remove** function removes the first occurence of the element in the given list. so, the bacon list becomes\n",
    "   \n",
    "   [3.14, 11, 'cat', True, 99, 99]"
   ]
  },
  {
   "cell_type": "code",
   "execution_count": 22,
   "id": "f2394839",
   "metadata": {},
   "outputs": [
    {
     "data": {
      "text/plain": [
       "[3.14, 11, True, 99, 99]"
      ]
     },
     "execution_count": 22,
     "metadata": {},
     "output_type": "execute_result"
    }
   ],
   "source": [
    "bacon.remove('cat')\n",
    "bacon"
   ]
  },
  {
   "cell_type": "markdown",
   "id": "e2802f75",
   "metadata": {},
   "source": [
    "# 9. What are the list concatenation and list replication operators?"
   ]
  },
  {
   "cell_type": "markdown",
   "id": "f4a3b69b",
   "metadata": {},
   "source": [
    "Answer:\n",
    "\n",
    "    1. '+' operator acts as a list concatenation operator which extends 2nd list at the end of 1st list\n",
    "    2. '*' operator acts as a list replication operator which replicates all elements in the list with given number\n",
    "    "
   ]
  },
  {
   "cell_type": "code",
   "execution_count": 23,
   "id": "61c85548",
   "metadata": {},
   "outputs": [
    {
     "data": {
      "text/plain": [
       "[1, 2, 3, 4, 5, 6, 7, 8, 9]"
      ]
     },
     "execution_count": 23,
     "metadata": {},
     "output_type": "execute_result"
    }
   ],
   "source": [
    "[1,2,3,4] + [5,6,7,8,9]"
   ]
  },
  {
   "cell_type": "code",
   "execution_count": 24,
   "id": "a95b0153",
   "metadata": {},
   "outputs": [
    {
     "data": {
      "text/plain": [
       "[1, 2, 3, 4, 1, 2, 3, 4, 1, 2, 3, 4]"
      ]
     },
     "execution_count": 24,
     "metadata": {},
     "output_type": "execute_result"
    }
   ],
   "source": [
    " [1,2,3,4] * 3"
   ]
  },
  {
   "cell_type": "markdown",
   "id": "727d3e83",
   "metadata": {},
   "source": [
    "# 10. What is difference between the list methods append() and insert()?"
   ]
  },
  {
   "cell_type": "markdown",
   "id": "3754a89a",
   "metadata": {},
   "source": [
    "Answer:\n",
    "\n",
    "    1. 'append()' method adds element at the end of list\n",
    "    2. 'insert()' method adds element at the given index in the list"
   ]
  },
  {
   "cell_type": "code",
   "execution_count": 25,
   "id": "356819c7",
   "metadata": {},
   "outputs": [
    {
     "data": {
      "text/plain": [
       "[1, 2, 3, 4, 5]"
      ]
     },
     "execution_count": 25,
     "metadata": {},
     "output_type": "execute_result"
    }
   ],
   "source": [
    "lst = [1,2,3,4]\n",
    "lst.append(5)\n",
    "lst"
   ]
  },
  {
   "cell_type": "code",
   "execution_count": 34,
   "id": "8edc429c",
   "metadata": {},
   "outputs": [
    {
     "data": {
      "text/plain": [
       "[1, 2, 3, 9, 4, 5, 3]"
      ]
     },
     "execution_count": 34,
     "metadata": {},
     "output_type": "execute_result"
    }
   ],
   "source": [
    "lst.insert(3,9) # insert(index,element)\n",
    "lst"
   ]
  },
  {
   "cell_type": "markdown",
   "id": "e3e2752a",
   "metadata": {},
   "source": [
    "# 11. What are the two methods for removing items from a list?"
   ]
  },
  {
   "cell_type": "markdown",
   "id": "830a4aba",
   "metadata": {},
   "source": [
    "Answer:\n",
    "\n",
    "   **pop()** and **remove()**  methods can be used for removing items from list\n",
    "   \n",
    "   1. pop() requires index as argument and removes the value at that index and return it\n",
    "   2. remove() requires element value and removes the first occurance of the value from list"
   ]
  },
  {
   "cell_type": "code",
   "execution_count": 35,
   "id": "0ae50cbd",
   "metadata": {},
   "outputs": [
    {
     "name": "stdout",
     "output_type": "stream",
     "text": [
      "[1, 2, 3, 9, 4, 5, 3]\n",
      "After using remove method:  [2, 3, 9, 4, 5, 3]\n",
      "After using pop method:  [2, 3, 4, 5, 3]\n"
     ]
    }
   ],
   "source": [
    "print(lst)\n",
    "lst.remove(1)\n",
    "print(\"After using remove method: \",lst)\n",
    "lst.pop(2)\n",
    "print(\"After using pop method: \",lst)"
   ]
  },
  {
   "cell_type": "markdown",
   "id": "a8bd7abb",
   "metadata": {},
   "source": [
    "# 12. Describe how list values and string values are identical."
   ]
  },
  {
   "cell_type": "markdown",
   "id": "fafdffe6",
   "metadata": {},
   "source": [
    "Answer:\n",
    "\n",
    "    Lists are similar to strings, which are collections of characters, except that the elements of a list can have any type and for any one list, the items can be of different types."
   ]
  },
  {
   "cell_type": "markdown",
   "id": "488f571a",
   "metadata": {},
   "source": [
    "# 13. What's the difference between tuples and lists?"
   ]
  },
  {
   "cell_type": "markdown",
   "id": "5ed29b69",
   "metadata": {},
   "source": [
    "Answer:\n",
    "\n",
    "    The major difference between tuples and lists is that tuples are immutable whereas lists are mutable"
   ]
  },
  {
   "cell_type": "markdown",
   "id": "86cc2d70",
   "metadata": {},
   "source": [
    "# 14. How do you type a tuple value that only contains the integer 42?"
   ]
  },
  {
   "cell_type": "markdown",
   "id": "ca6acb3b",
   "metadata": {},
   "source": [
    "Answer:\n",
    "\n",
    "    If a tuple contains only one value, then a comma should be given after the value to make python interpreter understand that it is a tuple.\n",
    "    tup = (42,)\n",
    "    "
   ]
  },
  {
   "cell_type": "code",
   "execution_count": 36,
   "id": "84609a46",
   "metadata": {},
   "outputs": [
    {
     "data": {
      "text/plain": [
       "tuple"
      ]
     },
     "execution_count": 36,
     "metadata": {},
     "output_type": "execute_result"
    }
   ],
   "source": [
    "tup = (42,)\n",
    "type(tup)"
   ]
  },
  {
   "cell_type": "markdown",
   "id": "1d7181ab",
   "metadata": {},
   "source": [
    "# 15. How do you get a list value's tuple form? How do you get a tuple value's list form?"
   ]
  },
  {
   "cell_type": "markdown",
   "id": "e2930d45",
   "metadata": {},
   "source": [
    "Answer:\n",
    "\n",
    "    We can use casting to convert one datatype to another data type.\n",
    "    \n",
    "    1. tuple() is used to get a list value's tuple form.\n",
    "    2. list() is used to get a tuple value's list form"
   ]
  },
  {
   "cell_type": "markdown",
   "id": "26c00e2a",
   "metadata": {},
   "source": [
    "# 16. Variables that \"contain\" list values are not necessarily lists themselves. Instead, what do they contain?"
   ]
  },
  {
   "cell_type": "markdown",
   "id": "5f73a406",
   "metadata": {},
   "source": [
    "Answer:\n",
    "\n",
    "    Variables contain reference to the list. Python interpreter allocates memmory to the list and stores its address in the varaible but not the actual list itself."
   ]
  },
  {
   "cell_type": "markdown",
   "id": "63c978c9",
   "metadata": {},
   "source": [
    "# 17. How do you distinguish between copy.copy() and copy.deepcopy()?"
   ]
  },
  {
   "cell_type": "markdown",
   "id": "14eccd7c",
   "metadata": {},
   "source": [
    "Answer:\n",
    "\n",
    "    The difference between shallow and deep copying is only relevant for compound objects (list inside a list):\n",
    "\n",
    "    1. A shallow copy constructs a new compound object and then inserts references into it to the objects found in the original. If old object is changed, changes reflect in new object too.\n",
    "    \n",
    "    2. A deep copy constructs a new compound object and then, recursively, inserts copies into it of the objects found in the original. If old object is changed, changes will not reflect in new object(only old object gets changed)"
   ]
  },
  {
   "cell_type": "code",
   "execution_count": null,
   "id": "cfcae18a",
   "metadata": {},
   "outputs": [],
   "source": []
  }
 ],
 "metadata": {
  "kernelspec": {
   "display_name": "Python 3 (ipykernel)",
   "language": "python",
   "name": "python3"
  },
  "language_info": {
   "codemirror_mode": {
    "name": "ipython",
    "version": 3
   },
   "file_extension": ".py",
   "mimetype": "text/x-python",
   "name": "python",
   "nbconvert_exporter": "python",
   "pygments_lexer": "ipython3",
   "version": "3.9.7"
  }
 },
 "nbformat": 4,
 "nbformat_minor": 5
}
