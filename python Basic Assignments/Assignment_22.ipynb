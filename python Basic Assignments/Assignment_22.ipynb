{
 "cells": [
  {
   "cell_type": "markdown",
   "id": "d98ccbeb",
   "metadata": {},
   "source": [
    "# 1. What is the result of the code, and explain?\n",
    "\n",
    "\n",
    "    >>> X = 'iNeuron'\n",
    "    >>> def func():\n",
    "    print(X)\n",
    "\n",
    "\n",
    "    >>> func()\n"
   ]
  },
  {
   "cell_type": "markdown",
   "id": "8320bb04",
   "metadata": {},
   "source": [
    "**Answer:**\n",
    "    \n",
    "   Global variables are accessible within any function.\n",
    "    \n",
    "   so, output will be **iNeuron**"
   ]
  },
  {
   "cell_type": "code",
   "execution_count": 6,
   "id": "0b0dbda9",
   "metadata": {},
   "outputs": [
    {
     "name": "stdout",
     "output_type": "stream",
     "text": [
      "iNeuron\n"
     ]
    }
   ],
   "source": [
    "X = 'iNeuron'\n",
    "def func():\n",
    "    print(X)\n",
    "func()"
   ]
  },
  {
   "cell_type": "markdown",
   "id": "a307dc81",
   "metadata": {},
   "source": [
    "# 2. What is the result of the code, and explain?\n",
    "\n",
    "\n",
    "    >>> X = 'iNeuron'\n",
    "    >>> def func():\n",
    "    X = 'NI!'\n",
    "\n",
    "    >>> func()\n",
    "    >>> print(X)\n"
   ]
  },
  {
   "cell_type": "markdown",
   "id": "f59b6017",
   "metadata": {},
   "source": [
    "**Answer:**\n",
    "    \n",
    "   X is global variable. and X has been modified in func() inside func function but not returned.so, Once function returns, local instance of X will be destroyed and only global value will be present.\n",
    "    \n",
    "   Hence Output will be **iNeuron**"
   ]
  },
  {
   "cell_type": "code",
   "execution_count": 4,
   "id": "b7caf967",
   "metadata": {},
   "outputs": [
    {
     "name": "stdout",
     "output_type": "stream",
     "text": [
      "iNeuron\n"
     ]
    }
   ],
   "source": [
    "X = 'iNeuron'\n",
    "def func():\n",
    "    X = 'NI!'\n",
    "\n",
    "func()\n",
    "print(X)"
   ]
  },
  {
   "cell_type": "markdown",
   "id": "ad9b3397",
   "metadata": {},
   "source": [
    "# 3. What does this code print, and why?\n",
    "\n",
    "\n",
    "    >>> X = 'iNeuron'\n",
    "    >>> def func():\n",
    "    X = 'NI'\n",
    "    print(X)\n",
    "\n",
    "\n",
    "    >>> func()\n",
    "    >>> print(X)\n"
   ]
  },
  {
   "cell_type": "markdown",
   "id": "ea8d1c91",
   "metadata": {},
   "source": [
    "**Answer:**\n",
    "    \n",
    "   X is declared as a global variable and x is also local variable within func() function.so, inside function, local varaible value prints and outside of it, global value will be available.\n",
    "    \n",
    "   Hence, Output will be as follows:<br>\n",
    "        **NI**<br>\n",
    "        **iNeuron**"
   ]
  },
  {
   "cell_type": "code",
   "execution_count": 7,
   "id": "957d3897",
   "metadata": {},
   "outputs": [
    {
     "name": "stdout",
     "output_type": "stream",
     "text": [
      "NI\n",
      "iNeuron\n"
     ]
    }
   ],
   "source": [
    "X = 'iNeuron'\n",
    "def func():\n",
    "    X = 'NI'\n",
    "    print(X)\n",
    "\n",
    "\n",
    "func()\n",
    "print(X)"
   ]
  },
  {
   "cell_type": "markdown",
   "id": "76587cd3",
   "metadata": {},
   "source": [
    "# 4. What output does this code produce? Why?\n",
    "\n",
    "\n",
    "    >>> X = 'iNeuron'\n",
    "    >>> def func():\n",
    "    global X\n",
    "    X = 'NI'\n",
    "\n",
    "\n",
    "    >>> func()\n",
    "    >>> print(X)\n"
   ]
  },
  {
   "cell_type": "markdown",
   "id": "df8f4b96",
   "metadata": {},
   "source": [
    "**Answer:**\n",
    "    \n",
    "   X is declared as global variable inside function. so, it will overwrite value of x outside function as well.\n",
    "    \n",
    "   Hence, Output will be **NI**"
   ]
  },
  {
   "cell_type": "code",
   "execution_count": 8,
   "id": "5cf6eb25",
   "metadata": {},
   "outputs": [
    {
     "name": "stdout",
     "output_type": "stream",
     "text": [
      "NI\n"
     ]
    }
   ],
   "source": [
    "X = 'iNeuron'\n",
    "def func():\n",
    "    global X\n",
    "    X = 'NI'\n",
    "\n",
    "func()\n",
    "print(X)"
   ]
  },
  {
   "cell_type": "markdown",
   "id": "22e8a9c8",
   "metadata": {},
   "source": [
    "# 5. What about this code—what’s the output, and why?\n",
    "\n",
    "\n",
    "    >>> X = 'iNeuron'\n",
    "    >>> def func():\n",
    "    X = 'NI'\n",
    "    def nested():\n",
    "    print(X)\n",
    "    nested()\n",
    "\n",
    "\n",
    "    >>> func()\n",
    "    >>> X\n"
   ]
  },
  {
   "cell_type": "markdown",
   "id": "7c807f6e",
   "metadata": {},
   "source": [
    "**Answer:**\n",
    "    \n",
    "   X = 'NI' is the local value of func().so, when accessed from nested() function, it will fetch global value.\n",
    "    \n",
    "   Hence, Output will be as follows:<br>\n",
    "        **iNeuron**<br>\n",
    "        **iNeuron**"
   ]
  },
  {
   "cell_type": "code",
   "execution_count": 10,
   "id": "e353570c",
   "metadata": {},
   "outputs": [
    {
     "name": "stdout",
     "output_type": "stream",
     "text": [
      "iNeuron\n",
      "iNeuron\n"
     ]
    }
   ],
   "source": [
    "X = 'iNeuron'\n",
    "def func():\n",
    "    X = 'NI'\n",
    "def nested():\n",
    "    print(X)\n",
    "nested()\n",
    "\n",
    "func()\n",
    "print(X)"
   ]
  },
  {
   "cell_type": "markdown",
   "id": "2d9a9a08",
   "metadata": {},
   "source": [
    "# 6. How about this code: what is its output in Python 3, and explain?\n",
    "\n",
    "\n",
    "    >>> def func():\n",
    "    X = 'NI'\n",
    "    def nested():\n",
    "    nonlocal X\n",
    "    X = 'Spam'\n",
    "    nested()\n",
    "    print(X)\n",
    "\n",
    "\n",
    "    >>> func()\n"
   ]
  },
  {
   "cell_type": "markdown",
   "id": "0a4125eb",
   "metadata": {},
   "source": [
    "**Answer:**\n",
    "    \n",
    "   Nonlocal variables are used in nested functions whose local scope is not defined.This means that the variable can be neither in the local nor the global scope. It print the updated value from nested \n",
    "function.\n",
    "\n",
    "   Hence, Output will be **Spam**"
   ]
  },
  {
   "cell_type": "code",
   "execution_count": 14,
   "id": "7dd81f23",
   "metadata": {},
   "outputs": [
    {
     "name": "stdout",
     "output_type": "stream",
     "text": [
      "Spam\n"
     ]
    }
   ],
   "source": [
    "def func():\n",
    "    X = 'NI'\n",
    "    def nested():\n",
    "        nonlocal X\n",
    "        X = 'Spam'\n",
    "    nested()\n",
    "    print(X)\n",
    "\n",
    "func()"
   ]
  },
  {
   "cell_type": "code",
   "execution_count": null,
   "id": "53f08b35",
   "metadata": {},
   "outputs": [],
   "source": []
  }
 ],
 "metadata": {
  "kernelspec": {
   "display_name": "Python 3 (ipykernel)",
   "language": "python",
   "name": "python3"
  },
  "language_info": {
   "codemirror_mode": {
    "name": "ipython",
    "version": 3
   },
   "file_extension": ".py",
   "mimetype": "text/x-python",
   "name": "python",
   "nbconvert_exporter": "python",
   "pygments_lexer": "ipython3",
   "version": "3.9.7"
  }
 },
 "nbformat": 4,
 "nbformat_minor": 5
}
