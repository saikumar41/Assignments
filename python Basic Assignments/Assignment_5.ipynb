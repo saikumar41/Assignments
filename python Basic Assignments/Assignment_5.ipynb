{
 "cells": [
  {
   "cell_type": "markdown",
   "id": "8342949f",
   "metadata": {},
   "source": [
    "# 1. What does an empty dictionary's code look like?"
   ]
  },
  {
   "cell_type": "markdown",
   "id": "b2dc0a15",
   "metadata": {},
   "source": [
    "Answer:\n",
    "\n",
    "    An empty dictinary doesnot contain any key and value pairs. It looks like {}"
   ]
  },
  {
   "cell_type": "code",
   "execution_count": 1,
   "id": "74f72014",
   "metadata": {},
   "outputs": [
    {
     "data": {
      "text/plain": [
       "{}"
      ]
     },
     "execution_count": 1,
     "metadata": {},
     "output_type": "execute_result"
    }
   ],
   "source": [
    "dict()"
   ]
  },
  {
   "cell_type": "markdown",
   "id": "0910bbcf",
   "metadata": {},
   "source": [
    "# 2. What is the value of a dictionary value with the key 'foo' and the value 42?"
   ]
  },
  {
   "cell_type": "markdown",
   "id": "ec8ffb74",
   "metadata": {},
   "source": [
    "Answer:\n",
    "\n",
    "    The dictionary looks like {'foo':42}"
   ]
  },
  {
   "cell_type": "code",
   "execution_count": 2,
   "id": "a12407e0",
   "metadata": {},
   "outputs": [
    {
     "data": {
      "text/plain": [
       "{'foo': 42}"
      ]
     },
     "execution_count": 2,
     "metadata": {},
     "output_type": "execute_result"
    }
   ],
   "source": [
    "d = {'foo':42}\n",
    "d"
   ]
  },
  {
   "cell_type": "markdown",
   "id": "5c73bbd8",
   "metadata": {},
   "source": [
    "# 3. What is the most significant distinction between a dictionary and a list?"
   ]
  },
  {
   "cell_type": "markdown",
   "id": "3cbe358f",
   "metadata": {},
   "source": [
    "Answer:\n",
    "\n",
    "    The values of a dictionary are accessed using its respective keys whereas the values of a list are accessed using its indexes."
   ]
  },
  {
   "cell_type": "markdown",
   "id": "8daa79d9",
   "metadata": {},
   "source": [
    "# 4. What happens if you try to access spam['foo'] if spam is {'bar': 100}?"
   ]
  },
  {
   "cell_type": "markdown",
   "id": "786092c1",
   "metadata": {},
   "source": [
    "Answer:\n",
    "\n",
    "   We will get a **key error** when we try to access a key that doesnot exist in dictionary "
   ]
  },
  {
   "cell_type": "code",
   "execution_count": 3,
   "id": "c84555a2",
   "metadata": {},
   "outputs": [
    {
     "ename": "KeyError",
     "evalue": "'foo'",
     "output_type": "error",
     "traceback": [
      "\u001b[1;31m---------------------------------------------------------------------------\u001b[0m",
      "\u001b[1;31mKeyError\u001b[0m                                  Traceback (most recent call last)",
      "\u001b[1;32m~\\AppData\\Local\\Temp/ipykernel_20680/414641506.py\u001b[0m in \u001b[0;36m<module>\u001b[1;34m\u001b[0m\n\u001b[0;32m      1\u001b[0m \u001b[0mspam\u001b[0m \u001b[1;33m=\u001b[0m \u001b[1;33m{\u001b[0m\u001b[1;34m'bar'\u001b[0m\u001b[1;33m:\u001b[0m \u001b[1;36m100\u001b[0m\u001b[1;33m}\u001b[0m\u001b[1;33m\u001b[0m\u001b[1;33m\u001b[0m\u001b[0m\n\u001b[1;32m----> 2\u001b[1;33m \u001b[0mspam\u001b[0m\u001b[1;33m[\u001b[0m\u001b[1;34m'foo'\u001b[0m\u001b[1;33m]\u001b[0m\u001b[1;33m\u001b[0m\u001b[1;33m\u001b[0m\u001b[0m\n\u001b[0m",
      "\u001b[1;31mKeyError\u001b[0m: 'foo'"
     ]
    }
   ],
   "source": [
    "spam = {'bar': 100}\n",
    "spam['foo']"
   ]
  },
  {
   "cell_type": "markdown",
   "id": "2658e7d6",
   "metadata": {},
   "source": [
    "# 5. If a dictionary is stored in spam, what is the difference between the expressions 'cat' in spam and 'cat' in spam.keys()?"
   ]
  },
  {
   "cell_type": "code",
   "execution_count": null,
   "id": "f00834f6",
   "metadata": {},
   "outputs": [],
   "source": [
    "Answer:\n",
    "    \n",
    "    Both expressions gives same results.\n",
    "    1. first expression searches for value in the keys of dictionary\n",
    "    2. second expression searches for value ini the list of keys of dictionary\n",
    "    "
   ]
  },
  {
   "cell_type": "code",
   "execution_count": 11,
   "id": "76a5a4cc",
   "metadata": {},
   "outputs": [
    {
     "data": {
      "text/plain": [
       "False"
      ]
     },
     "execution_count": 11,
     "metadata": {},
     "output_type": "execute_result"
    }
   ],
   "source": [
    "'cat' in spam"
   ]
  },
  {
   "cell_type": "code",
   "execution_count": 12,
   "id": "3c3ee939",
   "metadata": {},
   "outputs": [
    {
     "data": {
      "text/plain": [
       "False"
      ]
     },
     "execution_count": 12,
     "metadata": {},
     "output_type": "execute_result"
    }
   ],
   "source": [
    "'cat' in spam.keys()"
   ]
  },
  {
   "cell_type": "markdown",
   "id": "ff5f053d",
   "metadata": {},
   "source": [
    "# 6. If a dictionary is stored in spam, what is the difference between the expressions 'cat' in spam and 'cat' in spam.values()?"
   ]
  },
  {
   "cell_type": "markdown",
   "id": "22708741",
   "metadata": {},
   "source": [
    "Answer:\n",
    "\n",
    "    1. First Expression searches for 'cat' in keys of dictionary whereas\n",
    "    2. second expression searches for 'cat' in liat of values of dictionary"
   ]
  },
  {
   "cell_type": "markdown",
   "id": "7d22a78c",
   "metadata": {},
   "source": [
    "# 7. What is a shortcut for the following code?\n",
    "if 'color' not in spam:\n",
    "\n",
    "spam['color'] = 'black'\n"
   ]
  },
  {
   "cell_type": "markdown",
   "id": "1c37a109",
   "metadata": {},
   "source": [
    "Answer:\n",
    "\n",
    "    setdafault() method can be used for the same purpose. It will insert default value into dictionary if key is not present else returns the value of the kay from dictionary"
   ]
  },
  {
   "cell_type": "code",
   "execution_count": 13,
   "id": "c66d9f6e",
   "metadata": {},
   "outputs": [
    {
     "data": {
      "text/plain": [
       "3"
      ]
     },
     "execution_count": 13,
     "metadata": {},
     "output_type": "execute_result"
    }
   ],
   "source": [
    "spam = {'first':1,'second':2,'Third':3}\n",
    "spam.setdefault('Third')"
   ]
  },
  {
   "cell_type": "code",
   "execution_count": 14,
   "id": "61d6280a",
   "metadata": {},
   "outputs": [
    {
     "data": {
      "text/plain": [
       "{'first': 1, 'second': 2, 'Third': 3, 'Fourth': 4}"
      ]
     },
     "execution_count": 14,
     "metadata": {},
     "output_type": "execute_result"
    }
   ],
   "source": [
    "spam.setdefault('Fourth',4)\n",
    "spam"
   ]
  },
  {
   "cell_type": "markdown",
   "id": "a6686b08",
   "metadata": {},
   "source": [
    "# 8. How do you \"pretty print\" dictionary values using which module and function?"
   ]
  },
  {
   "cell_type": "markdown",
   "id": "9ac82019",
   "metadata": {},
   "source": [
    "Answer:\n",
    "\n",
    "**pprint function** from **pprint module** can be used to pretty print dictionary values"
   ]
  },
  {
   "cell_type": "code",
   "execution_count": 16,
   "id": "fef43965",
   "metadata": {},
   "outputs": [
    {
     "name": "stdout",
     "output_type": "stream",
     "text": [
      "{'Fourth': 4, 'Third': 3, 'first': 1, 'second': 2}\n"
     ]
    }
   ],
   "source": [
    "import pprint\n",
    "pprint.pprint(spam)"
   ]
  }
 ],
 "metadata": {
  "kernelspec": {
   "display_name": "Python 3 (ipykernel)",
   "language": "python",
   "name": "python3"
  },
  "language_info": {
   "codemirror_mode": {
    "name": "ipython",
    "version": 3
   },
   "file_extension": ".py",
   "mimetype": "text/x-python",
   "name": "python",
   "nbconvert_exporter": "python",
   "pygments_lexer": "ipython3",
   "version": "3.9.7"
  }
 },
 "nbformat": 4,
 "nbformat_minor": 5
}
