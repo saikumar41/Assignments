{
 "cells": [
  {
   "cell_type": "markdown",
   "id": "59dd8bfd",
   "metadata": {},
   "source": [
    "# 1. In what modes should the PdfFileReader() and PdfFileWriter() File objects will be opened?"
   ]
  },
  {
   "cell_type": "markdown",
   "id": "00c70165",
   "metadata": {},
   "source": [
    "**Answer:**\n",
    "    \n",
    "   - Read-binary ('rb') for PdfFileReader()\n",
    "   - write-binary ('wb') for PdfFileWriter()"
   ]
  },
  {
   "cell_type": "markdown",
   "id": "953b5f53",
   "metadata": {},
   "source": [
    "# 2. From a PdfFileReader object, how do you get a Page object for page 5?"
   ]
  },
  {
   "cell_type": "markdown",
   "id": "2a0156ff",
   "metadata": {},
   "source": [
    "**Answer:**\n",
    "    \n",
    "   We can call **getPage(4)** will return a Page object for page 5, since page numbers start with 0"
   ]
  },
  {
   "cell_type": "markdown",
   "id": "662d4de2",
   "metadata": {},
   "source": [
    "# 3. What PdfFileReader variable stores the number of pages in the PDF document?"
   ]
  },
  {
   "cell_type": "markdown",
   "id": "dad55f6a",
   "metadata": {},
   "source": [
    "**Answer:**\n",
    "    \n",
    "   **numPages** variable stores the number of pages in the **PdfFileReader** object."
   ]
  },
  {
   "cell_type": "markdown",
   "id": "c10b17bc",
   "metadata": {},
   "source": [
    "# 4. If a PdfFileReader object’s PDF is encrypted with the password swordfish, what must you do before you can obtain Page objects from it?"
   ]
  },
  {
   "cell_type": "markdown",
   "id": "5f827468",
   "metadata": {},
   "source": [
    "**Answer:**\n",
    "    \n",
    "   We should call **decrypt('swordfish')** before we can obtain Page objects from PdfFileReader object"
   ]
  },
  {
   "cell_type": "markdown",
   "id": "ef8ba393",
   "metadata": {},
   "source": [
    "# 5. What methods do you use to rotate a page?"
   ]
  },
  {
   "cell_type": "markdown",
   "id": "6463b4e4",
   "metadata": {},
   "source": [
    "**Answer:**\n",
    "    \n",
    "   - The **rotateClockwise()** method rotates the page clockwise.\n",
    "   - The **rotateCounterClockwise()** method rotates the page anticlockwise. \n",
    "   - degrees to rotate is passed as an integer argument."
   ]
  },
  {
   "cell_type": "markdown",
   "id": "633290b2",
   "metadata": {},
   "source": [
    "# 6. What is the difference between a Run object and a Paragraph object?"
   ]
  },
  {
   "cell_type": "markdown",
   "id": "9eac29af",
   "metadata": {},
   "source": [
    "**Answer:**\n",
    "    \n",
    "   - Runs are contiguous groups of characters within a paragraph.\n",
    "   - A document contains multiple paragraphs. A paragraph begins on a new line and contains multiple runs. "
   ]
  },
  {
   "cell_type": "markdown",
   "id": "2a0217f9",
   "metadata": {},
   "source": [
    "# 7. How do you obtain a list of Paragraph objects for a Document object that’s stored in a variable named doc?"
   ]
  },
  {
   "cell_type": "markdown",
   "id": "306892a1",
   "metadata": {},
   "source": [
    "**Answer:**\n",
    "    \n",
    "    We can call doc.paragraphs\n",
    "   **doc.paragraphs** variable contains a list of Paragraph objects for a Document object that’s stored in a variable named doc"
   ]
  },
  {
   "cell_type": "markdown",
   "id": "c6e985df",
   "metadata": {},
   "source": [
    "# 8. What type of object has bold, underline, italic, strike, and outline variables?"
   ]
  },
  {
   "cell_type": "markdown",
   "id": "38db2c71",
   "metadata": {},
   "source": [
    "**Answer:**\n",
    "    \n",
    "    A Run object has bold, underline, italic, strike, and outline variables"
   ]
  },
  {
   "cell_type": "markdown",
   "id": "67e0cc04",
   "metadata": {},
   "source": [
    "# 9. What is the difference between False, True, and None for the bold variable?"
   ]
  },
  {
   "cell_type": "markdown",
   "id": "f908c70c",
   "metadata": {},
   "source": [
    "**Answer:**\n",
    "    \n",
    "   - True always makes the Run object bolded\n",
    "   - False makes it always not bolded, no matter what the style’s bold setting is.\n",
    "   - None will make the Run object just use the style’s bold setting."
   ]
  },
  {
   "cell_type": "markdown",
   "id": "b614e9d9",
   "metadata": {},
   "source": [
    "# 10. How do you create a Document object for a new Word document?"
   ]
  },
  {
   "cell_type": "markdown",
   "id": "d9705e59",
   "metadata": {},
   "source": [
    "**Answer:**\n",
    "    \n",
    "   **docx.Document()** function is used to create a Document object for a new Word document"
   ]
  },
  {
   "cell_type": "markdown",
   "id": "213c1e09",
   "metadata": {},
   "source": [
    "# 11. How do you add a paragraph with the text 'Hello, there!' to a Document object stored in a variable named doc?"
   ]
  },
  {
   "cell_type": "markdown",
   "id": "d559886e",
   "metadata": {},
   "source": [
    "**Answer:**\n",
    "    \n",
    "   By calling **doc.add_paragraph('Hello, there!')**, we can add a paragraph with the text 'Hello, there!' to a Document object stored in a variable named doc"
   ]
  },
  {
   "cell_type": "markdown",
   "id": "7ac1cc42",
   "metadata": {},
   "source": [
    "# 12. What integers represent the levels of headings available in Word documents?"
   ]
  },
  {
   "cell_type": "markdown",
   "id": "5363bf35",
   "metadata": {},
   "source": [
    "**Answer:**\n",
    "    \n",
    "   Integers **0,1,2,3,4** represent the levels of headings available in Word documents\n",
    "        The integer **0** makes the heading the **Title style**, which is used for the top of the document. Integers 1 to 4 are for various heading levels, with 1 being the main heading and 4 the lowest subheading."
   ]
  },
  {
   "cell_type": "code",
   "execution_count": null,
   "id": "5f98eb6a",
   "metadata": {},
   "outputs": [],
   "source": []
  }
 ],
 "metadata": {
  "kernelspec": {
   "display_name": "Python 3 (ipykernel)",
   "language": "python",
   "name": "python3"
  },
  "language_info": {
   "codemirror_mode": {
    "name": "ipython",
    "version": 3
   },
   "file_extension": ".py",
   "mimetype": "text/x-python",
   "name": "python",
   "nbconvert_exporter": "python",
   "pygments_lexer": "ipython3",
   "version": "3.9.7"
  }
 },
 "nbformat": 4,
 "nbformat_minor": 5
}
