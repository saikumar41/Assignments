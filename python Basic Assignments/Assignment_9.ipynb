{
 "cells": [
  {
   "cell_type": "markdown",
   "id": "47a2a4df",
   "metadata": {},
   "source": [
    "# 1. To what does a relative path refer?"
   ]
  },
  {
   "cell_type": "markdown",
   "id": "f90374c0",
   "metadata": {},
   "source": [
    "**Answer:**\n",
    "    \n",
    "   A relative path refers to a location that is relative to a current directory.Relative paths make use of two special symbols, a dot (.) and a double-dot (..), which translate into the current directory and the parent directory. Double dots are used for moving up in the hierarchy. A single dot represents the current directory itself.\n",
    "   \n",
    "   Eg: let current directory be 'c:\\apps\\new' and destination directory be 'c:\\apps\\old\\ then relative path would be '..\\old' with respect to current directory\n",
    "    \n",
    "    "
   ]
  },
  {
   "cell_type": "markdown",
   "id": "19e4ce60",
   "metadata": {},
   "source": [
    "# 2. What does an absolute path start with your operating system?"
   ]
  },
  {
   "cell_type": "markdown",
   "id": "5861d638",
   "metadata": {},
   "source": [
    "**Answer:**\n",
    "    \n",
    "   - for windows operating system, absolute path start with volume or drive letter followed by the volume separator (:).\n",
    "   - for unix operating system, absolute path always begin with the slash (/) symbol which refers to root"
   ]
  },
  {
   "cell_type": "markdown",
   "id": "fbe2b015",
   "metadata": {},
   "source": [
    "# 3. What do the functions os.getcwd() and os.chdir() do?"
   ]
  },
  {
   "cell_type": "markdown",
   "id": "3f9142e4",
   "metadata": {},
   "source": [
    "**Answer:**\n",
    "    \n",
    "   - **os.getcwd()** method returns current working directory of a process.\n",
    "   - **os.chdir()** method is used to change the current directory."
   ]
  },
  {
   "cell_type": "markdown",
   "id": "0b42419b",
   "metadata": {},
   "source": [
    "# 4. What are the . and .. folders?"
   ]
  },
  {
   "cell_type": "markdown",
   "id": "1710fe3e",
   "metadata": {},
   "source": [
    "**Answer:**\n",
    "    \n",
    "   - . represents the current directory\n",
    "   - .. represents the parent directory"
   ]
  },
  {
   "cell_type": "markdown",
   "id": "4dfd2826",
   "metadata": {},
   "source": [
    "# 5. In C:\\bacon\\eggs\\spam.txt, which part is the dir name, and which part is the base name?"
   ]
  },
  {
   "cell_type": "markdown",
   "id": "17af8a79",
   "metadata": {},
   "source": [
    "**Answer:**\n",
    "    \n",
    "   - **C:\\bacon\\eggs** is the **dir name.**\n",
    "   - **spam.txt** is the **base name.**"
   ]
  },
  {
   "cell_type": "markdown",
   "id": "5a159697",
   "metadata": {},
   "source": [
    "# 6. What are the three “mode” arguments that can be passed to the open() function?"
   ]
  },
  {
   "cell_type": "markdown",
   "id": "487bb6c2",
   "metadata": {},
   "source": [
    "**Answer:**\n",
    "    \n",
    "   The 3 mode arguments that can be passed to open() functin are:\n",
    "   \n",
    "       - 'r' for read mode\n",
    "       - 'w' for write mode\n",
    "       - 'a' for append mode"
   ]
  },
  {
   "cell_type": "markdown",
   "id": "c49ac727",
   "metadata": {},
   "source": [
    "# 7. What happens if an existing file is opened in write mode?"
   ]
  },
  {
   "cell_type": "markdown",
   "id": "ae9c178e",
   "metadata": {},
   "source": [
    "**Answer:**\n",
    "    \n",
    "   If an existing file is opened in write mode, The file will be erased and completely overwritten."
   ]
  },
  {
   "cell_type": "markdown",
   "id": "b51c7b0a",
   "metadata": {},
   "source": [
    "# 8. How do you tell the difference between read() and readlines()?"
   ]
  },
  {
   "cell_type": "markdown",
   "id": "dea9fa5c",
   "metadata": {},
   "source": [
    "**Answer:**\n",
    "    \n",
    "   - **read()** method retruns the entire content of file as a **single string**.\n",
    "   - **readlines()** method returns the content of file as a **list of strings** where each string is each line from the file"
   ]
  },
  {
   "cell_type": "markdown",
   "id": "23821c5b",
   "metadata": {},
   "source": [
    "# 9. What data structure does a shelf value resemble?"
   ]
  },
  {
   "cell_type": "markdown",
   "id": "6274985d",
   "metadata": {},
   "source": [
    "**Answer:**\n",
    "    \n",
    "   A shelf value resembles a dictionary data structure.Just like dictionaries, shelf values have keys() and values() methods that will return list-like values of the keys and values in the shelf."
   ]
  },
  {
   "cell_type": "code",
   "execution_count": null,
   "id": "0f55ffd1",
   "metadata": {},
   "outputs": [],
   "source": []
  }
 ],
 "metadata": {
  "kernelspec": {
   "display_name": "Python 3 (ipykernel)",
   "language": "python",
   "name": "python3"
  },
  "language_info": {
   "codemirror_mode": {
    "name": "ipython",
    "version": 3
   },
   "file_extension": ".py",
   "mimetype": "text/x-python",
   "name": "python",
   "nbconvert_exporter": "python",
   "pygments_lexer": "ipython3",
   "version": "3.9.7"
  }
 },
 "nbformat": 4,
 "nbformat_minor": 5
}
