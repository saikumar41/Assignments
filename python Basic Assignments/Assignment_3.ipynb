{
 "cells": [
  {
   "cell_type": "markdown",
   "id": "f7f6e73b",
   "metadata": {},
   "source": [
    "# 1. Why are functions advantageous to have in your programs?"
   ]
  },
  {
   "cell_type": "markdown",
   "id": "f2336741",
   "metadata": {},
   "source": []
  },
  {
   "cell_type": "markdown",
   "id": "11e7b4a5",
   "metadata": {},
   "source": [
    "# 2. When does the code in a function run: when it's specified or when it's called?"
   ]
  },
  {
   "cell_type": "markdown",
   "id": "c106862d",
   "metadata": {},
   "source": []
  },
  {
   "cell_type": "markdown",
   "id": "6a31ca2f",
   "metadata": {},
   "source": [
    "# 3. What statement creates a function?"
   ]
  },
  {
   "cell_type": "markdown",
   "id": "dc73043c",
   "metadata": {},
   "source": []
  },
  {
   "cell_type": "markdown",
   "id": "93bbd948",
   "metadata": {},
   "source": [
    "# 4. What is the difference between a function and a function call?"
   ]
  },
  {
   "cell_type": "markdown",
   "id": "ca663713",
   "metadata": {},
   "source": []
  },
  {
   "cell_type": "markdown",
   "id": "c941a2ac",
   "metadata": {},
   "source": [
    "# 5. How many global scopes are there in a Python program? How many local scopes?"
   ]
  },
  {
   "cell_type": "markdown",
   "id": "b72f0e5b",
   "metadata": {},
   "source": []
  },
  {
   "cell_type": "markdown",
   "id": "0ce0a57d",
   "metadata": {},
   "source": [
    "# 6. What happens to variables in a local scope when the function call returns?"
   ]
  },
  {
   "cell_type": "markdown",
   "id": "9bd3ec52",
   "metadata": {},
   "source": []
  },
  {
   "cell_type": "markdown",
   "id": "20592d95",
   "metadata": {},
   "source": [
    "# 7. What is the concept of a return value? Is it possible to have a return value in an expression?"
   ]
  },
  {
   "cell_type": "markdown",
   "id": "5c9dfb79",
   "metadata": {},
   "source": []
  },
  {
   "cell_type": "markdown",
   "id": "08ab70cf",
   "metadata": {},
   "source": [
    "# 8. If a function does not have a return statement, what is the return value of a call to that function?"
   ]
  },
  {
   "cell_type": "markdown",
   "id": "a35df04b",
   "metadata": {},
   "source": []
  },
  {
   "cell_type": "markdown",
   "id": "4bdbd479",
   "metadata": {},
   "source": [
    "# 9. How do you make a function variable refer to the global variable?"
   ]
  },
  {
   "cell_type": "markdown",
   "id": "7af497c2",
   "metadata": {},
   "source": []
  },
  {
   "cell_type": "markdown",
   "id": "fc78a166",
   "metadata": {},
   "source": [
    "# 10. What is the data type of None?"
   ]
  },
  {
   "cell_type": "markdown",
   "id": "64668fd3",
   "metadata": {},
   "source": []
  },
  {
   "cell_type": "markdown",
   "id": "abf4b216",
   "metadata": {},
   "source": [
    "# 11. What does the sentence import areallyourpetsnamederic do?"
   ]
  },
  {
   "cell_type": "markdown",
   "id": "8f6df6f6",
   "metadata": {},
   "source": []
  },
  {
   "cell_type": "markdown",
   "id": "8193cf91",
   "metadata": {},
   "source": [
    "# 12. If you had a bacon() feature in a spam module, what would you call it after importing spam?"
   ]
  },
  {
   "cell_type": "markdown",
   "id": "aeb1afda",
   "metadata": {},
   "source": []
  },
  {
   "cell_type": "markdown",
   "id": "c3d30206",
   "metadata": {},
   "source": [
    "# 13. What can you do to save a programme from crashing if it encounters an error?"
   ]
  },
  {
   "cell_type": "markdown",
   "id": "5a5ced79",
   "metadata": {},
   "source": []
  },
  {
   "cell_type": "markdown",
   "id": "f9a12cb9",
   "metadata": {},
   "source": [
    "# 14. What is the purpose of the try clause? What is the purpose of the except clause?"
   ]
  },
  {
   "cell_type": "markdown",
   "id": "5fa64ae9",
   "metadata": {},
   "source": []
  }
 ],
 "metadata": {
  "kernelspec": {
   "display_name": "Python 3 (ipykernel)",
   "language": "python",
   "name": "python3"
  },
  "language_info": {
   "codemirror_mode": {
    "name": "ipython",
    "version": 3
   },
   "file_extension": ".py",
   "mimetype": "text/x-python",
   "name": "python",
   "nbconvert_exporter": "python",
   "pygments_lexer": "ipython3",
   "version": "3.9.7"
  }
 },
 "nbformat": 4,
 "nbformat_minor": 5
}
