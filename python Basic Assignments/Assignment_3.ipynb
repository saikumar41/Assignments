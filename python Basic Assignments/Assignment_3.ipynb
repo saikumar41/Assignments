{
 "cells": [
  {
   "cell_type": "markdown",
   "id": "f7f6e73b",
   "metadata": {},
   "source": [
    "# 1. Why are functions advantageous to have in your programs?"
   ]
  },
  {
   "cell_type": "markdown",
   "id": "f2336741",
   "metadata": {},
   "source": [
    "Answer:\n",
    "\n",
    "    Advantageous of having functions in our programs are :\n",
    "        1. code reuse\n",
    "        2. Breaking of complex code into smaller pieces\n",
    "        3. Improve code clarity for readability\n",
    "        4. remove code duplications\n"
   ]
  },
  {
   "cell_type": "markdown",
   "id": "11e7b4a5",
   "metadata": {},
   "source": [
    "# 2. When does the code in a function run: when it's specified or when it's called?"
   ]
  },
  {
   "cell_type": "markdown",
   "id": "c106862d",
   "metadata": {},
   "source": [
    "Answer:\n",
    "\n",
    "   A function is run **only when it is called**.When a function is specified, We just defines the function(what needs to be done when that is called). It will get executed only when it is called"
   ]
  },
  {
   "cell_type": "markdown",
   "id": "6a31ca2f",
   "metadata": {},
   "source": [
    "# 3. What statement creates a function?"
   ]
  },
  {
   "cell_type": "markdown",
   "id": "568591d1",
   "metadata": {},
   "source": [
    "Answer:\n",
    "\n",
    "**def** is the keyowrd used to create a function.\n",
    "\n",
    "eg:\n"
   ]
  },
  {
   "cell_type": "code",
   "execution_count": 1,
   "id": "d5ac468a",
   "metadata": {},
   "outputs": [],
   "source": [
    "def test():\n",
    "    pass"
   ]
  },
  {
   "cell_type": "markdown",
   "id": "93bbd948",
   "metadata": {},
   "source": [
    "# 4. What is the difference between a function and a function call?"
   ]
  },
  {
   "cell_type": "markdown",
   "id": "ca663713",
   "metadata": {},
   "source": [
    "Answer:\n",
    "\n",
    "    1. function - function is a block where we define the definition ( sequence of instructions) to be executed.\n",
    "    2. function call - A function call is a block where we instruct to execute the function definition."
   ]
  },
  {
   "cell_type": "markdown",
   "id": "c941a2ac",
   "metadata": {},
   "source": [
    "# 5. How many global scopes are there in a Python program? How many local scopes?"
   ]
  },
  {
   "cell_type": "markdown",
   "id": "b72f0e5b",
   "metadata": {},
   "source": [
    "Answer:\n",
    "\n",
    "There is only one global scope in a python program. Whereas there can be any number of local scopes. each function/class acts as its own local scope."
   ]
  },
  {
   "cell_type": "markdown",
   "id": "0ce0a57d",
   "metadata": {},
   "source": [
    "# 6. What happens to variables in a local scope when the function call returns?"
   ]
  },
  {
   "cell_type": "markdown",
   "id": "9bd3ec52",
   "metadata": {},
   "source": [
    "Answer:\n",
    "\n",
    "The Variables in local scope gets removed from memory once the function call is returned. It will create another set of local varaibles when a function is called again."
   ]
  },
  {
   "cell_type": "markdown",
   "id": "20592d95",
   "metadata": {},
   "source": [
    "# 7. What is the concept of a return value? Is it possible to have a return value in an expression?"
   ]
  },
  {
   "cell_type": "markdown",
   "id": "5c9dfb79",
   "metadata": {},
   "source": [
    "Answer:\n",
    "\n",
    "Once the function defintition is executed, it can return a value to the function call.The return statement is used to return a value from the function call. Yes, It is possible to have a return value in an expression"
   ]
  },
  {
   "cell_type": "markdown",
   "id": "08ab70cf",
   "metadata": {},
   "source": [
    "# 8. If a function does not have a return statement, what is the return value of a call to that function?"
   ]
  },
  {
   "cell_type": "markdown",
   "id": "a35df04b",
   "metadata": {},
   "source": [
    "Answer:\n",
    "\n",
    "If a function doesnot have a return statement, then **null** will be return value to the function call. When a function is called, control will execute function defintion till last line and if there is no retrun statement, then will return **null** value"
   ]
  },
  {
   "cell_type": "markdown",
   "id": "4bdbd479",
   "metadata": {},
   "source": [
    "# 9. How do you make a function variable refer to the global variable?"
   ]
  },
  {
   "cell_type": "markdown",
   "id": "7af497c2",
   "metadata": {},
   "source": [
    "Answer:\n",
    "\n",
    "**global** keyword can be used to make a function variable refer to the global variable. Please find the sample code below"
   ]
  },
  {
   "cell_type": "code",
   "execution_count": 7,
   "id": "c6413b02",
   "metadata": {},
   "outputs": [
    {
     "name": "stdout",
     "output_type": "stream",
     "text": [
      "inside test function b =  2\n",
      "Outside test funcion b =  2\n"
     ]
    }
   ],
   "source": [
    "\n",
    "def func():\n",
    "    global b\n",
    "    b = 2\n",
    "    print(\"inside test function b = \",b)\n",
    "func()\n",
    "print(\"Outside test funcion b = \" ,b)"
   ]
  },
  {
   "cell_type": "markdown",
   "id": "fc78a166",
   "metadata": {},
   "source": [
    "\n",
    "# 10. What is the data type of None?"
   ]
  },
  {
   "cell_type": "markdown",
   "id": "64668fd3",
   "metadata": {},
   "source": [
    "Answer:\n",
    "\n",
    "None is a datatype used to define a null value. It is not same as that of 0,false,nullstring...etc. It is datatype of class's nonetype object.\n",
    "\n",
    "This can be used to set a variable to its original empty state."
   ]
  },
  {
   "cell_type": "markdown",
   "id": "abf4b216",
   "metadata": {},
   "source": [
    "# 11. What does the sentence import areallyourpetsnamederic do?"
   ]
  },
  {
   "cell_type": "markdown",
   "id": "8f6df6f6",
   "metadata": {},
   "source": [
    "Answer:\n",
    "\n",
    "The statement import areallyourpetsnamederic imports areallyourpetsnamederic module to our current program. It makes all functions,varaiables,classes of areallyourpetsnamederic avaialble in current program."
   ]
  },
  {
   "cell_type": "markdown",
   "id": "8193cf91",
   "metadata": {},
   "source": [
    "# 12. If you had a bacon() feature in a spam module, what would you call it after importing spam?"
   ]
  },
  {
   "cell_type": "markdown",
   "id": "aeb1afda",
   "metadata": {},
   "source": [
    "Answer:\n",
    "\n",
    "import spam\n",
    "\n",
    "spam.bacon()"
   ]
  },
  {
   "cell_type": "markdown",
   "id": "c3d30206",
   "metadata": {},
   "source": [
    "# 13. What can you do to save a programme from crashing if it encounters an error?"
   ]
  },
  {
   "cell_type": "markdown",
   "id": "5a5ced79",
   "metadata": {},
   "source": [
    "Answer:\n",
    "\n",
    "We can use exception handling (try-except blocks) to save program from crashing if it encounters an error. We can write suspected code in try block such that when it is executed and encounters an error, except block gets executed and continues to execute remaining blocks of code."
   ]
  },
  {
   "cell_type": "markdown",
   "id": "f9a12cb9",
   "metadata": {},
   "source": [
    "# 14. What is the purpose of the try clause? What is the purpose of the except clause?"
   ]
  },
  {
   "cell_type": "markdown",
   "id": "5fa64ae9",
   "metadata": {},
   "source": [
    "Answer:\n",
    "\n",
    "try and except clauses for exception handling.\n",
    "\n",
    "Error suspected code are written in **try block** and instructions to be executed when error occurs while executing try block are return in **except block**. Please find the below sample code"
   ]
  },
  {
   "cell_type": "code",
   "execution_count": 13,
   "id": "66bb21b2",
   "metadata": {},
   "outputs": [
    {
     "name": "stdout",
     "output_type": "stream",
     "text": [
      "The following error occured:\n",
      " division by zero\n"
     ]
    }
   ],
   "source": [
    "try:\n",
    "    b = 2/0\n",
    "except Exception as E:\n",
    "    print(\"The following error occured:\\n\",E)"
   ]
  },
  {
   "cell_type": "code",
   "execution_count": null,
   "id": "640db47c",
   "metadata": {},
   "outputs": [],
   "source": []
  }
 ],
 "metadata": {
  "kernelspec": {
   "display_name": "Python 3 (ipykernel)",
   "language": "python",
   "name": "python3"
  },
  "language_info": {
   "codemirror_mode": {
    "name": "ipython",
    "version": 3
   },
   "file_extension": ".py",
   "mimetype": "text/x-python",
   "name": "python",
   "nbconvert_exporter": "python",
   "pygments_lexer": "ipython3",
   "version": "3.9.7"
  }
 },
 "nbformat": 4,
 "nbformat_minor": 5
}
