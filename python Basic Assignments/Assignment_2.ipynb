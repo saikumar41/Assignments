{
 "cells": [
  {
   "cell_type": "markdown",
   "id": "5f80c8ff",
   "metadata": {},
   "source": [
    "# 1.What are the two values of the Boolean data type? How do you write them?"
   ]
  },
  {
   "cell_type": "markdown",
   "id": "1ab48d2a",
   "metadata": {},
   "source": [
    "Answer:\n",
    "\n",
    "The two values of Boolean data type are True and False.\n",
    "    \n",
    "    a. True represents value 1\n",
    "    b. False represents value 0\n",
    "    \n",
    "Both the values should be written with starting letter capital\n",
    "\n",
    "    eg: True, False"
   ]
  },
  {
   "cell_type": "markdown",
   "id": "bc8e4f67",
   "metadata": {},
   "source": [
    "# 2. What are the three different types of Boolean operators?"
   ]
  },
  {
   "cell_type": "markdown",
   "id": "a2d23be7",
   "metadata": {},
   "source": [
    "Answer:\n",
    "\n",
    "The three different types of Boolean operators are:\n",
    "\n",
    "    a. and - Returns True if both the statements are true.\n",
    "                eg: 1<5 and 2<10 result will be True\n",
    "    b. or  - Returns True if one of the statements is true.\n",
    "                eg: 1>5 or 2<10 result will be True\n",
    "    c. not - Reverses the result, Returns False if statement is true and viceversa.\n",
    "                eg: not True result will be false\n"
   ]
  },
  {
   "cell_type": "markdown",
   "id": "e05aa665",
   "metadata": {},
   "source": [
    "# 3. Make a list of each Boolean operator's truth tables (i.e. every possible combination of Boolean values for the operator and what it evaluate )."
   ]
  },
  {
   "cell_type": "markdown",
   "id": "9d09b074",
   "metadata": {},
   "source": [
    "Answer:\n",
    "\n",
    "  a. Truth table for 'and' operator  "
   ]
  },
  {
   "cell_type": "markdown",
   "id": "2669fa89",
   "metadata": {},
   "source": [
    "| First Operand || Second Operand || Result |\n",
    "| :-: || :-: || :-: |\n",
    "| True || True || True |\n",
    "| True || False || False |\n",
    "| True || False || False |\n",
    "| False || False || False |"
   ]
  },
  {
   "cell_type": "markdown",
   "id": "345c626f",
   "metadata": {},
   "source": [
    "b. Truth Table for 'or' operator"
   ]
  },
  {
   "cell_type": "markdown",
   "id": "cc627038",
   "metadata": {},
   "source": [
    "| First Operand || Second Operand || Result |\n",
    "| :-: || :-: || :-: |\n",
    "| True || True || True |\n",
    "| True || False || True |\n",
    "| True || False || True |\n",
    "| False || False || False |"
   ]
  },
  {
   "cell_type": "markdown",
   "id": "7fc8df15",
   "metadata": {},
   "source": [
    "c. Truth Table for 'not' operator"
   ]
  },
  {
   "cell_type": "markdown",
   "id": "e136702c",
   "metadata": {},
   "source": [
    "| Operand || Result |\n",
    "| :-: || :-: |\n",
    "| True || False |\n",
    "| False || True |"
   ]
  },
  {
   "cell_type": "markdown",
   "id": "6ab0cb2c",
   "metadata": {},
   "source": [
    "# 4. What are the values of the following expressions?"
   ]
  },
  {
   "cell_type": "markdown",
   "id": "dc1ed20d",
   "metadata": {},
   "source": [
    "(5 > 4) and (3 == 5)<br>\n",
    "not (5 > 4)<br>\n",
    "(5 > 4) or (3 == 5)<br>\n",
    "not ((5 > 4) or (3 == 5))<br>\n",
    "(True and True) and (True == False)<br>\n",
    "(not False) or (not True)<br>\n"
   ]
  },
  {
   "cell_type": "markdown",
   "id": "b5e7e40f",
   "metadata": {},
   "source": [
    "Answer:\n",
    "\n",
    "| expression || Result |\n",
    "| :-: || :-: |\n",
    "| (5 > 4) and (3 == 5) || False |\n",
    "| not (5 > 4) || False |\n",
    "| (5 > 4) or (3 == 5)) || True |\n",
    "| not ((5 > 4) or (3 == 5))) || False |\n",
    "| (True and True) and (True == False) || False |\n",
    "| (not False) or (not True) || True |"
   ]
  },
  {
   "cell_type": "code",
   "execution_count": 30,
   "id": "cd773fad",
   "metadata": {},
   "outputs": [
    {
     "data": {
      "text/plain": [
       "False"
      ]
     },
     "execution_count": 30,
     "metadata": {},
     "output_type": "execute_result"
    }
   ],
   "source": [
    "(5 > 4) and (3 == 5)"
   ]
  },
  {
   "cell_type": "code",
   "execution_count": 31,
   "id": "3674cd44",
   "metadata": {},
   "outputs": [
    {
     "data": {
      "text/plain": [
       "False"
      ]
     },
     "execution_count": 31,
     "metadata": {},
     "output_type": "execute_result"
    }
   ],
   "source": [
    "not (5 > 4)"
   ]
  },
  {
   "cell_type": "code",
   "execution_count": 32,
   "id": "bdde5873",
   "metadata": {},
   "outputs": [
    {
     "data": {
      "text/plain": [
       "True"
      ]
     },
     "execution_count": 32,
     "metadata": {},
     "output_type": "execute_result"
    }
   ],
   "source": [
    "(5 > 4) or (3 == 5)"
   ]
  },
  {
   "cell_type": "code",
   "execution_count": 33,
   "id": "d2bab487",
   "metadata": {},
   "outputs": [
    {
     "data": {
      "text/plain": [
       "False"
      ]
     },
     "execution_count": 33,
     "metadata": {},
     "output_type": "execute_result"
    }
   ],
   "source": [
    "not ((5 > 4) or (3 == 5))"
   ]
  },
  {
   "cell_type": "code",
   "execution_count": 34,
   "id": "329d8686",
   "metadata": {},
   "outputs": [
    {
     "data": {
      "text/plain": [
       "False"
      ]
     },
     "execution_count": 34,
     "metadata": {},
     "output_type": "execute_result"
    }
   ],
   "source": [
    "(True and True) and (True == False)"
   ]
  },
  {
   "cell_type": "code",
   "execution_count": 35,
   "id": "f1c9df4d",
   "metadata": {},
   "outputs": [
    {
     "data": {
      "text/plain": [
       "True"
      ]
     },
     "execution_count": 35,
     "metadata": {},
     "output_type": "execute_result"
    }
   ],
   "source": [
    "(not False) or (not True)"
   ]
  },
  {
   "cell_type": "markdown",
   "id": "696a53f7",
   "metadata": {},
   "source": [
    "# 5. What are the six comparison operators?"
   ]
  },
  {
   "cell_type": "markdown",
   "id": "f49aba66",
   "metadata": {},
   "source": [
    "Answer:\n",
    "\n",
    "The following are the six comparison operators:\n",
    "\n",
    "| Operator || Name |\n",
    "| :-: || :-: |\n",
    "| == || Equal |\n",
    "| != || Not Equal |\n",
    "| > || Greater Than |\n",
    "| >= || Greater Than or Equal to |\n",
    "| < || Less Than |\n",
    "| <= || Less Than or Equal to |\n"
   ]
  },
  {
   "cell_type": "markdown",
   "id": "8f34c5c5",
   "metadata": {},
   "source": [
    "# 6. How do you tell the difference between the equal to and assignment operators?Describe a condition and when you would use one."
   ]
  },
  {
   "cell_type": "markdown",
   "id": "6f29f2ae",
   "metadata": {},
   "source": [
    "Answer:\n",
    "\n",
    "The assignment operator is represented by one equal to sign( = ) whereas comparison operator is represented by double equal to sign( == ).\n",
    "\n",
    "    a. assignment operator just assigns a value to a variable.\n",
    "            eg: x = 4 denotes 4 is assigned to variable 'x'.\n",
    "    b. Comparison operator compares 2 variables and returns True if both values are equal else False\n",
    "            eg: x == 4 returns True if value in x is 4 else returns False.\n"
   ]
  },
  {
   "cell_type": "markdown",
   "id": "66e07df0",
   "metadata": {},
   "source": [
    "# 7. Identify the three blocks in this code:"
   ]
  },
  {
   "cell_type": "markdown",
   "id": "4361461c",
   "metadata": {},
   "source": [
    "spam = 0<br>\n",
    "if spam == 10:<br>\n",
    "print('eggs')<br>\n",
    "if spam > 5:<br>\n",
    "print('bacon')<br>\n",
    "else:<br>\n",
    "print('ham')<br>\n",
    "print('spam')<br>\n",
    "print('spam')<br>\n"
   ]
  },
  {
   "cell_type": "markdown",
   "id": "fc013c5f",
   "metadata": {},
   "source": [
    "Answer:\n",
    "\n",
    "each identation increase represents one block.refer below code for 3 blocks"
   ]
  },
  {
   "cell_type": "code",
   "execution_count": 36,
   "id": "8e8287a0",
   "metadata": {},
   "outputs": [
    {
     "name": "stdout",
     "output_type": "stream",
     "text": [
      "spam\n"
     ]
    }
   ],
   "source": [
    "spam = 0                 #Block A\n",
    "if spam == 10:           #Block A \n",
    "    print('eggs')        #Block B inside Block A \n",
    "    if spam > 5:         #Block B inside Block A \n",
    "        print('bacon')   #Block C inside Block B which is inside Block A\n",
    "    else:                #Block B inside Block A\n",
    "        print('ham')     #Block C inside Block B which is inside Block A\n",
    "    print('spam')        #Block B inside Block A \n",
    "print('spam')            #Block A"
   ]
  },
  {
   "cell_type": "markdown",
   "id": "beddee1c",
   "metadata": {},
   "source": [
    "# 8. Write code that prints Hello if 1 is stored in spam, prints Howdy if 2 is stored in spam, and prints Greetings! if anything else is stored in spam."
   ]
  },
  {
   "cell_type": "code",
   "execution_count": 37,
   "id": "56eac5fd",
   "metadata": {},
   "outputs": [
    {
     "name": "stdout",
     "output_type": "stream",
     "text": [
      "Please enter a value:10\n",
      "Greetings!\n"
     ]
    }
   ],
   "source": [
    "# get user input to store value in variable spam\n",
    "spam = int(input('Please enter a value:'))\n",
    "if spam == 1:\n",
    "    print(\"Hello\")\n",
    "elif spam == 2:\n",
    "    print(\"Howdy\")\n",
    "else:\n",
    "    print(\"Greetings!\")"
   ]
  },
  {
   "cell_type": "markdown",
   "id": "8e5dd7c9",
   "metadata": {},
   "source": [
    "# 9.If your programme is stuck in an endless loop, what keys you’ll press?"
   ]
  },
  {
   "cell_type": "markdown",
   "id": "58c4162f",
   "metadata": {},
   "source": [
    "Answer:\n",
    "\n",
    "    a. If we are running our program in jupyter notebook, We may need to interupt (ctrl+c) our running kernal and restart kernal\n",
    "    b. If our program is being run in a command prompt, we can simply interupt program execution by pressing ctrl+c which will stop execution."
   ]
  },
  {
   "cell_type": "markdown",
   "id": "31048f32",
   "metadata": {},
   "source": [
    "# 10. How can you tell the difference between break and continue?"
   ]
  },
  {
   "cell_type": "markdown",
   "id": "c85c0ae3",
   "metadata": {},
   "source": [
    "Answer:\n",
    "\n",
    "    a. Break statement stops the loop and completely halts a loop and continues execution of statements after loop."
   ]
  },
  {
   "cell_type": "code",
   "execution_count": 38,
   "id": "f49d2614",
   "metadata": {},
   "outputs": [
    {
     "name": "stdout",
     "output_type": "stream",
     "text": [
      " Iteration  0\n",
      " Iteration  1\n"
     ]
    }
   ],
   "source": [
    "# Break statement example\n",
    "for i in range(5):\n",
    "    if i == 2:\n",
    "        break\n",
    "    print(\" Iteration \",i)"
   ]
  },
  {
   "cell_type": "markdown",
   "id": "b742e238",
   "metadata": {},
   "source": [
    "    In above code, loop execution completely halted when i==2 since break is called when this condition is true\n",
    "    \n",
    "    b. Continue statement stops the current iteration and instructs loop to continue to next iteration. It will not completely halt the loop as in case of break statement"
   ]
  },
  {
   "cell_type": "code",
   "execution_count": 39,
   "id": "6df98079",
   "metadata": {},
   "outputs": [
    {
     "name": "stdout",
     "output_type": "stream",
     "text": [
      " Iteration  0\n",
      " Iteration  1\n",
      " Iteration  3\n",
      " Iteration  4\n"
     ]
    }
   ],
   "source": [
    "# continue statement example\n",
    "for i in range(5):\n",
    "    if i == 2:\n",
    "        continue\n",
    "    print(\" Iteration \",i)"
   ]
  },
  {
   "cell_type": "markdown",
   "id": "09e56c83",
   "metadata": {},
   "source": [
    "\n",
    "    In above code, loop stopped executing iteration when i==2 since continue is called when this condition is true and continues with next iterations"
   ]
  },
  {
   "cell_type": "markdown",
   "id": "75e2f68f",
   "metadata": {},
   "source": [
    "# 11. In a for loop, what is the difference between range(10), range(0, 10), and range(0, 10, 1)?"
   ]
  },
  {
   "cell_type": "markdown",
   "id": "0a45d0d3",
   "metadata": {},
   "source": [
    "Answer:\n",
    "\n",
    "    range(10), range(0, 10), and range(0, 10, 1) gives same result as the default step size is 1 and default lower bound is 0"
   ]
  },
  {
   "cell_type": "code",
   "execution_count": 40,
   "id": "bb01995f",
   "metadata": {},
   "outputs": [
    {
     "data": {
      "text/plain": [
       "range(0, 10)"
      ]
     },
     "execution_count": 40,
     "metadata": {},
     "output_type": "execute_result"
    }
   ],
   "source": [
    "range(10)"
   ]
  },
  {
   "cell_type": "code",
   "execution_count": 41,
   "id": "bd190168",
   "metadata": {},
   "outputs": [
    {
     "data": {
      "text/plain": [
       "range(0, 10)"
      ]
     },
     "execution_count": 41,
     "metadata": {},
     "output_type": "execute_result"
    }
   ],
   "source": [
    "range(0, 10)"
   ]
  },
  {
   "cell_type": "code",
   "execution_count": 42,
   "id": "85316042",
   "metadata": {},
   "outputs": [
    {
     "data": {
      "text/plain": [
       "range(0, 10)"
      ]
     },
     "execution_count": 42,
     "metadata": {},
     "output_type": "execute_result"
    }
   ],
   "source": [
    "range(0, 10, 1)"
   ]
  },
  {
   "cell_type": "markdown",
   "id": "43749ab5",
   "metadata": {},
   "source": [
    "# 12. Write a short program that prints the numbers 1 to 10 using a for loop. Then write an equivalent program that prints the numbers 1 to 10 using a while loop."
   ]
  },
  {
   "cell_type": "markdown",
   "id": "86cf8c4d",
   "metadata": {},
   "source": [
    "Answer:\n",
    "\n"
   ]
  },
  {
   "cell_type": "code",
   "execution_count": 43,
   "id": "3213aa8e",
   "metadata": {},
   "outputs": [
    {
     "name": "stdout",
     "output_type": "stream",
     "text": [
      "1\n",
      "2\n",
      "3\n",
      "4\n",
      "5\n",
      "6\n",
      "7\n",
      "8\n",
      "9\n",
      "10\n"
     ]
    }
   ],
   "source": [
    "# Using For loop\n",
    "for i in range(1,11):\n",
    "    print(i)"
   ]
  },
  {
   "cell_type": "code",
   "execution_count": 44,
   "id": "c6d8bd31",
   "metadata": {},
   "outputs": [
    {
     "name": "stdout",
     "output_type": "stream",
     "text": [
      "1\n",
      "2\n",
      "3\n",
      "4\n",
      "5\n",
      "6\n",
      "7\n",
      "8\n",
      "9\n",
      "10\n"
     ]
    }
   ],
   "source": [
    "# Using While loop\n",
    "i = 1\n",
    "while i <= 10:\n",
    "    print(i)\n",
    "    i += 1"
   ]
  },
  {
   "cell_type": "markdown",
   "id": "832364d3",
   "metadata": {},
   "source": [
    "# 13. If you had a function named bacon() inside a module named spam, how would you call it after importing spam?"
   ]
  },
  {
   "cell_type": "markdown",
   "id": "eefc1eb6",
   "metadata": {},
   "source": [
    "Answer:\n",
    "\n",
    "    Since module alone is imported, We need call as an object of that module(module.function)\n",
    "    So, We should be calling spam.bacon()"
   ]
  },
  {
   "cell_type": "code",
   "execution_count": null,
   "id": "f29790b8",
   "metadata": {},
   "outputs": [],
   "source": []
  }
 ],
 "metadata": {
  "kernelspec": {
   "display_name": "Python 3 (ipykernel)",
   "language": "python",
   "name": "python3"
  },
  "language_info": {
   "codemirror_mode": {
    "name": "ipython",
    "version": 3
   },
   "file_extension": ".py",
   "mimetype": "text/x-python",
   "name": "python",
   "nbconvert_exporter": "python",
   "pygments_lexer": "ipython3",
   "version": "3.9.7"
  }
 },
 "nbformat": 4,
 "nbformat_minor": 5
}
