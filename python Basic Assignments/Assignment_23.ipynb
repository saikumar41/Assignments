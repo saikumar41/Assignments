{
 "cells": [
  {
   "cell_type": "markdown",
   "id": "5290f189",
   "metadata": {},
   "source": [
    "# 1. What is the result of the code, and why?\n",
    "    \n",
    "    >>> def func(a, b=6, c=8):\n",
    "    print(a, b, c)\n",
    "    >>> func(1, 2)\n"
   ]
  },
  {
   "cell_type": "markdown",
   "id": "5d0b3c1f",
   "metadata": {},
   "source": [
    "**Answer:**\n",
    "    \n",
    "   This function is taking 1 positional argument and 2 keyword args. In function call, 2 positional args are passed.so,args becomes **a=1,b=2 and c takes default value** since argument is not passed.\n",
    "    \n",
    "   Hence, Output will be **1 2 8**"
   ]
  },
  {
   "cell_type": "code",
   "execution_count": 1,
   "id": "02ea1e82",
   "metadata": {},
   "outputs": [
    {
     "name": "stdout",
     "output_type": "stream",
     "text": [
      "1 2 8\n"
     ]
    }
   ],
   "source": [
    "def func(a, b=6, c=8):\n",
    "    print(a, b, c)\n",
    "func(1, 2)"
   ]
  },
  {
   "cell_type": "markdown",
   "id": "b18a3b46",
   "metadata": {},
   "source": [
    "# 2. What is the result of this code, and why?\n",
    "    >>> def func(a, b, c=5):\n",
    "    print(a, b, c)\n",
    "    >>> func(1, c=3, b=2)\n"
   ]
  },
  {
   "cell_type": "markdown",
   "id": "0c415108",
   "metadata": {},
   "source": [
    "**Answer:**\n",
    "    \n",
    "   Given function takes 1 postional and 2 keyword args. args passed are 1 positional and 2 keyword args in which c is passed as second arg. so, arguments passed becomes **a=1,b=2,c=3**\n",
    "    \n",
    "   Hence Output will be **1 2 3**"
   ]
  },
  {
   "cell_type": "code",
   "execution_count": 2,
   "id": "982c70cb",
   "metadata": {},
   "outputs": [
    {
     "name": "stdout",
     "output_type": "stream",
     "text": [
      "1 2 3\n"
     ]
    }
   ],
   "source": [
    "def func(a, b, c=5):\n",
    "    print(a, b, c)\n",
    "func(1, c=3, b=2)"
   ]
  },
  {
   "cell_type": "markdown",
   "id": "41c431ca",
   "metadata": {},
   "source": [
    "# 3. How about this code: what is its result, and why?\n",
    "    >>> def func(a, *pargs):\n",
    "    print(a, pargs)\n",
    "    >>> func(1, 2, 3)\n"
   ]
  },
  {
   "cell_type": "markdown",
   "id": "c793cf3e",
   "metadata": {},
   "source": [
    "**Answer:**\n",
    "    \n",
    "   The return type of \\*args(represents multiple positional args) parameter is tuple, where as \\**kargs(represents multiple keyword args) will be dictionary.\n",
    "\n",
    "   Hence Output will be **1 (2,3)**"
   ]
  },
  {
   "cell_type": "code",
   "execution_count": 3,
   "id": "d455edb9",
   "metadata": {},
   "outputs": [
    {
     "name": "stdout",
     "output_type": "stream",
     "text": [
      "1 (2, 3)\n"
     ]
    }
   ],
   "source": [
    "def func(a, *pargs):\n",
    "    print(a, pargs)\n",
    "func(1, 2, 3)"
   ]
  },
  {
   "cell_type": "markdown",
   "id": "4f09c14e",
   "metadata": {},
   "source": [
    "# 4. What does this code print, and why?\n",
    "    >>> def func(a, **kargs):\n",
    "    print(a, kargs)\n",
    "    >>> func(a=1, c=3, b=2)\n"
   ]
  },
  {
   "cell_type": "markdown",
   "id": "0b3d9096",
   "metadata": {},
   "source": [
    "**Answer:**\n",
    "    \n",
    "   The return type of **kargs(represents multiple keyword args) will be dictionary.\n",
    "\n",
    "   Hence Output will be **1 {'c': 3, 'b': 2}**"
   ]
  },
  {
   "cell_type": "code",
   "execution_count": 4,
   "id": "04908a34",
   "metadata": {},
   "outputs": [
    {
     "name": "stdout",
     "output_type": "stream",
     "text": [
      "1 {'c': 3, 'b': 2}\n"
     ]
    }
   ],
   "source": [
    "def func(a, **kargs):\n",
    "    print(a, kargs)\n",
    "func(a=1, c=3, b=2)"
   ]
  },
  {
   "cell_type": "markdown",
   "id": "c79c3af3",
   "metadata": {},
   "source": [
    "# 5. What gets printed by this, and explain?\n",
    "    >>> def func(a, b, c=8, d=5): print(a, b, c, d)\n",
    "    >>> func(1, *(5, 6))\n"
   ]
  },
  {
   "cell_type": "markdown",
   "id": "5c2c4af5",
   "metadata": {},
   "source": [
    "**Answer:**\n",
    "    \n",
    "   - '*' & '\\**' are the unpacking operator and are used to unpack the values from iterable objects in Python. \n",
    "   - The single asterisk operator * can be used on any iterable that Python provides, while \n",
    "   - the double asterisk operator ** can only be used on dictionaries. \n",
    "   - In the example the value *(5,6) will be unpacked and will be assigned to b and c and passed as arguments, d =5 will taken by defaults are keyword arguments.\n",
    "   \n",
    "   Hence Output will be **1 5 6 5**"
   ]
  },
  {
   "cell_type": "code",
   "execution_count": 5,
   "id": "08c700d3",
   "metadata": {},
   "outputs": [
    {
     "name": "stdout",
     "output_type": "stream",
     "text": [
      "1 5 6 5\n"
     ]
    }
   ],
   "source": [
    "def func(a, b, c=8, d=5): \n",
    "    print(a, b, c, d)\n",
    "func(1, *(5, 6))"
   ]
  },
  {
   "cell_type": "markdown",
   "id": "13c275b9",
   "metadata": {},
   "source": [
    "# 6. what is the result of this, and explain?\n",
    "    >>> def func(a, b, c): a = 2; b[0] = 'x'; c['a'] = 'y'\n",
    "    >>> l=1; m=[1]; n={'a':0}\n",
    "    >>> func(l, m, n)\n",
    "    >>> l, m, n\n"
   ]
  },
  {
   "cell_type": "markdown",
   "id": "44135877",
   "metadata": {},
   "source": [
    "**Answer:**\n",
    "    \n",
    "   In the code, the list and dict are passed as argument which are mutable.whereas integer is immutable\n",
    "   - Here the list l and parameter b point to the same list in the memory location \n",
    "   - where as dict n and c point to the same memory location. Any updates to this list will update in the memory location\n",
    "        - l = 1 , integer values, immutable, \n",
    "        - m is list, mutable, \n",
    "        - n is dict, mutable.\n",
    "        \n",
    "   Hence, Output will be **1, ['x'], {'a':'y'}**"
   ]
  },
  {
   "cell_type": "code",
   "execution_count": 8,
   "id": "6a9665c0",
   "metadata": {},
   "outputs": [
    {
     "data": {
      "text/plain": [
       "(1, ['x'], {'a': 'y'})"
      ]
     },
     "execution_count": 8,
     "metadata": {},
     "output_type": "execute_result"
    }
   ],
   "source": [
    "def func(a, b, c):\n",
    "    a = 2; \n",
    "    b[0] = 'x'; \n",
    "    c['a'] = 'y'\n",
    "l=1; \n",
    "m=[1]; \n",
    "n={'a':0}\n",
    "func(l, m, n)\n",
    "l, m, n"
   ]
  },
  {
   "cell_type": "code",
   "execution_count": null,
   "id": "1a8f80d4",
   "metadata": {},
   "outputs": [],
   "source": []
  }
 ],
 "metadata": {
  "kernelspec": {
   "display_name": "Python 3 (ipykernel)",
   "language": "python",
   "name": "python3"
  },
  "language_info": {
   "codemirror_mode": {
    "name": "ipython",
    "version": 3
   },
   "file_extension": ".py",
   "mimetype": "text/x-python",
   "name": "python",
   "nbconvert_exporter": "python",
   "pygments_lexer": "ipython3",
   "version": "3.9.7"
  }
 },
 "nbformat": 4,
 "nbformat_minor": 5
}
