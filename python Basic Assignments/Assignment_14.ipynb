{
 "cells": [
  {
   "cell_type": "markdown",
   "id": "d83fcf5c",
   "metadata": {},
   "source": [
    "# 1. What does RGBA stand for?"
   ]
  },
  {
   "cell_type": "markdown",
   "id": "07aa7bf0",
   "metadata": {},
   "source": [
    "**Answer:**\n",
    "    \n",
    "   An **RGBA** value is a group of numbers that specify the amount of **red, green, blue, and alpha** (or transparency) in a color. Each of these component values is an integer from **0 (none at all) to 255 (the maximum)**."
   ]
  },
  {
   "cell_type": "markdown",
   "id": "a93f92a2",
   "metadata": {},
   "source": [
    "# 2. From the Pillow module, how do you get the RGBA value of any images?"
   ]
  },
  {
   "cell_type": "markdown",
   "id": "8bd1c44f",
   "metadata": {},
   "source": [
    "**Answer:**\n",
    "    \n",
    "   **ImageColor.getcolor(color_name, 'RGBA')** is used to get the RGBA value of any images."
   ]
  },
  {
   "cell_type": "markdown",
   "id": "23acd7e0",
   "metadata": {},
   "source": [
    "# 3. What is a box tuple, and how does it work?"
   ]
  },
  {
   "cell_type": "markdown",
   "id": "825e2ad7",
   "metadata": {},
   "source": [
    "**Answer:**\n",
    "\n",
    "   A box tuple is a tuple value of four integers: the left-edge x-coordinate, the top-edge y-coordinate, the width, and the height, respectively. Pillow module expects a tuple of four integer coordinates that represent a rectangular region in an image. The four integers are, in order, as follows:\n",
    "    \n",
    "   - **Left** The x-coordinate of the leftmost edge of the box.\n",
    "\n",
    "   - **Top** The y-coordinate of the top edge of the box.\n",
    "\n",
    "   - **Right** The x-coordinate of one pixel to the right of the rightmost edge of the box. This integer must be greater than the left integer.\n",
    "\n",
    "   - **Bottom** The y-coordinate of one pixel lower than the bottom edge of the box. This integer must be greater than the top integer."
   ]
  },
  {
   "cell_type": "markdown",
   "id": "9e5f63ba",
   "metadata": {},
   "source": [
    "# 4. Use your image and load in notebook then, How can you find out the width and height of an Image object?"
   ]
  },
  {
   "cell_type": "markdown",
   "id": "e9316183",
   "metadata": {},
   "source": [
    "**Answer:**\n",
    "    \n",
    "   **imageObj.size** variable is used to find out the width and height of an Image object which is a tuple of two integers, the width and the height."
   ]
  },
  {
   "cell_type": "code",
   "execution_count": 1,
   "id": "e7e08f8e",
   "metadata": {},
   "outputs": [
    {
     "data": {
      "text/plain": [
       "(1920, 1080)"
      ]
     },
     "execution_count": 1,
     "metadata": {},
     "output_type": "execute_result"
    }
   ],
   "source": [
    "from PIL import Image\n",
    "img = Image.open('test.png')\n",
    "img.size"
   ]
  },
  {
   "cell_type": "markdown",
   "id": "aa2cb9f9",
   "metadata": {},
   "source": [
    "# 5. What method would you call to get Image object for a 100×100 image, excluding the lower-left quarter of it?"
   ]
  },
  {
   "cell_type": "markdown",
   "id": "d66f3838",
   "metadata": {},
   "source": [
    "**Answer:**\n",
    "    \n",
    "    imageObj.crop((0, 0, 100, 100)) method is used to get Image object for a 100×100 image, excluding the lower-left quarter of it.\n",
    "    (0, 0, 100, 100) is the box tuple to crop out 100x100 image\n"
   ]
  },
  {
   "cell_type": "code",
   "execution_count": 13,
   "id": "f77825db",
   "metadata": {},
   "outputs": [
    {
     "name": "stdout",
     "output_type": "stream",
     "text": [
      "<PIL.Image.Image image mode=RGBA size=100x100 at 0x19E2A278C40>\n"
     ]
    }
   ],
   "source": [
    "print(img.crop((0, 0, 100, 100)))"
   ]
  },
  {
   "cell_type": "markdown",
   "id": "69a25a49",
   "metadata": {},
   "source": [
    "# 6. After making changes to an Image object, how could you save it as an image file?"
   ]
  },
  {
   "cell_type": "markdown",
   "id": "36edacdf",
   "metadata": {},
   "source": [
    "**Answer:**\n",
    "    \n",
    "    imageObj.save('new_filename.png') method of the Image object is used save it as an image file after making changes to an Image object"
   ]
  },
  {
   "cell_type": "code",
   "execution_count": 14,
   "id": "7d6de987",
   "metadata": {},
   "outputs": [],
   "source": [
    "img.save('new_test.png')"
   ]
  },
  {
   "cell_type": "markdown",
   "id": "a23ead8b",
   "metadata": {},
   "source": [
    "# 7. What module contains Pillow’s shape-drawing code?"
   ]
  },
  {
   "cell_type": "markdown",
   "id": "6323c2f7",
   "metadata": {},
   "source": [
    "**Answer:**\n",
    "    \n",
    "   **ImageDraw** module contains code to draw on images."
   ]
  },
  {
   "cell_type": "markdown",
   "id": "ffe7ad4f",
   "metadata": {},
   "source": [
    "# 8. Image objects do not have drawing methods. What kind of object does? How do you get this kind of object?"
   ]
  },
  {
   "cell_type": "markdown",
   "id": "e02844aa",
   "metadata": {},
   "source": [
    "**Answer:**\n",
    "\n",
    "    ImageDraw objects containins drawing methods such as point(), line(), or rectangle().We can follow below steps to get ImageDraw objects:\n",
    "    \n",
    "    1. First, we import Image and ImageDraw. \n",
    "    2. Then we create a new image and store the Image object in a variable. \n",
    "    3. We pass the Image object to the ImageDraw.Draw() function to receive an ImageDraw object. \n",
    "    4. This object has several methods for drawing shapes and text onto an Image object. \n",
    "    5. Store the ImageDraw object in a variable like draw"
   ]
  },
  {
   "cell_type": "code",
   "execution_count": null,
   "id": "0026c379",
   "metadata": {},
   "outputs": [],
   "source": []
  }
 ],
 "metadata": {
  "kernelspec": {
   "display_name": "Python 3 (ipykernel)",
   "language": "python",
   "name": "python3"
  },
  "language_info": {
   "codemirror_mode": {
    "name": "ipython",
    "version": 3
   },
   "file_extension": ".py",
   "mimetype": "text/x-python",
   "name": "python",
   "nbconvert_exporter": "python",
   "pygments_lexer": "ipython3",
   "version": "3.9.7"
  }
 },
 "nbformat": 4,
 "nbformat_minor": 5
}
