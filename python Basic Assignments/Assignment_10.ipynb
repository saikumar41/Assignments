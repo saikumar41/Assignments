{
 "cells": [
  {
   "cell_type": "markdown",
   "id": "c6e71f49",
   "metadata": {},
   "source": [
    "# 1. How do you distinguish between shutil.copy() and shutil.copytree()?"
   ]
  },
  {
   "cell_type": "markdown",
   "id": "626e501b",
   "metadata": {},
   "source": [
    "**Answer:**\n",
    "    \n",
    "   - shutil.copy() method is used to copy a single file whereas\n",
    "   - shutil.copytree() method is used to copy an entire folder along with all contents of it."
   ]
  },
  {
   "cell_type": "markdown",
   "id": "5acc27a5",
   "metadata": {},
   "source": [
    "# 2. What function is used to rename files??"
   ]
  },
  {
   "cell_type": "markdown",
   "id": "7aa5a617",
   "metadata": {},
   "source": [
    "**Answer:**\n",
    "    \n",
    "   os.rename() method is used to rename a file or directory itself."
   ]
  },
  {
   "cell_type": "markdown",
   "id": "9bb75ddf",
   "metadata": {},
   "source": [
    "# 3. What is the difference between the delete functions in the send2trash and shutil modules?"
   ]
  },
  {
   "cell_type": "markdown",
   "id": "513231ee",
   "metadata": {},
   "source": [
    "**Answer:**\n",
    "    \n",
    "   - Delete function in **send2trash** will move a file or folder to recyclebin whereas\n",
    "   - Delete function in **shutil** module will premanently delete files or folders."
   ]
  },
  {
   "cell_type": "markdown",
   "id": "513ecdee",
   "metadata": {},
   "source": [
    "# 4.ZipFile objects have a close() method just like File objects’ close() method. What ZipFile method is equivalent to File objects’ open() method?"
   ]
  },
  {
   "cell_type": "markdown",
   "id": "d01a8b59",
   "metadata": {},
   "source": [
    "**Answer:**\n",
    "    \n",
    "   ZipFile() method of zipfile module is equivalent to file object's open() method.\n",
    "   \n",
    "   zipFile() method takes 2 arguments. 1. file name 2. mode to open the zip file(read,write,append)"
   ]
  },
  {
   "cell_type": "markdown",
   "id": "e3285545",
   "metadata": {},
   "source": [
    "# 5. Create a programme that searches a folder tree for files with a certain file extension (such as .pdf or .jpg). Copy these files from whatever location they are in to a new folder."
   ]
  },
  {
   "cell_type": "markdown",
   "id": "fc8c918e",
   "metadata": {},
   "source": [
    "**Answer:**\n",
    "    \n",
    "    "
   ]
  },
  {
   "cell_type": "code",
   "execution_count": 9,
   "id": "f3434e86",
   "metadata": {},
   "outputs": [
    {
     "name": "stdout",
     "output_type": "stream",
     "text": [
      "Coping C:\\Users\\saikumar\\Downloads\\group-logo.jpg to C:\\Users\\saikumar\\Downloads\\new\n",
      "Coping C:\\Users\\saikumar\\Downloads\\icici_statement.pdf to C:\\Users\\saikumar\\Downloads\\new\n",
      "Coping C:\\Users\\saikumar\\Downloads\\project-logo.jpg to C:\\Users\\saikumar\\Downloads\\new\n",
      "Coping C:\\Users\\saikumar\\Downloads\\remove.jpg to C:\\Users\\saikumar\\Downloads\\new\n",
      "Coping C:\\Users\\saikumar\\Downloads\\update.jpg to C:\\Users\\saikumar\\Downloads\\new\n",
      "Coping C:\\Users\\saikumar\\Downloads\\~$dhaharan_TeamcenterConsultant(1).pdf to C:\\Users\\saikumar\\Downloads\\new\n",
      "Coping C:\\Users\\saikumar\\Downloads\\Documents\\s42256-019-0088-2.pdf to C:\\Users\\saikumar\\Downloads\\new\n",
      "Coping C:\\Users\\saikumar\\Downloads\\Wallpapers\\Wallpapers\\jpg wallpapers\\AppBreweryWallpaper 1.jpg to C:\\Users\\saikumar\\Downloads\\new\n",
      "Coping C:\\Users\\saikumar\\Downloads\\Wallpapers\\Wallpapers\\jpg wallpapers\\AppBreweryWallpaper 2.jpg to C:\\Users\\saikumar\\Downloads\\new\n",
      "Coping C:\\Users\\saikumar\\Downloads\\Wallpapers\\Wallpapers\\jpg wallpapers\\AppBreweryWallpaper 3.jpg to C:\\Users\\saikumar\\Downloads\\new\n",
      "Coping C:\\Users\\saikumar\\Downloads\\Wallpapers\\Wallpapers\\jpg wallpapers\\AppBreweryWallpaper 4.jpg to C:\\Users\\saikumar\\Downloads\\new\n",
      "Coping C:\\Users\\saikumar\\Downloads\\Wallpapers\\Wallpapers\\jpg wallpapers\\AppBreweryWallpaper 5.jpg to C:\\Users\\saikumar\\Downloads\\new\n",
      "Coping C:\\Users\\saikumar\\Downloads\\Wallpapers\\Wallpapers\\jpg wallpapers\\AppBreweryWallpaper 6.jpg to C:\\Users\\saikumar\\Downloads\\new\n",
      "Coping C:\\Users\\saikumar\\Downloads\\Wallpapers\\Wallpapers\\jpg wallpapers\\AppBreweryWallpaper 7.jpg to C:\\Users\\saikumar\\Downloads\\new\n",
      "Coping C:\\Users\\saikumar\\Downloads\\Wallpapers\\Wallpapers\\jpg wallpapers\\AppBreweryWallpaper 8.jpg to C:\\Users\\saikumar\\Downloads\\new\n",
      "Coping C:\\Users\\saikumar\\Downloads\\Wallpapers\\Wallpapers\\jpg wallpapers\\AppBreweryWallpaper 9.jpg to C:\\Users\\saikumar\\Downloads\\new\n",
      "Coping C:\\Users\\saikumar\\Downloads\\Wallpapers\\Wallpapers\\jpg wallpapers\\AppBreweryWallpaper.jpg to C:\\Users\\saikumar\\Downloads\\new\n",
      "Coping C:\\Users\\saikumar\\Downloads\\Wallpapers\\Wallpapers\\jpg wallpapers\\LAB Wallpaper.jpg to C:\\Users\\saikumar\\Downloads\\new\n",
      "Coping C:\\Users\\saikumar\\Downloads\\Wallpapers\\__MACOSX\\Wallpapers\\jpg wallpapers\\._AppBreweryWallpaper 1.jpg to C:\\Users\\saikumar\\Downloads\\new\n",
      "Coping C:\\Users\\saikumar\\Downloads\\Wallpapers\\__MACOSX\\Wallpapers\\jpg wallpapers\\._AppBreweryWallpaper 2.jpg to C:\\Users\\saikumar\\Downloads\\new\n",
      "Coping C:\\Users\\saikumar\\Downloads\\Wallpapers\\__MACOSX\\Wallpapers\\jpg wallpapers\\._AppBreweryWallpaper 3.jpg to C:\\Users\\saikumar\\Downloads\\new\n",
      "Coping C:\\Users\\saikumar\\Downloads\\Wallpapers\\__MACOSX\\Wallpapers\\jpg wallpapers\\._AppBreweryWallpaper 4.jpg to C:\\Users\\saikumar\\Downloads\\new\n",
      "Coping C:\\Users\\saikumar\\Downloads\\Wallpapers\\__MACOSX\\Wallpapers\\jpg wallpapers\\._AppBreweryWallpaper 5.jpg to C:\\Users\\saikumar\\Downloads\\new\n",
      "Coping C:\\Users\\saikumar\\Downloads\\Wallpapers\\__MACOSX\\Wallpapers\\jpg wallpapers\\._AppBreweryWallpaper 6.jpg to C:\\Users\\saikumar\\Downloads\\new\n",
      "Coping C:\\Users\\saikumar\\Downloads\\Wallpapers\\__MACOSX\\Wallpapers\\jpg wallpapers\\._AppBreweryWallpaper 7.jpg to C:\\Users\\saikumar\\Downloads\\new\n",
      "Coping C:\\Users\\saikumar\\Downloads\\Wallpapers\\__MACOSX\\Wallpapers\\jpg wallpapers\\._AppBreweryWallpaper 8.jpg to C:\\Users\\saikumar\\Downloads\\new\n",
      "Coping C:\\Users\\saikumar\\Downloads\\Wallpapers\\__MACOSX\\Wallpapers\\jpg wallpapers\\._AppBreweryWallpaper 9.jpg to C:\\Users\\saikumar\\Downloads\\new\n",
      "Coping C:\\Users\\saikumar\\Downloads\\Wallpapers\\__MACOSX\\Wallpapers\\jpg wallpapers\\._AppBreweryWallpaper.jpg to C:\\Users\\saikumar\\Downloads\\new\n",
      "Coping C:\\Users\\saikumar\\Downloads\\Wallpapers\\__MACOSX\\Wallpapers\\jpg wallpapers\\._LAB Wallpaper.jpg to C:\\Users\\saikumar\\Downloads\\new\n"
     ]
    }
   ],
   "source": [
    "import os, shutil\n",
    "\n",
    "def copyextensions(folder, extensions, destFolder):\n",
    "    folder = os.path.abspath(folder)\n",
    "    destFolder = os.path.abspath(destFolder)\n",
    "    for foldername, subfolders, filenames in os.walk(folder):\n",
    "        for filename in filenames:\n",
    "            name, extension = os.path.splitext(filename)\n",
    "            if extension in extensions:\n",
    "                fileAbsPath = foldername + os.path.sep + filename\n",
    "                print('Coping', fileAbsPath, 'to', destFolder)\n",
    "                shutil.copy(fileAbsPath, destFolder)\n",
    "\n",
    "extensions = ['.pdf', '.jpg']\n",
    "folder = 'C:\\\\Users\\\\saikumar\\\\Downloads'\n",
    "destFolder = 'C:\\\\Users\\\\saikumar\\\\Downloads\\\\new'\n",
    "copyextensions(folder, extensions, destFolder)"
   ]
  },
  {
   "cell_type": "code",
   "execution_count": null,
   "id": "e8ca4cff",
   "metadata": {},
   "outputs": [],
   "source": []
  }
 ],
 "metadata": {
  "kernelspec": {
   "display_name": "Python 3 (ipykernel)",
   "language": "python",
   "name": "python3"
  },
  "language_info": {
   "codemirror_mode": {
    "name": "ipython",
    "version": 3
   },
   "file_extension": ".py",
   "mimetype": "text/x-python",
   "name": "python",
   "nbconvert_exporter": "python",
   "pygments_lexer": "ipython3",
   "version": "3.9.7"
  }
 },
 "nbformat": 4,
 "nbformat_minor": 5
}
