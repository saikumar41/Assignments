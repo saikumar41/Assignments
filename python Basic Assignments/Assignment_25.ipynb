{
 "cells": [
  {
   "cell_type": "markdown",
   "id": "e338b071",
   "metadata": {},
   "source": [
    "# 1) . What is the difference between enclosing a list comprehension in square brackets and parentheses?"
   ]
  },
  {
   "cell_type": "markdown",
   "id": "c604cd48",
   "metadata": {},
   "source": [
    "**Answer:**\n",
    "    \n",
    "   - list comprehension in **square brackets** returns a **list**\n",
    "   - list comprehension in **parentheses** returns a **Generator object**"
   ]
  },
  {
   "cell_type": "code",
   "execution_count": 1,
   "id": "617ae495",
   "metadata": {},
   "outputs": [
    {
     "data": {
      "text/plain": [
       "[0, 1, 2, 3, 4, 5, 6, 7, 8, 9]"
      ]
     },
     "execution_count": 1,
     "metadata": {},
     "output_type": "execute_result"
    }
   ],
   "source": [
    "# example for list comprehension in square brackets\n",
    "lst_square = [i for i in range(10)]\n",
    "lst_square"
   ]
  },
  {
   "cell_type": "code",
   "execution_count": 2,
   "id": "75f74028",
   "metadata": {},
   "outputs": [
    {
     "data": {
      "text/plain": [
       "<generator object <genexpr> at 0x000001F8AF516200>"
      ]
     },
     "execution_count": 2,
     "metadata": {},
     "output_type": "execute_result"
    }
   ],
   "source": [
    "# example for list comprehension in parentheses\n",
    "lst_square = (i for i in range(10))\n",
    "lst_square"
   ]
  },
  {
   "cell_type": "markdown",
   "id": "4f3f2095",
   "metadata": {},
   "source": [
    "# 2) What is the relationship between generators and iterators?"
   ]
  },
  {
   "cell_type": "markdown",
   "id": "12bf1ab1",
   "metadata": {},
   "source": [
    "**Answer:**\n",
    "    \n",
    "   - An **iterator** is an object which contains a countable number of values and it is used to iterate over iterable objects like list, tuples etc. \n",
    "       - **iter()** method is used to create an iterator containing an iterable object. \n",
    "       - **next()** method is used to call the next element in the iterable object.\n",
    "       \n",
    "   - **Generator** is another way of creating iterators in a simple way where it uses the keyword “yield” instead of returning it in a defined function.\n",
    "       - Generators are implemented using a function \n",
    "       - Here, the **yield** keyword returns the data without affecting or exiting the function. It will return a sequence of data in an iterable format where we need to iterate over the sequence to use the data as they won’t store the entire sequence in the memory.\n",
    "       - By using **next()** method we can iterate the output of generator function"
   ]
  },
  {
   "cell_type": "code",
   "execution_count": 4,
   "id": "23afccc2",
   "metadata": {},
   "outputs": [
    {
     "name": "stdout",
     "output_type": "stream",
     "text": [
      "mouse\n",
      "cat\n",
      "dog\n",
      "lion\n"
     ]
    }
   ],
   "source": [
    "# Following is an example for an iterator\n",
    "iter_list = iter(['mouse', 'cat', 'dog', 'lion'])\n",
    "print(next(iter_list))\n",
    "print(next(iter_list))\n",
    "print(next(iter_list))\n",
    "print(next(iter_list))"
   ]
  },
  {
   "cell_type": "code",
   "execution_count": 13,
   "id": "56b59fd4",
   "metadata": {},
   "outputs": [
    {
     "name": "stdout",
     "output_type": "stream",
     "text": [
      "<generator object squares at 0x000001F8AE9F6F20>\n",
      "1\n",
      "4\n",
      "9\n",
      "16\n"
     ]
    }
   ],
   "source": [
    "# Following is an example for an Generator\n",
    "def squares(n):\n",
    "    for i in range(1, n+1):\n",
    "        yield i*i\n",
    "        \n",
    "gen = squares(4)\n",
    "print(gen)\n",
    "print(next(gen))\n",
    "print(next(gen))\n",
    "print(next(gen))\n",
    "print(next(gen))"
   ]
  },
  {
   "cell_type": "markdown",
   "id": "fffc6df6",
   "metadata": {},
   "source": [
    "# 3) What are the signs that a function is a generator function?"
   ]
  },
  {
   "cell_type": "markdown",
   "id": "adfb08f2",
   "metadata": {},
   "source": [
    "**Answer:**\n",
    "    \n",
    "   If a function contains at least one **yield statement** (it may contain other yield or return statements), it becomes a **generator function**. Both yield and return will return some value from a function."
   ]
  },
  {
   "cell_type": "markdown",
   "id": "d9bd49a1",
   "metadata": {},
   "source": [
    "# 4) What is the purpose of a yield statement?"
   ]
  },
  {
   "cell_type": "markdown",
   "id": "a2c2b2e1",
   "metadata": {},
   "source": [
    "**Answer:**\n",
    "    \n",
    "   A **yield** statement looks much like a return statement, except that instead of stopping execution of the function and returning, yield instead provides a value to the code looping over the generator and pauses execution of the generator function"
   ]
  },
  {
   "cell_type": "markdown",
   "id": "aa652210",
   "metadata": {},
   "source": [
    "# 5) What is the relationship between map calls and list comprehensions? Make a comparison and contrast between the two."
   ]
  },
  {
   "cell_type": "markdown",
   "id": "f019b71f",
   "metadata": {},
   "source": [
    "**ANswer:**\n",
    "    \n",
    "   - **map() function** returns a map object(which is an iterator) of the results after applying the given function to each item of a given iterable (list, tuple etc.)\n",
    "   - **List comprehension** offers a shorter syntax when you want to create a new list based on the values of an existing list/iterable.\n",
    "   - Following are some of differences between 2:\n",
    "        * List comprehension is more concise and easier to read as compared to map\n",
    "        * List comprehension allows filtering. In map, we have no such facility For example, to print all even numbers in range of 100, we can write [n for n in range(100) if n%2 == 0]. There is no alternate for it in map\n",
    "        * List comprehension are used when a list of results is required, where as map only returns a map object and does not return any list.\n",
    "        * List comprehension is faster than map when we need to evaluate expressions that are too long or complicated to express\n",
    "        * Map is faster in case of calling an already defined function (as no lambda is required)\n"
   ]
  },
  {
   "cell_type": "code",
   "execution_count": null,
   "id": "39f5a249",
   "metadata": {},
   "outputs": [],
   "source": []
  }
 ],
 "metadata": {
  "kernelspec": {
   "display_name": "Python 3 (ipykernel)",
   "language": "python",
   "name": "python3"
  },
  "language_info": {
   "codemirror_mode": {
    "name": "ipython",
    "version": 3
   },
   "file_extension": ".py",
   "mimetype": "text/x-python",
   "name": "python",
   "nbconvert_exporter": "python",
   "pygments_lexer": "ipython3",
   "version": "3.9.7"
  }
 },
 "nbformat": 4,
 "nbformat_minor": 5
}
