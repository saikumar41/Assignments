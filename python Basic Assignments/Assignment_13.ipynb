{
 "cells": [
  {
   "cell_type": "markdown",
   "id": "88983a9b",
   "metadata": {},
   "source": [
    "# 1. What advantages do Excel spreadsheets have over CSV spreadsheets?"
   ]
  },
  {
   "cell_type": "markdown",
   "id": "fd556bb4",
   "metadata": {},
   "source": [
    "**Answer:**\n",
    "    \n",
    "   - CSV files are simple, lacking many of the features of an Excel spreadsheet. For example, CSV files:\n",
    "\n",
    "        - Don’t have types for their values—everything is a string\n",
    "        - Don’t have settings for font size or color\n",
    "        - Don’t have multiple worksheets\n",
    "        - Can’t specify cell widths and heights\n",
    "        - Can’t have merged cells\n",
    "        - Can’t have images or charts embedded in them\n",
    "   - The above all features are available in excel spreadsheets which makes it advantageous over csv spreadsheets.\n",
    "\n",
    "   \n",
    "   "
   ]
  },
  {
   "cell_type": "markdown",
   "id": "7aa9872d",
   "metadata": {},
   "source": [
    "# 2.What do you pass to csv.reader() and csv.writer() to create reader and writer objects?"
   ]
  },
  {
   "cell_type": "markdown",
   "id": "fb52ce83",
   "metadata": {},
   "source": [
    "**Answer:**\n",
    "    \n",
    "   We pass a **file object** which is obtained from **a call to open()** function to csv.reader() and csv.writer() to create reader and writer objects"
   ]
  },
  {
   "cell_type": "markdown",
   "id": "e632aaaf",
   "metadata": {},
   "source": [
    "# 3. What modes do File objects for reader and writer objects need to be opened in?"
   ]
  },
  {
   "cell_type": "markdown",
   "id": "e77768fb",
   "metadata": {},
   "source": [
    "**Answer:**\n",
    "    \n",
    "   - File objects need to be opened in **read-binary ('rb')** for **reader objects.**\n",
    "   - File objects need to be opened in **write-binary ('wb')** for **writer objects.**"
   ]
  },
  {
   "cell_type": "markdown",
   "id": "328f3085",
   "metadata": {},
   "source": [
    "# 4. What method takes a list argument and writes it to a CSV file?"
   ]
  },
  {
   "cell_type": "markdown",
   "id": "09bc6b39",
   "metadata": {},
   "source": [
    "**Answer:**\n",
    "    \n",
    "   The **writerow()** method for writer objects takes a list argument writes it to a CSV file. Each value in the list is placed in its own cell in the output CSV file. The return value of writerow() is the number of characters written to the file for that row (including newline characters)."
   ]
  },
  {
   "cell_type": "markdown",
   "id": "93a5d270",
   "metadata": {},
   "source": [
    "# 5. What do the keyword arguments delimiter and line terminator do?"
   ]
  },
  {
   "cell_type": "markdown",
   "id": "bc1b402b",
   "metadata": {},
   "source": [
    "**Answer:**\n",
    "    \n",
    "   - The **delimiter** argument changes the string used to separate cells in a row. \n",
    "   - The **lineterminator** argument changes the string used to separate rows."
   ]
  },
  {
   "cell_type": "markdown",
   "id": "58bacad0",
   "metadata": {},
   "source": [
    "# 6. What function takes a string of JSON data and returns a Python data structure?"
   ]
  },
  {
   "cell_type": "markdown",
   "id": "cc394dbb",
   "metadata": {},
   "source": [
    "**Answer:**\n",
    "    \n",
    "   - To translate a string containing JSON data into a Python value, pass it to the **json.loads()** function.\n",
    "   - It will return that data as a Python dictionary. Python dictionaries are not ordered, so the key-value pairs may appear in a different order "
   ]
  },
  {
   "cell_type": "markdown",
   "id": "05bab6b0",
   "metadata": {},
   "source": [
    "# 7. What function takes a Python data structure and returns a string of JSON data?"
   ]
  },
  {
   "cell_type": "markdown",
   "id": "7328b24d",
   "metadata": {},
   "source": [
    "**Answer:**\n",
    "    \n",
    "   - The **json.dumps()** function (which means “dump string,” not “dumps”) will translate a Python value into a string of JSON-formatted data."
   ]
  },
  {
   "cell_type": "code",
   "execution_count": null,
   "id": "0358e5c5",
   "metadata": {},
   "outputs": [],
   "source": []
  }
 ],
 "metadata": {
  "kernelspec": {
   "display_name": "Python 3 (ipykernel)",
   "language": "python",
   "name": "python3"
  },
  "language_info": {
   "codemirror_mode": {
    "name": "ipython",
    "version": 3
   },
   "file_extension": ".py",
   "mimetype": "text/x-python",
   "name": "python",
   "nbconvert_exporter": "python",
   "pygments_lexer": "ipython3",
   "version": "3.9.7"
  }
 },
 "nbformat": 4,
 "nbformat_minor": 5
}
