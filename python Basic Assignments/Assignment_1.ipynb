{
 "cells": [
  {
   "cell_type": "markdown",
   "id": "90283cb1",
   "metadata": {},
   "source": [
    "# 1. In the below elements which of them are values or an expression?"
   ]
  },
  {
   "cell_type": "markdown",
   "id": "396978ad",
   "metadata": {},
   "source": [
    "eg:- values can be integer or string and expressions will be mathematical operators.<br>\n",
    "\n",
    "Answer: <br>\n",
    "\n",
    "\\* ------------- expression <br>\n",
    "'hello' ------- Value <br>\n",
    "-87.8 --------- Value <br>\n",
    "\\- ------------- expression <br>\n",
    "/  ------------ expression <br>\n",
    "\\+ ------------- expression <br>\n",
    "6 ------------- Value <br>\n"
   ]
  },
  {
   "cell_type": "markdown",
   "id": "30c35529",
   "metadata": {},
   "source": [
    "# 2. What is the difference between string and variable?"
   ]
  },
  {
   "cell_type": "markdown",
   "id": "0c931aeb",
   "metadata": {},
   "source": [
    "Answer:\n",
    "String is a sequence of characters or a single character.In python strings are represented in between single or double quotation marks. eg: 'name', \"a\", \"full stack data science\"\n",
    "\n",
    "Variable is a memory location reserved to store values. A value can be of any datatype like int, float , bool, string, list, tuple, dict..etc.\n",
    "\n",
    "Difference between string and variable is that variable is a container( memory location) in which values can be stored such as string. "
   ]
  },
  {
   "cell_type": "markdown",
   "id": "f98dd72a",
   "metadata": {},
   "source": [
    "# 3. Describe three different data types."
   ]
  },
  {
   "cell_type": "markdown",
   "id": "38dc2a46",
   "metadata": {},
   "source": [
    "Answer:\n",
    "3 basic different data types are as follows:\n",
    " 1. Numeric: Numeric data type represent numbers such integers,complex number..etc. These can be again divided into 3 types:\n",
    "         a. int - integers eg: 1,2,10\n",
    "         b. float - numbers with decimals eg: 1.2, 3.456\n",
    "         c. comlex - complex numbers with real and imaginary parts eg: 1+2j\n",
    "             j represents imaginary part in python\n",
    " \n",
    " 2. String: String represents single or group of characters. str is the data type in python which represents this.\n",
    "             eg: 'full', \"full stack data science\", 'd'\n",
    " \n",
    " 3. Boolean: Boolean is used to represent either True or False only. In Python, bool is the datatype used for this.\n",
    "             eg: True, False"
   ]
  },
  {
   "cell_type": "markdown",
   "id": "4033919a",
   "metadata": {},
   "source": [
    "# 4. What is an expression made up of? What do all expressions do?"
   ]
  },
  {
   "cell_type": "markdown",
   "id": "7172d8f9",
   "metadata": {},
   "source": [
    "Answer:\n",
    "Expressions are made up of operators and operands.\n",
    " 1. Operands can be of any data type( int,str,bool).\n",
    " 2. There are various operators such as:\n",
    "             a. Airthmetic operators\n",
    "             b. logical operators\n",
    "             c. comparison operators\n",
    "             d. bitwise operators\n",
    "    if there are more than one operators, then precendence is followed to evaluate the expression.\n",
    "    \n",
    "    Any expression is interpreted to give another value as output."
   ]
  },
  {
   "cell_type": "markdown",
   "id": "cbe8ccf9",
   "metadata": {},
   "source": [
    "# 5. This assignment statements, like spam = 10. What is the difference between an expression and a statement?"
   ]
  },
  {
   "cell_type": "markdown",
   "id": "07fe88b8",
   "metadata": {},
   "source": [
    "Answer:\n",
    "Assignment statements assigns a value to a variable. The interpreter stores the value in the memory allocated to the variable when a statement is executed.\n",
    "\n",
    "eg: spam=10 .... It just assigns value 10 to variable named 'spam' and stores the value in memory reserved to variable.\n",
    "\n",
    "expressions are combination of operators and operands. When executed interpreter evaluates the expression and gives the value as output.\n",
    "\n",
    "eg: 2+10 .... It is an expression when executed, 2 is added to 10 and prints 12 as output(new value)"
   ]
  },
  {
   "cell_type": "markdown",
   "id": "91f0d2ff",
   "metadata": {},
   "source": [
    "# 6. After running the following code, what does the variable bacon contain?"
   ]
  },
  {
   "cell_type": "markdown",
   "id": "4a461c5d",
   "metadata": {},
   "source": [
    "bacon = 22 <br>\n",
    "bacon + 1"
   ]
  },
  {
   "cell_type": "markdown",
   "id": "8d735a6f",
   "metadata": {},
   "source": [
    "Answer: \n",
    "\n",
    "when above code is executed, variable bacon contains 22, since we just executed 'bacon + 1' expression but we never assigned it to bacon variable "
   ]
  },
  {
   "cell_type": "code",
   "execution_count": 2,
   "id": "a72ef08d",
   "metadata": {},
   "outputs": [
    {
     "data": {
      "text/plain": [
       "22"
      ]
     },
     "execution_count": 2,
     "metadata": {},
     "output_type": "execute_result"
    }
   ],
   "source": [
    "bacon = 22\n",
    "bacon + 1\n",
    "bacon"
   ]
  },
  {
   "cell_type": "markdown",
   "id": "75c9d1fc",
   "metadata": {},
   "source": [
    "# 7. What should the values of the following two terms be?"
   ]
  },
  {
   "cell_type": "markdown",
   "id": "1f4c4530",
   "metadata": {},
   "source": [
    "'spam' + 'spamspam'<br>\n",
    " 'spam' * 3"
   ]
  },
  {
   "cell_type": "markdown",
   "id": "820a1905",
   "metadata": {},
   "source": [
    "Answer:\n",
    "1. 'spam' + 'spamspam' gives 'spamspamspam'\n",
    "2. 'spam' * 3 gives 'spamspamspam'"
   ]
  },
  {
   "cell_type": "code",
   "execution_count": 4,
   "id": "51445c33",
   "metadata": {},
   "outputs": [
    {
     "data": {
      "text/plain": [
       "'spamspamspam'"
      ]
     },
     "execution_count": 4,
     "metadata": {},
     "output_type": "execute_result"
    }
   ],
   "source": [
    "'spam' + 'spamspam'"
   ]
  },
  {
   "cell_type": "code",
   "execution_count": 5,
   "id": "8063d687",
   "metadata": {},
   "outputs": [
    {
     "data": {
      "text/plain": [
       "'spamspamspam'"
      ]
     },
     "execution_count": 5,
     "metadata": {},
     "output_type": "execute_result"
    }
   ],
   "source": [
    "'spam' * 3"
   ]
  },
  {
   "cell_type": "markdown",
   "id": "f6c4ec45",
   "metadata": {},
   "source": [
    "# 8. Why is eggs a valid variable name while 100 is invalid?"
   ]
  },
  {
   "cell_type": "markdown",
   "id": "d27e36f6",
   "metadata": {},
   "source": [
    "Answer:\n",
    "eggs is a valid variable name where as 200 is invalid because variable names in python should not start with numbers.\n",
    "\n",
    "The following are the variable naming rules to be followed in python:\n",
    "\n",
    "    1. A variable name should start with a character or underscore character.\n",
    "    2. A variable name cannot start with numbers.\n",
    "    3. A variable name can only contain alpha numeric characters and underscore character\n",
    "    4. Variable names are cse sensitive."
   ]
  },
  {
   "cell_type": "markdown",
   "id": "5b74e713",
   "metadata": {},
   "source": [
    "# 9. What three functions can be used to get the integer, floating-point number, or string version of a value?"
   ]
  },
  {
   "cell_type": "markdown",
   "id": "7f60bf0c",
   "metadata": {},
   "source": [
    "Answer:\n",
    "\n",
    "    a. int() is the function used to get integer version of a value.\n",
    "    b. float() is the function used to get floation-point number version of a value\n",
    "    c. str() is the function used to get string version of a value"
   ]
  },
  {
   "cell_type": "code",
   "execution_count": 7,
   "id": "1abe676b",
   "metadata": {},
   "outputs": [
    {
     "data": {
      "text/plain": [
       "10"
      ]
     },
     "execution_count": 7,
     "metadata": {},
     "output_type": "execute_result"
    }
   ],
   "source": [
    "# suppose a=10.23\n",
    "a = 10.23\n",
    "int(a)"
   ]
  },
  {
   "cell_type": "code",
   "execution_count": 8,
   "id": "ccdd477d",
   "metadata": {},
   "outputs": [
    {
     "data": {
      "text/plain": [
       "'10.23'"
      ]
     },
     "execution_count": 8,
     "metadata": {},
     "output_type": "execute_result"
    }
   ],
   "source": [
    "str(a)"
   ]
  },
  {
   "cell_type": "code",
   "execution_count": 9,
   "id": "2327fe0c",
   "metadata": {},
   "outputs": [
    {
     "data": {
      "text/plain": [
       "10.0"
      ]
     },
     "execution_count": 9,
     "metadata": {},
     "output_type": "execute_result"
    }
   ],
   "source": [
    "# suppose a=10\n",
    "a = 10\n",
    "float(a)"
   ]
  },
  {
   "cell_type": "markdown",
   "id": "1e2f83d9",
   "metadata": {},
   "source": [
    "# 10. Why does this expression cause an error? How can you fix it?"
   ]
  },
  {
   "cell_type": "markdown",
   "id": "13296f89",
   "metadata": {},
   "source": [
    "'I have eaten ' + 99 + ' burritos.'"
   ]
  },
  {
   "cell_type": "markdown",
   "id": "58b908e2",
   "metadata": {},
   "source": [
    "Answer:\n",
    "\n",
    "String concatenation can only done between strings. but 99 is an integer value because of which it will not allow the above expression to be executed\n",
    "\n",
    "We can convert 99 to string either by using str() function or enclosing 99 between quotation marks to fix this issue"
   ]
  },
  {
   "cell_type": "code",
   "execution_count": 10,
   "id": "8a1f30a3",
   "metadata": {},
   "outputs": [
    {
     "ename": "TypeError",
     "evalue": "can only concatenate str (not \"int\") to str",
     "output_type": "error",
     "traceback": [
      "\u001b[1;31m---------------------------------------------------------------------------\u001b[0m",
      "\u001b[1;31mTypeError\u001b[0m                                 Traceback (most recent call last)",
      "\u001b[1;32m~\\AppData\\Local\\Temp/ipykernel_5708/1774935878.py\u001b[0m in \u001b[0;36m<module>\u001b[1;34m\u001b[0m\n\u001b[1;32m----> 1\u001b[1;33m \u001b[1;34m'I have eaten '\u001b[0m \u001b[1;33m+\u001b[0m \u001b[1;36m99\u001b[0m \u001b[1;33m+\u001b[0m \u001b[1;34m' burritos.'\u001b[0m\u001b[1;33m\u001b[0m\u001b[1;33m\u001b[0m\u001b[0m\n\u001b[0m",
      "\u001b[1;31mTypeError\u001b[0m: can only concatenate str (not \"int\") to str"
     ]
    }
   ],
   "source": [
    "'I have eaten ' + 99 + ' burritos.'"
   ]
  },
  {
   "cell_type": "code",
   "execution_count": 11,
   "id": "7ddf7d1f",
   "metadata": {},
   "outputs": [
    {
     "data": {
      "text/plain": [
       "'I have eaten 99 burritos.'"
      ]
     },
     "execution_count": 11,
     "metadata": {},
     "output_type": "execute_result"
    }
   ],
   "source": [
    "'I have eaten ' + '99' + ' burritos.'"
   ]
  },
  {
   "cell_type": "code",
   "execution_count": 13,
   "id": "20875b79",
   "metadata": {},
   "outputs": [
    {
     "data": {
      "text/plain": [
       "'I have eaten 99 burritos.'"
      ]
     },
     "execution_count": 13,
     "metadata": {},
     "output_type": "execute_result"
    }
   ],
   "source": [
    "'I have eaten ' + str(99) + ' burritos.'"
   ]
  },
  {
   "cell_type": "code",
   "execution_count": null,
   "id": "f3af6c1e",
   "metadata": {},
   "outputs": [],
   "source": []
  }
 ],
 "metadata": {
  "kernelspec": {
   "display_name": "Python 3 (ipykernel)",
   "language": "python",
   "name": "python3"
  },
  "language_info": {
   "codemirror_mode": {
    "name": "ipython",
    "version": 3
   },
   "file_extension": ".py",
   "mimetype": "text/x-python",
   "name": "python",
   "nbconvert_exporter": "python",
   "pygments_lexer": "ipython3",
   "version": "3.9.7"
  }
 },
 "nbformat": 4,
 "nbformat_minor": 5
}
