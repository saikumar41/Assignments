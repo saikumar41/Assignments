{
 "cells": [
  {
   "cell_type": "markdown",
   "id": "90283cb1",
   "metadata": {},
   "source": [
    "# 1. In the below elements which of them are values or an expression?"
   ]
  },
  {
   "cell_type": "raw",
   "id": "5e04e924",
   "metadata": {},
   "source": [
    "eg:- values can be integer or string and expressions will be mathematical operators.\n",
    "* \n",
    "'hello'\n",
    "-87.8\n",
    "- \n",
    "/ \n",
    "+\n",
    "6 \n"
   ]
  },
  {
   "cell_type": "raw",
   "id": "affc5d3d",
   "metadata": {},
   "source": [
    "*, -, /, + are expressions\n",
    "'hello', -87.8, 6 are Values"
   ]
  },
  {
   "cell_type": "markdown",
   "id": "30c35529",
   "metadata": {},
   "source": [
    "# 2. What is the difference between string and variable?"
   ]
  },
  {
   "cell_type": "raw",
   "id": "d97da557",
   "metadata": {},
   "source": []
  },
  {
   "cell_type": "markdown",
   "id": "f98dd72a",
   "metadata": {},
   "source": [
    "# 3. Describe three different data types."
   ]
  },
  {
   "cell_type": "markdown",
   "id": "38dc2a46",
   "metadata": {},
   "source": []
  },
  {
   "cell_type": "markdown",
   "id": "4033919a",
   "metadata": {},
   "source": [
    "# 4. What is an expression made up of? What do all expressions do?"
   ]
  },
  {
   "cell_type": "markdown",
   "id": "7172d8f9",
   "metadata": {},
   "source": []
  },
  {
   "cell_type": "markdown",
   "id": "cbe8ccf9",
   "metadata": {},
   "source": [
    "# 5. This assignment statements, like spam = 10. What is the difference between an expression and a statement?"
   ]
  },
  {
   "cell_type": "markdown",
   "id": "07fe88b8",
   "metadata": {},
   "source": []
  },
  {
   "cell_type": "markdown",
   "id": "91f0d2ff",
   "metadata": {},
   "source": [
    "# 6. After running the following code, what does the variable bacon contain?"
   ]
  },
  {
   "cell_type": "markdown",
   "id": "4a461c5d",
   "metadata": {},
   "source": [
    "bacon = 22\n",
    "bacon + 1"
   ]
  },
  {
   "cell_type": "markdown",
   "id": "8d735a6f",
   "metadata": {},
   "source": []
  },
  {
   "cell_type": "markdown",
   "id": "75c9d1fc",
   "metadata": {},
   "source": [
    "# 7. What should the values of the following two terms be?"
   ]
  },
  {
   "cell_type": "markdown",
   "id": "1f4c4530",
   "metadata": {},
   "source": [
    "'spam' + 'spamspam'\n",
    " 'spam' * 3"
   ]
  },
  {
   "cell_type": "markdown",
   "id": "820a1905",
   "metadata": {},
   "source": []
  },
  {
   "cell_type": "markdown",
   "id": "f6c4ec45",
   "metadata": {},
   "source": [
    "# 8. Why is eggs a valid variable name while 100 is invalid?"
   ]
  },
  {
   "cell_type": "markdown",
   "id": "d27e36f6",
   "metadata": {},
   "source": []
  },
  {
   "cell_type": "markdown",
   "id": "5b74e713",
   "metadata": {},
   "source": [
    "# 9. What three functions can be used to get the integer, floating-point number, or string version of a value?"
   ]
  },
  {
   "cell_type": "markdown",
   "id": "7f60bf0c",
   "metadata": {},
   "source": []
  },
  {
   "cell_type": "markdown",
   "id": "1e2f83d9",
   "metadata": {},
   "source": [
    "# 10. Why does this expression cause an error? How can you fix it?"
   ]
  },
  {
   "cell_type": "markdown",
   "id": "13296f89",
   "metadata": {},
   "source": [
    "'I have eaten ' + 99 + ' burritos.'"
   ]
  },
  {
   "cell_type": "markdown",
   "id": "58b908e2",
   "metadata": {},
   "source": []
  }
 ],
 "metadata": {
  "kernelspec": {
   "display_name": "Python 3 (ipykernel)",
   "language": "python",
   "name": "python3"
  },
  "language_info": {
   "codemirror_mode": {
    "name": "ipython",
    "version": 3
   },
   "file_extension": ".py",
   "mimetype": "text/x-python",
   "name": "python",
   "nbconvert_exporter": "python",
   "pygments_lexer": "ipython3",
   "version": "3.9.7"
  }
 },
 "nbformat": 4,
 "nbformat_minor": 5
}
