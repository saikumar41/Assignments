{
 "cells": [
  {
   "cell_type": "markdown",
   "id": "da7f88f7",
   "metadata": {},
   "source": [
    "# 1. What is the name of the feature responsible for generating Regex objects?"
   ]
  },
  {
   "cell_type": "markdown",
   "id": "ceb35b89",
   "metadata": {},
   "source": [
    "Answer:\n",
    "\n",
    "    re.compile() method is responsible for compiling a regular expression pattern provided as a string into a regex pattern object (re.Pattern)."
   ]
  },
  {
   "cell_type": "markdown",
   "id": "118d10ab",
   "metadata": {},
   "source": [
    "# 2. Why do raw strings often appear in Regex objects?"
   ]
  },
  {
   "cell_type": "markdown",
   "id": "d653e799",
   "metadata": {},
   "source": [
    "Answer:\n",
    "    \n",
    "    Raw strings (r\"text\") are used in regex objects so that backslashes do not have to be escaped. Without it, every backslash needs to be prefixed with another backslash to escape it."
   ]
  },
  {
   "cell_type": "markdown",
   "id": "d3fa9b94",
   "metadata": {},
   "source": [
    "# 3. What is the return value of the search() method?"
   ]
  },
  {
   "cell_type": "markdown",
   "id": "ae182771",
   "metadata": {},
   "source": [
    "Answer:\n",
    "    \n",
    "    search() method searches the string for a match and returns the match object if there is a match else returns a None object. If there are more than one match, only first occurence will be returned."
   ]
  },
  {
   "cell_type": "markdown",
   "id": "ec0dbae2",
   "metadata": {},
   "source": [
    "# 4. From a Match item, how do you get the actual strings that match the pattern?"
   ]
  },
  {
   "cell_type": "markdown",
   "id": "ec0da17e",
   "metadata": {},
   "source": [
    "Answer:\n",
    "    \n",
    "    Match objects have a group() method that will return the actual matched string from the searched string."
   ]
  },
  {
   "cell_type": "markdown",
   "id": "acc63992",
   "metadata": {},
   "source": [
    "# 5. In the regex which created from the r'(\\d\\d\\d)-(\\d\\d\\d-\\d\\d\\d\\d)', what does group zero cover? Group 2? Group 1?"
   ]
  },
  {
   "cell_type": "markdown",
   "id": "1d58a424",
   "metadata": {},
   "source": [
    "Answer:\n",
    "    \n",
    "    1. group zero covers entire match\n",
    "    2. group2 covers the second set of parantheses\n",
    "    3. group1 covers the first set of parantheses"
   ]
  },
  {
   "cell_type": "markdown",
   "id": "1e914275",
   "metadata": {},
   "source": [
    "# 6. In standard expression syntax, parentheses and intervals have distinct meanings. How can you tell a regex that you want it to fit real parentheses and periods?"
   ]
  },
  {
   "cell_type": "markdown",
   "id": "e63197ff",
   "metadata": {},
   "source": [
    "Answer:\n",
    "    \n",
    "    Parantheses and intervals can be escaped with a backslash i.e..,'\\(','\\)','\\.' to fit real parantheses and periods."
   ]
  },
  {
   "cell_type": "markdown",
   "id": "d5557cbc",
   "metadata": {},
   "source": [
    "# 7. The findall() method returns a string list or a list of string tuples. What causes it to return one of the two options?"
   ]
  },
  {
   "cell_type": "markdown",
   "id": "3aac2703",
   "metadata": {},
   "source": [
    "Answer:\n",
    "    \n",
    "   1. If the regular expression **has no groups**, findall() method returns a **string list.**\n",
    "   2. If the regular expression **has groups**, findall() method returns a **list of string tuples.**"
   ]
  },
  {
   "cell_type": "markdown",
   "id": "f5cfa916",
   "metadata": {},
   "source": [
    "# 8. In standard expressions, what does the | character mean?"
   ]
  },
  {
   "cell_type": "markdown",
   "id": "07ef7e97",
   "metadata": {},
   "source": [
    "Answer:\n",
    "    \n",
    "    | character means either,or.\n",
    "    \n",
    "    eg: A|B, where A and B can be arbitrary REs, creates a regular expression that will match either A or B. Any number of REs can be can be separated by the '|' in this way"
   ]
  },
  {
   "cell_type": "markdown",
   "id": "dd446df2",
   "metadata": {},
   "source": [
    "# 9. In regular expressions, what does the ? character stand for?"
   ]
  },
  {
   "cell_type": "markdown",
   "id": "c43a1a8f",
   "metadata": {},
   "source": [
    "Answer:\n",
    "    \n",
    "    ? stands for matching 0 or 1 repetitions of the preceding RE.\n",
    "    \n",
    "    eg: ab? will match either ‘a’ or ‘ab’. This can also be used to signify non greedy matching."
   ]
  },
  {
   "cell_type": "markdown",
   "id": "84b0ff20",
   "metadata": {},
   "source": [
    "# 10.In regular expressions, what is the difference between the + and * characters?"
   ]
  },
  {
   "cell_type": "markdown",
   "id": "b3003a5d",
   "metadata": {},
   "source": [
    "Answer:\n",
    "    \n",
    "    1. + is used for matching one or more repetitions of the preceding RE\n",
    "        eg: ab+ will match ‘a’ followed by any non-zero number of ‘b’s; it will not match just ‘a’.\n",
    "        \n",
    "    2. * is used for matching 0 or more repetitions of the preceding RE, as many repetitions as are possible.\n",
    "        eg: ab* will match ‘a’, ‘ab’, or ‘a’ followed by any number of ‘b’s."
   ]
  },
  {
   "cell_type": "markdown",
   "id": "0b947233",
   "metadata": {},
   "source": [
    "# 11. What is the difference between {4} and {4,5} in regular expression?"
   ]
  },
  {
   "cell_type": "markdown",
   "id": "4d9ef9b1",
   "metadata": {},
   "source": [
    "Answer:\n",
    "    \n",
    "    1. {4} matches exactly four instances of the preceding group.\n",
    "        eg: a{4} will match exactly four 'a' characters\n",
    "        \n",
    "    2. {4,5} matches between four and five instances.\n",
    "        eg: a{4,5} will match 4 or 5 'a' characters."
   ]
  },
  {
   "cell_type": "markdown",
   "id": "9bee4212",
   "metadata": {},
   "source": [
    "# 12. What do you mean by the \\d, \\w, and \\s shorthand character classes signify in regular expressions?"
   ]
  },
  {
   "cell_type": "markdown",
   "id": "591f2363",
   "metadata": {},
   "source": [
    "Answer:\n",
    "    \n",
    "   1. \\d - Matches any **Unicode decimal digit** (that is, any character in Unicode character category [Nd]). This includes [0-9], and also many other digit characters. If the ASCII flag is used only **[0-9]** is matched.\n",
    "   \n",
    "    \n",
    "   2. \\w - Matches **Unicode word characters**; this includes most characters that can be part of a word in any language, as well as numbers and the underscore. If the ASCII flag is used, only **[a-zA-Z0-9_]** is matched.\n",
    "   \n",
    "    \n",
    "   3. \\s - Matches **Unicode whitespace characters** (which includes [ \\t\\n\\r\\f\\v], and also many other characters, for example the non-breaking spaces mandated by typography rules in many languages). If the ASCII flag is used, only **[ \\t\\n\\r\\f\\v]** is matched."
   ]
  },
  {
   "cell_type": "markdown",
   "id": "ccb8f070",
   "metadata": {},
   "source": [
    "# 13. What do means by \\D, \\W, and \\S shorthand character classes signify in regular expressions?"
   ]
  },
  {
   "cell_type": "markdown",
   "id": "bba7755e",
   "metadata": {},
   "source": [
    "Answer:\n",
    "    \n",
    "   1. \\D - Matches any character which is **not a decimal digit**. This is the opposite of \\d. If the ASCII flag is used this becomes the equivalent of **[^0-9]**.\n",
    "   \n",
    "   \n",
    "   2. \\W - Matches any character which is **not a word character**. This is the opposite of \\w. If the ASCII flag is used this becomes the equivalent of **[^a-zA-Z0-9_]**\n",
    "   \n",
    "   \n",
    "   3. \\S - Matches any character which is **not a whitespace character**. This is the opposite of \\s. If the ASCII flag is used this becomes the equivalent of **[^ \\t\\n\\r\\f\\v]**."
   ]
  },
  {
   "cell_type": "markdown",
   "id": "3ae81ada",
   "metadata": {},
   "source": [
    "# 14. What is the difference between .\\*? and .\\*?"
   ]
  },
  {
   "cell_type": "markdown",
   "id": "48f65478",
   "metadata": {},
   "source": [
    "Answer:\n",
    "    \n",
    "    <.*> - will match the entire string\n",
    "        eg: RE <.*> is matched against '<a> b <c>' will match entire string not just 'a'.\n",
    "        \n",
    "    <.*?> - will match only single character. Adding ? after the qualifier makes it perform the match in non-greedy or minimal fashion; as few characters as possible will be matched.\n",
    "        eg: RE <.*> is matched against '<a> b <c>' will match only 'a'."
   ]
  },
  {
   "cell_type": "markdown",
   "id": "396c1e8c",
   "metadata": {},
   "source": [
    "# 15. What is the syntax for matching both numbers and lowercase letters with a character class?"
   ]
  },
  {
   "cell_type": "markdown",
   "id": "bd1e2b72",
   "metadata": {},
   "source": [
    "Answer:\n",
    "    \n",
    "   **[a-z0-9]** or **[0-9a-z]** any of the 2 can be used for matching both numbers and lowercase letters with a character class"
   ]
  },
  {
   "cell_type": "markdown",
   "id": "4dd5688e",
   "metadata": {},
   "source": [
    "# 16. What is the procedure for making a normal expression in regax case insensitive?"
   ]
  },
  {
   "cell_type": "markdown",
   "id": "9eef95a7",
   "metadata": {},
   "source": [
    "Answer:\n",
    "    \n",
    "   **re.I** or **re.IGNORECASE** can be passed as second argument to re.compile() to make regex case insensitive."
   ]
  },
  {
   "cell_type": "markdown",
   "id": "ddc1bd7c",
   "metadata": {},
   "source": [
    "# 17. What does the . character normally match? What does it match if re.DOTALL is passed as 2nd argument in re.compile()?"
   ]
  },
  {
   "cell_type": "markdown",
   "id": "2490adde",
   "metadata": {},
   "source": [
    "Answer:\n",
    "    \n",
    "   - . character matches **any character except a newline**.\n",
    "   - if re.DOTALL is passed as 2nd argument in re.compile(), it matches **any character along with newline**."
   ]
  },
  {
   "cell_type": "markdown",
   "id": "28f68c69",
   "metadata": {},
   "source": [
    "# 18. If numReg = re.compile(r'\\d+'), what will numRegex.sub('X', '11 drummers, 10 pipers, five rings, 4 hen') return?"
   ]
  },
  {
   "cell_type": "markdown",
   "id": "4cbe9cae",
   "metadata": {},
   "source": [
    "Answer:\n",
    "    \n",
    "    The above expression will return 'X drummers, X pipers, five rings, X hens'"
   ]
  },
  {
   "cell_type": "code",
   "execution_count": 3,
   "id": "04942d0b",
   "metadata": {},
   "outputs": [
    {
     "data": {
      "text/plain": [
       "'X drummers, X pipers, five rings, X hen'"
      ]
     },
     "execution_count": 3,
     "metadata": {},
     "output_type": "execute_result"
    }
   ],
   "source": [
    "import regex as re\n",
    "numReg = re.compile(r'\\d+')\n",
    "numReg.sub('X', '11 drummers, 10 pipers, five rings, 4 hen')"
   ]
  },
  {
   "cell_type": "markdown",
   "id": "3ba57597",
   "metadata": {},
   "source": [
    "# 19. What does passing re.VERBOSE as the 2nd argument to re.compile() allow to do?"
   ]
  },
  {
   "cell_type": "markdown",
   "id": "48e0e4b5",
   "metadata": {},
   "source": [
    "Answer:\n",
    "    \n",
    "    re.VERBOSE argument allows you to add whitespace and comments to the string passed to re.compile().\n",
    "    "
   ]
  },
  {
   "cell_type": "markdown",
   "id": "2e39f894",
   "metadata": {},
   "source": [
    "# 20. How would you write a regex that match a number with comma for every three digits? It must match the given following:\n",
    "\n",
    "'42'\n",
    "\n",
    "'1,234'\n",
    "\n",
    "'6,368,745'\n",
    "\n",
    "but not the following:\n",
    "    \n",
    "'12,34,567' (which has only two digits between the commas)\n",
    "\n",
    "'1234' (which lacks commas)\n"
   ]
  },
  {
   "cell_type": "markdown",
   "id": "7dcb3c4c",
   "metadata": {},
   "source": [
    "**Answer:**\n",
    "    \n",
    "    r'^\\d{1,3}(,\\d{3})*$' is the regex that will match a number with comma for every three digits"
   ]
  },
  {
   "cell_type": "code",
   "execution_count": 22,
   "id": "e40376aa",
   "metadata": {},
   "outputs": [
    {
     "name": "stdout",
     "output_type": "stream",
     "text": [
      "<regex.Match object; span=(0, 2), match='42'>\n",
      "<regex.Match object; span=(0, 5), match='1,234'>\n",
      "<regex.Match object; span=(0, 9), match='6,368,745'>\n",
      "None\n",
      "None\n"
     ]
    }
   ],
   "source": [
    "num = re.compile(r'^\\d{1,3}(,\\d{3})*$')\n",
    "print(num.match('42'))\n",
    "print(num.match('1,234'))\n",
    "print(num.match('6,368,745'))\n",
    "print(num.match('12,34,567'))\n",
    "print(num.match('1234'))"
   ]
  },
  {
   "cell_type": "markdown",
   "id": "06c69e1e",
   "metadata": {},
   "source": [
    "# 21. How would you write a regex that matches the full name of someone whose last name is Watanabe? You can assume that the first name that comes before it will always be one word that begins with a capital letter. The regex must match the following:\n",
    "\n",
    "'Haruto Watanabe'\n",
    "\n",
    "'Alice Watanabe'\n",
    "\n",
    "'RoboCop Watanabe'\n",
    "\n",
    "but not the following:\n",
    "\n",
    "'haruto Watanabe' (where the first name is not capitalized)\n",
    "\n",
    "'Mr. Watanabe' (where the preceding word has a nonletter character)\n",
    "\n",
    "'Watanabe' (which has no first name)\n",
    "\n",
    "'Haruto watanabe' (where Watanabe is not capitalized)\n"
   ]
  },
  {
   "cell_type": "markdown",
   "id": "89850efe",
   "metadata": {},
   "source": [
    "**Answer:**\n",
    "    \n",
    "    r'^[A-Z][A-Za-z]*\\sWatanabe' is regex that can match the given conditions"
   ]
  },
  {
   "cell_type": "code",
   "execution_count": 33,
   "id": "7aec1ff0",
   "metadata": {},
   "outputs": [
    {
     "name": "stdout",
     "output_type": "stream",
     "text": [
      "<regex.Match object; span=(0, 15), match='Haruto Watanabe'>\n",
      "<regex.Match object; span=(0, 14), match='Alice Watanabe'>\n",
      "<regex.Match object; span=(0, 16), match='RoboCop Watanabe'>\n",
      "None\n",
      "None\n",
      "None\n",
      "None\n"
     ]
    }
   ],
   "source": [
    "word = re.compile(r'^[A-Z][A-Za-z]*\\sWatanabe')\n",
    "print(word.match('Haruto Watanabe'))\n",
    "print(word.match('Alice Watanabe'))\n",
    "print(word.match('RoboCop Watanabe'))\n",
    "print(word.match('haruto Watanabe'))\n",
    "print(word.match('Mr. Watanabe'))\n",
    "print(word.match('Watanabe'))\n",
    "print(word.match('Haruto watanabe'))"
   ]
  },
  {
   "cell_type": "markdown",
   "id": "4f286366",
   "metadata": {},
   "source": [
    "# 22. How would you write a regex that matches a sentence where the first word is either Alice, Bob, or Carol; the second word is either eats, pets, or throws; the third word is apples, cats, or baseballs; and the sentence ends with a period? This regex should be case-insensitive. It must match the following:\n",
    "\n",
    "'Alice eats apples.'\n",
    "\n",
    "'Bob pets cats.'\n",
    "\n",
    "'Carol throws baseballs.'\n",
    "\n",
    "'Alice throws Apples.'\n",
    "\n",
    "'BOB EATS CATS.'\n",
    "\n",
    "but not the following:\n",
    "\n",
    "'RoboCop eats apples.'\n",
    "\n",
    "'ALICE THROWS FOOTBALLS.'\n",
    "\n",
    "'Carol eats 7 cats.'\n"
   ]
  },
  {
   "cell_type": "markdown",
   "id": "17ca5edb",
   "metadata": {},
   "source": [
    "**Answer:**\n",
    "    \n",
    "    re.compile(r'^(Alice|Bob|Carol)\\s(eats|pets|throws)\\s(apples|cats|baseballs).$',re.I) is the regex which will match given conditions"
   ]
  },
  {
   "cell_type": "code",
   "execution_count": 34,
   "id": "9ce2da9d",
   "metadata": {},
   "outputs": [
    {
     "name": "stdout",
     "output_type": "stream",
     "text": [
      "<regex.Match object; span=(0, 18), match='Alice eats apples.'>\n",
      "<regex.Match object; span=(0, 14), match='Bob pets cats.'>\n",
      "<regex.Match object; span=(0, 23), match='Carol throws baseballs.'>\n",
      "<regex.Match object; span=(0, 20), match='Alice throws Apples.'>\n",
      "<regex.Match object; span=(0, 14), match='BOB EATS CATS.'>\n",
      "None\n",
      "None\n",
      "None\n"
     ]
    }
   ],
   "source": [
    "sen = re.compile(r'^(Alice|Bob|Carol)\\s(eats|pets|throws)\\s(apples|cats|baseballs).$',re.I)\n",
    "print(sen.match('Alice eats apples.'))\n",
    "print(sen.match('Bob pets cats.'))\n",
    "print(sen.match('Carol throws baseballs.'))\n",
    "print(sen.match('Alice throws Apples.'))\n",
    "print(sen.match('BOB EATS CATS.'))\n",
    "print(sen.match('RoboCop eats apples.'))\n",
    "print(sen.match('ALICE THROWS FOOTBALLS.'))\n",
    "print(sen.match('Carol eats 7 cats.'))"
   ]
  },
  {
   "cell_type": "code",
   "execution_count": null,
   "id": "3d902137",
   "metadata": {},
   "outputs": [],
   "source": []
  }
 ],
 "metadata": {
  "kernelspec": {
   "display_name": "Python 3 (ipykernel)",
   "language": "python",
   "name": "python3"
  },
  "language_info": {
   "codemirror_mode": {
    "name": "ipython",
    "version": 3
   },
   "file_extension": ".py",
   "mimetype": "text/x-python",
   "name": "python",
   "nbconvert_exporter": "python",
   "pygments_lexer": "ipython3",
   "version": "3.9.7"
  }
 },
 "nbformat": 4,
 "nbformat_minor": 5
}
