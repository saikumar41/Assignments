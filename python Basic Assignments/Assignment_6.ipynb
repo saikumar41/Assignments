{
 "cells": [
  {
   "cell_type": "markdown",
   "id": "33e213b5",
   "metadata": {},
   "source": [
    "# 1. What are escape characters, and how do you use them?"
   ]
  },
  {
   "cell_type": "markdown",
   "id": "6887c201",
   "metadata": {},
   "source": [
    "Answer:\n",
    "\n",
    "    Escape characters are used to insert characters that are illegal in a string. An escape character is a backslash \\ followed by the character you want to insert.\n",
    "    "
   ]
  },
  {
   "cell_type": "markdown",
   "id": "17033395",
   "metadata": {},
   "source": [
    "# 2. What do the escape characters n and t stand for?"
   ]
  },
  {
   "cell_type": "markdown",
   "id": "3c5318b7",
   "metadata": {},
   "source": [
    "Answer:\n",
    "\n",
    "    1. \\n is used to insert a new line\n",
    "    2. \\t is used to insert a tab space"
   ]
  },
  {
   "cell_type": "markdown",
   "id": "dcf0aa58",
   "metadata": {},
   "source": [
    "# 3. What is the way to include backslash characters in a string?"
   ]
  },
  {
   "cell_type": "markdown",
   "id": "b3365c83",
   "metadata": {},
   "source": [
    "Answer:\n",
    "\n",
    "    We can use \\ followed by backslash ('\\\\') to include backslash characters in a string"
   ]
  },
  {
   "cell_type": "markdown",
   "id": "a0c07492",
   "metadata": {},
   "source": [
    "# 4. The string \"Howl's Moving Castle\" is a correct value. Why isn't the single quote character in the word Howl's not escaped a problem?"
   ]
  },
  {
   "cell_type": "markdown",
   "id": "1f4e07d4",
   "metadata": {},
   "source": [
    "Answer:\n",
    "\n",
    "    Single quote character can be used within double quotes. so, It is not a problem when single quote character in the word Howl's not escaped"
   ]
  },
  {
   "cell_type": "markdown",
   "id": "b30dafdd",
   "metadata": {},
   "source": [
    "# 5. How do you write a string of newlines if you don't want to use the n character?"
   ]
  },
  {
   "cell_type": "markdown",
   "id": "ba29ab55",
   "metadata": {},
   "source": [
    "Answer:\n",
    "\n",
    "    We can enclose the string in between triple quotation marks which allows multi line strings."
   ]
  },
  {
   "cell_type": "code",
   "execution_count": 2,
   "id": "b69e5048",
   "metadata": {},
   "outputs": [
    {
     "name": "stdout",
     "output_type": "stream",
     "text": [
      "This is first line\n",
      "this is second line\n",
      "this is third line\n",
      "\n"
     ]
    }
   ],
   "source": [
    "s = \"\"\"This is first line\n",
    "this is second line\n",
    "this is third line\n",
    "\"\"\"\n",
    "print(s)"
   ]
  },
  {
   "cell_type": "markdown",
   "id": "195df285",
   "metadata": {},
   "source": [
    "# 6. What are the values of the given expressions?\n",
    "'Hello, world!'[1]\n",
    "\n",
    "'Hello, world!'[0:5]\n",
    "\n",
    "'Hello, world!'[:5]\n",
    "\n",
    "'Hello, world!'[3:]\n"
   ]
  },
  {
   "cell_type": "markdown",
   "id": "de3a70d0",
   "metadata": {},
   "source": [
    "Answer:\n",
    "\n",
    "    1. 'Hello, world!'[1]     gives 'e'\n",
    "    2. 'Hello, world!'[0:5]   gives 'Hello'\n",
    "    3. 'Hello, world!'[:5]    gives 'Hello'\n",
    "    4. 'Hello, world!'[3:]    gives 'lo, world!'"
   ]
  },
  {
   "cell_type": "code",
   "execution_count": 3,
   "id": "4ed2c3b0",
   "metadata": {},
   "outputs": [
    {
     "name": "stdout",
     "output_type": "stream",
     "text": [
      "e\n",
      "Hello\n",
      "Hello\n",
      "lo, world!\n"
     ]
    }
   ],
   "source": [
    "print('Hello, world!'[1])\n",
    "print('Hello, world!'[0:5])\n",
    "print('Hello, world!'[:5])\n",
    "print('Hello, world!'[3:])"
   ]
  },
  {
   "cell_type": "markdown",
   "id": "60eb8b38",
   "metadata": {},
   "source": [
    "# 7. What are the values of the following expressions?\n",
    "'Hello'.upper()\n",
    "\n",
    "'Hello'.upper().isupper()\n",
    "\n",
    "'Hello'.upper().lower()\n"
   ]
  },
  {
   "cell_type": "markdown",
   "id": "2ffa0c97",
   "metadata": {},
   "source": [
    "Answer:\n",
    "\n",
    "    1. 'Hello'.upper()               gives 'HELLO'\n",
    "    2. 'Hello'.upper().isupper()     gives True\n",
    "    3. 'Hello'.upper().lower()       gives 'hello'"
   ]
  },
  {
   "cell_type": "code",
   "execution_count": 4,
   "id": "0b0d88c2",
   "metadata": {},
   "outputs": [
    {
     "name": "stdout",
     "output_type": "stream",
     "text": [
      "HELLO\n",
      "True\n",
      "hello\n"
     ]
    }
   ],
   "source": [
    "print('Hello'.upper())\n",
    "print('Hello'.upper().isupper())\n",
    "print('Hello'.upper().lower())"
   ]
  },
  {
   "cell_type": "markdown",
   "id": "421f3ca5",
   "metadata": {},
   "source": [
    "# 8. What are the values of the following expressions?\n",
    "'Remember, remember, the fifth of July.'.split()\n",
    "\n",
    "'-'.join('There can only one.'.split())\n"
   ]
  },
  {
   "cell_type": "markdown",
   "id": "9b47ec9f",
   "metadata": {},
   "source": [
    "Answer:\n",
    "\n",
    "    1. 'Remember, remember, the fifth of July.'.split()    gives ['Remember,', 'remember,', 'the', 'fifth', 'of', 'July.']\n",
    "    2. '-'.join('There can only one.'.split())             gives There-can-only-one."
   ]
  },
  {
   "cell_type": "code",
   "execution_count": 6,
   "id": "9e6a1ebf",
   "metadata": {},
   "outputs": [
    {
     "name": "stdout",
     "output_type": "stream",
     "text": [
      "['Remember,', 'remember,', 'the', 'fifth', 'of', 'July.']\n",
      "There-can-only-one.\n"
     ]
    }
   ],
   "source": [
    "print('Remember, remember, the fifth of July.'.split())\n",
    "print('-'.join('There can only one.'.split()))"
   ]
  },
  {
   "cell_type": "markdown",
   "id": "2ca70988",
   "metadata": {},
   "source": [
    "# 9. What are the methods for right-justifying, left-justifying, and centering a string?"
   ]
  },
  {
   "cell_type": "markdown",
   "id": "6f19e260",
   "metadata": {},
   "source": [
    "Answer:\n",
    "\n",
    "    1. rjust() is the method used for right-justifying a string\n",
    "    2. ljust() is the method used for left-justifying a string\n",
    "    1. center() is the method used for centering a string"
   ]
  },
  {
   "cell_type": "markdown",
   "id": "16d24093",
   "metadata": {},
   "source": [
    "# 10. What is the best way to remove whitespace characters from the start or end?"
   ]
  },
  {
   "cell_type": "markdown",
   "id": "a5d80cf3",
   "metadata": {},
   "source": [
    "Answer:\n",
    "\n",
    "    1. lstrip() method can be used to remove whitespace characters from the start.\n",
    "    2. rstrip() method can be used to remove whitespace characters from the end."
   ]
  },
  {
   "cell_type": "code",
   "execution_count": null,
   "id": "1b76f96d",
   "metadata": {},
   "outputs": [],
   "source": []
  }
 ],
 "metadata": {
  "kernelspec": {
   "display_name": "Python 3 (ipykernel)",
   "language": "python",
   "name": "python3"
  },
  "language_info": {
   "codemirror_mode": {
    "name": "ipython",
    "version": 3
   },
   "file_extension": ".py",
   "mimetype": "text/x-python",
   "name": "python",
   "nbconvert_exporter": "python",
   "pygments_lexer": "ipython3",
   "version": "3.9.7"
  }
 },
 "nbformat": 4,
 "nbformat_minor": 5
}
