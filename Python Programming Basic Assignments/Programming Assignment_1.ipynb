{
 "cells": [
  {
   "cell_type": "markdown",
   "id": "0f73917f",
   "metadata": {},
   "source": [
    "# 1. Write a Python program to print \"Hello Python\"?"
   ]
  },
  {
   "cell_type": "code",
   "execution_count": 3,
   "id": "b6d3772e",
   "metadata": {},
   "outputs": [
    {
     "name": "stdout",
     "output_type": "stream",
     "text": [
      "Hello Python\n"
     ]
    }
   ],
   "source": [
    "# hello World program\n",
    "print(\"Hello Python\")"
   ]
  },
  {
   "cell_type": "markdown",
   "id": "0f2e888e",
   "metadata": {},
   "source": [
    "# 2. Write a Python program to do arithmetical operations addition and division?"
   ]
  },
  {
   "cell_type": "code",
   "execution_count": 6,
   "id": "d5f6faa1",
   "metadata": {},
   "outputs": [
    {
     "name": "stdout",
     "output_type": "stream",
     "text": [
      "enter first number:10\n",
      "enter second number:2\n",
      "10 + 2 = 12\n",
      "10 / 2 = 5.0\n"
     ]
    }
   ],
   "source": [
    "# take 2 values as input for performing arithmetical operations\n",
    "a = int(input('enter first number:'))\n",
    "b = int(input('enter second number:'))\n",
    "print('{} + {} = {}'.format(a,b,a+b))\n",
    "print('{} / {} = {}'.format(a,b,a/b))"
   ]
  },
  {
   "cell_type": "markdown",
   "id": "56e8d504",
   "metadata": {},
   "source": [
    "# 3. Write a Python program to find the area of a triangle?"
   ]
  },
  {
   "cell_type": "code",
   "execution_count": 7,
   "id": "e1363f93",
   "metadata": {},
   "outputs": [
    {
     "name": "stdout",
     "output_type": "stream",
     "text": [
      "enter height of triangle: 10\n",
      "enter base of triangle: 2\n",
      "The area of triangle is  10.0\n"
     ]
    }
   ],
   "source": [
    "# Getting input from user for height and base of a triangle\n",
    "height = int(input('enter height of triangle: '))\n",
    "base = int(input('enter base of triangle: '))\n",
    "area = 0.5 * height * base\n",
    "print('The area of triangle is ', area)"
   ]
  },
  {
   "cell_type": "markdown",
   "id": "1ae856ff",
   "metadata": {},
   "source": [
    "# 4.Write a Python program to swap two variables? "
   ]
  },
  {
   "cell_type": "code",
   "execution_count": 8,
   "id": "dee985ee",
   "metadata": {},
   "outputs": [
    {
     "name": "stdout",
     "output_type": "stream",
     "text": [
      "enter a number:12\n",
      "enter another number:23\n",
      "Variables Before swapping:\n",
      "a = 12 and b = 23\n",
      "Variables after swapping:\n",
      "a = 23 and b = 12\n"
     ]
    }
   ],
   "source": [
    "# getting input from user for 2 variables\n",
    "a = int(input('enter a number:'))\n",
    "b = int(input('enter another number:'))\n",
    "print('Variables Before swapping:')\n",
    "print('a = {} and b = {}'.format(a,b))\n",
    "a,b = b,a\n",
    "print('Variables after swapping:')\n",
    "print('a = {} and b = {}'.format(a,b))"
   ]
  },
  {
   "cell_type": "markdown",
   "id": "4d7c26a9",
   "metadata": {},
   "source": [
    "# 5. Write a Python program to generate a random number"
   ]
  },
  {
   "cell_type": "code",
   "execution_count": 17,
   "id": "379a8ec4",
   "metadata": {},
   "outputs": [
    {
     "name": "stdout",
     "output_type": "stream",
     "text": [
      "Random number in between 0 & 1 :  0.4741660114576284\n",
      "enter the lower bound of range:0\n",
      "enter the upper bound of range:10\n",
      "Random number in between 0 & 10 : 10\n"
     ]
    }
   ],
   "source": [
    "# importing random module\n",
    "import random\n",
    "#generating a random variable between 0 & 1\n",
    "print('Random number in between 0 & 1 : ',random.random())\n",
    "# generate random with in user defined range\n",
    "lower = int(input('enter the lower bound of range:'))\n",
    "upper = int(input('enter the upper bound of range:'))\n",
    "print('Random number in between {} & {} : {}'.format(lower,upper,random.randint(lower,upper)))"
   ]
  },
  {
   "cell_type": "code",
   "execution_count": null,
   "id": "8b77c21e",
   "metadata": {},
   "outputs": [],
   "source": []
  }
 ],
 "metadata": {
  "kernelspec": {
   "display_name": "Python 3 (ipykernel)",
   "language": "python",
   "name": "python3"
  },
  "language_info": {
   "codemirror_mode": {
    "name": "ipython",
    "version": 3
   },
   "file_extension": ".py",
   "mimetype": "text/x-python",
   "name": "python",
   "nbconvert_exporter": "python",
   "pygments_lexer": "ipython3",
   "version": "3.9.7"
  }
 },
 "nbformat": 4,
 "nbformat_minor": 5
}
