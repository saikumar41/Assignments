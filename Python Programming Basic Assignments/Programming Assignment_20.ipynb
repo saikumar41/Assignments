{
 "cells": [
  {
   "cell_type": "markdown",
   "id": "4688c7e3",
   "metadata": {},
   "source": [
    "# Question1\n",
    "Create a function that takes a list of strings and integers, and filters out the list so that it returns a list of integers only.\n"
   ]
  },
  {
   "cell_type": "code",
   "execution_count": 4,
   "id": "2ce71dd7",
   "metadata": {},
   "outputs": [
    {
     "data": {
      "text/plain": [
       "[1, 2, 3, 4]"
      ]
     },
     "execution_count": 4,
     "metadata": {},
     "output_type": "execute_result"
    }
   ],
   "source": [
    "def filter_list(lst):\n",
    "    return [i for i in lst if type(i) == int]\n",
    "\n",
    "filter_list([1, 2, 3, \"a\", \"b\", 4])"
   ]
  },
  {
   "cell_type": "markdown",
   "id": "2c9e47a0",
   "metadata": {},
   "source": [
    "# Question2\n",
    "Given a list of numbers, create a function which returns the list but with each element's index in the list added to itself. This means you add 0 to the number at index 0, add 1 to the number at index 1, etc..."
   ]
  },
  {
   "cell_type": "code",
   "execution_count": 7,
   "id": "62967bbf",
   "metadata": {},
   "outputs": [
    {
     "data": {
      "text/plain": [
       "[1, 3, 5, 7, 9]"
      ]
     },
     "execution_count": 7,
     "metadata": {},
     "output_type": "execute_result"
    }
   ],
   "source": [
    "def add_indexes(lst):\n",
    "    return [i+lst[i] for i in range(len(lst))]\n",
    "\n",
    "add_indexes([1, 2, 3, 4, 5])"
   ]
  },
  {
   "cell_type": "markdown",
   "id": "a83f5fa4",
   "metadata": {},
   "source": [
    "# Question3\n",
    "Create a function that takes the height and radius of a cone as arguments and returns the volume of the cone rounded to the nearest hundredth.\n"
   ]
  },
  {
   "cell_type": "code",
   "execution_count": 12,
   "id": "14a077bf",
   "metadata": {},
   "outputs": [
    {
     "data": {
      "text/plain": [
       "565.49"
      ]
     },
     "execution_count": 12,
     "metadata": {},
     "output_type": "execute_result"
    }
   ],
   "source": [
    "import math\n",
    "def cone_volume(h,r):\n",
    "    return round((math.pi * r**2 * h) / 3,2)\n",
    "\n",
    "cone_volume(15, 6)"
   ]
  },
  {
   "cell_type": "markdown",
   "id": "199b9b35",
   "metadata": {},
   "source": [
    "# Question4\n",
    "This Triangular Number Sequence is generated from a pattern of dots that form a triangle. The first 5 numbers of the sequence, or dots, are:\n",
    "    \n",
    "1, 3, 6, 10, 15\n",
    "\n",
    "This means that the first triangle has just one dot, the second one has three dots, the third one has 6 dots and so on.\n",
    "\n",
    "Write a function that gives the number of dots with its corresponding triangle number of the sequence.\n"
   ]
  },
  {
   "cell_type": "code",
   "execution_count": 16,
   "id": "4cabe7c1",
   "metadata": {},
   "outputs": [
    {
     "data": {
      "text/plain": [
       "23220"
      ]
     },
     "execution_count": 16,
     "metadata": {},
     "output_type": "execute_result"
    }
   ],
   "source": [
    "def triangle(n):\n",
    "    return int(n * (n+1)/2)\n",
    "\n",
    "triangle(215)"
   ]
  },
  {
   "cell_type": "markdown",
   "id": "dd00ea4a",
   "metadata": {},
   "source": [
    "# Question5\n",
    "Create a function that takes a list of numbers between 1 and 10 (excluding one number) and returns the missing number.\n"
   ]
  },
  {
   "cell_type": "code",
   "execution_count": 17,
   "id": "6afcbfc1",
   "metadata": {},
   "outputs": [
    {
     "data": {
      "text/plain": [
       "10"
      ]
     },
     "execution_count": 17,
     "metadata": {},
     "output_type": "execute_result"
    }
   ],
   "source": [
    "def missing_num(lst):\n",
    "    for i in range(1,11):\n",
    "        if i not in lst:\n",
    "            return i\n",
    "        \n",
    "missing_num([7, 2, 3, 6, 5, 9, 1, 4, 8])"
   ]
  },
  {
   "cell_type": "code",
   "execution_count": null,
   "id": "28ef3fba",
   "metadata": {},
   "outputs": [],
   "source": []
  }
 ],
 "metadata": {
  "kernelspec": {
   "display_name": "Python 3 (ipykernel)",
   "language": "python",
   "name": "python3"
  },
  "language_info": {
   "codemirror_mode": {
    "name": "ipython",
    "version": 3
   },
   "file_extension": ".py",
   "mimetype": "text/x-python",
   "name": "python",
   "nbconvert_exporter": "python",
   "pygments_lexer": "ipython3",
   "version": "3.9.7"
  }
 },
 "nbformat": 4,
 "nbformat_minor": 5
}
