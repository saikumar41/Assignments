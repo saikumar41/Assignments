{
 "cells": [
  {
   "cell_type": "markdown",
   "id": "6782a9d3",
   "metadata": {},
   "source": [
    "# Question1: \n",
    "\n",
    "    Create a function that takes three arguments a, b, c and returns the sum of the numbers that are evenly divided by c from the range a, b inclusive."
   ]
  },
  {
   "cell_type": "code",
   "execution_count": 4,
   "id": "a75595c6",
   "metadata": {},
   "outputs": [
    {
     "data": {
      "text/plain": [
       "20"
      ]
     },
     "execution_count": 4,
     "metadata": {},
     "output_type": "execute_result"
    }
   ],
   "source": [
    "def evenly_divisible(a,b,c):\n",
    "    lst = []\n",
    "    for i in range(a,b):\n",
    "        if i % c == 0:\n",
    "            lst.append(i)\n",
    "            \n",
    "    if len(lst) > 0:\n",
    "        return sum(lst)\n",
    "    else:\n",
    "        return \"No number between {} and {} can be evenly divided by {}.\".format(a,b,c)\n",
    "            \n",
    "evenly_divisible(1, 10, 2)"
   ]
  },
  {
   "cell_type": "markdown",
   "id": "b6f3417f",
   "metadata": {},
   "source": [
    "# Question2:\n",
    "    Create a function that returns True if a given inequality expression is correct and False otherwise"
   ]
  },
  {
   "cell_type": "code",
   "execution_count": 10,
   "id": "ff3597b4",
   "metadata": {},
   "outputs": [
    {
     "data": {
      "text/plain": [
       "False"
      ]
     },
     "execution_count": 10,
     "metadata": {},
     "output_type": "execute_result"
    }
   ],
   "source": [
    "def correct_signs(s):\n",
    "    if eval(s) : \n",
    "        return True\n",
    "    else:\n",
    "        return False\n",
    "    \n",
    "correct_signs(\"13 > 44 > 33 > 1\")"
   ]
  },
  {
   "cell_type": "markdown",
   "id": "d05873e0",
   "metadata": {},
   "source": [
    "# Question3:\n",
    "    Create a function that replaces all the vowels in a string with a specified character."
   ]
  },
  {
   "cell_type": "code",
   "execution_count": 12,
   "id": "880551bf",
   "metadata": {},
   "outputs": [
    {
     "data": {
      "text/plain": [
       "'sh*k*sp**r*'"
      ]
     },
     "execution_count": 12,
     "metadata": {},
     "output_type": "execute_result"
    }
   ],
   "source": [
    "def replace_vowels(s,sp):\n",
    "    for i in s:\n",
    "        if i.lower() in ['a','e','i','o','u']:\n",
    "            s = s.replace(i,sp)\n",
    "    return s\n",
    "\n",
    "replace_vowels(\"shakespeare\", \"*\")"
   ]
  },
  {
   "cell_type": "markdown",
   "id": "ef5a7b87",
   "metadata": {},
   "source": [
    "# Question4: \n",
    "    Write a function that calculates the factorial of a number recursively."
   ]
  },
  {
   "cell_type": "code",
   "execution_count": 15,
   "id": "c08729d1",
   "metadata": {},
   "outputs": [
    {
     "data": {
      "text/plain": [
       "3628800"
      ]
     },
     "execution_count": 15,
     "metadata": {},
     "output_type": "execute_result"
    }
   ],
   "source": [
    "def factorial(num):\n",
    "    if num == 1:\n",
    "        return 1\n",
    "    else:\n",
    "        return num * factorial(num-1)\n",
    "    \n",
    "factorial(10)"
   ]
  },
  {
   "cell_type": "markdown",
   "id": "9e6f5e4d",
   "metadata": {},
   "source": [
    "# Question 5:\n",
    "    \n",
    "Hamming distance is the number of characters that differ between two strings.\n",
    "\n",
    "To illustrate:\n",
    "\n",
    "String1: \"abcbba\"\n",
    "\n",
    "String2: \"abcbda\"\n",
    "\n",
    "Hamming Distance: 1 - \"b\" vs. \"d\" is the only difference.\n",
    "\n",
    "Create a function that computes the hamming distance between two strings."
   ]
  },
  {
   "cell_type": "code",
   "execution_count": 19,
   "id": "83c77f57",
   "metadata": {},
   "outputs": [
    {
     "data": {
      "text/plain": [
       "1"
      ]
     },
     "execution_count": 19,
     "metadata": {},
     "output_type": "execute_result"
    }
   ],
   "source": [
    "def hamming_distance(s1,s2):\n",
    "    if len(s1) != len(s2):\n",
    "        return \"Please Provide strings of equal length to calculate Hamming Distance.\"\n",
    "    d = 0\n",
    "    for i in range(len(s1)):\n",
    "        if s1[i] != s2[i]:\n",
    "            d += 1\n",
    "    return d\n",
    "\n",
    "hamming_distance(\"strong\", \"strung\")"
   ]
  },
  {
   "cell_type": "code",
   "execution_count": null,
   "id": "d749526a",
   "metadata": {},
   "outputs": [],
   "source": []
  }
 ],
 "metadata": {
  "kernelspec": {
   "display_name": "Python 3 (ipykernel)",
   "language": "python",
   "name": "python3"
  },
  "language_info": {
   "codemirror_mode": {
    "name": "ipython",
    "version": 3
   },
   "file_extension": ".py",
   "mimetype": "text/x-python",
   "name": "python",
   "nbconvert_exporter": "python",
   "pygments_lexer": "ipython3",
   "version": "3.9.7"
  }
 },
 "nbformat": 4,
 "nbformat_minor": 5
}
