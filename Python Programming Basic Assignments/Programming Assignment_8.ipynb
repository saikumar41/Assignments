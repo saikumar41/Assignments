{
 "cells": [
  {
   "cell_type": "markdown",
   "id": "11e4cd6e",
   "metadata": {},
   "source": [
    "# 1. Write a Python Program to Add Two Matrices?"
   ]
  },
  {
   "cell_type": "code",
   "execution_count": 7,
   "id": "5799be8f",
   "metadata": {},
   "outputs": [
    {
     "name": "stdout",
     "output_type": "stream",
     "text": [
      "The Sum of 2 matrices is  [[4, 6], [11, 13], [17, 19]]\n"
     ]
    }
   ],
   "source": [
    "# considering 2 list as an input\n",
    "\n",
    "l1 = [[1,2],\n",
    "    [4 ,5],\n",
    "    [7 ,8]]\n",
    "\n",
    "l2 = [[3,4],\n",
    "    [7,8],\n",
    "    [10,11]]\n",
    "\n",
    "s = [[l1[i][j] + l2[i][j] for j in range(len(l1[0]))] for i in range(len(l1))]\n",
    "print('The Sum of 2 matrices is ',s)"
   ]
  },
  {
   "cell_type": "markdown",
   "id": "2004cb54",
   "metadata": {},
   "source": [
    "# 2. Write a Python Program to Multiply Two Matrices?"
   ]
  },
  {
   "cell_type": "code",
   "execution_count": 16,
   "id": "4fc26c20",
   "metadata": {},
   "outputs": [
    {
     "name": "stdout",
     "output_type": "stream",
     "text": [
      "The Product of 2 matrices is  [[3, 8], [28, 40], [70, 88]]\n"
     ]
    }
   ],
   "source": [
    "# considering 2 list as an input\n",
    "\n",
    "l1 = [[1,2],\n",
    "    [4 ,5],\n",
    "    [7 ,8]]\n",
    "\n",
    "l2 = [[3,4],\n",
    "    [7,8],\n",
    "    [10,11]]\n",
    "\n",
    "s = [[l1[i][j] * l2[i][j] for j in range(len(l1[0]))] for i in range(len(l1))]\n",
    "print('The Product of 2 matrices is ',s)"
   ]
  },
  {
   "cell_type": "markdown",
   "id": "08182a18",
   "metadata": {},
   "source": [
    "# 3. Write a Python Program to Transpose a Matrix?"
   ]
  },
  {
   "cell_type": "code",
   "execution_count": 24,
   "id": "035939f5",
   "metadata": {},
   "outputs": [
    {
     "name": "stdout",
     "output_type": "stream",
     "text": [
      "The Transpose of given matrix is  [[1, 4, 7], [2, 5, 8], [3, 6, 9]]\n"
     ]
    }
   ],
   "source": [
    "# considering a array as an input\n",
    "\n",
    "l = [[1,2,3],\n",
    "    [4 ,5,6],\n",
    "    [7 ,8,9]]\n",
    "\n",
    "t = [[l[j][i] for j in range(len(l))] for i in range(len(l[0]))]\n",
    "print('The Transpose of given matrix is ',t)"
   ]
  },
  {
   "cell_type": "markdown",
   "id": "bd80c4c9",
   "metadata": {},
   "source": [
    "# 4. Write a Python Program to Sort Words in Alphabetic Order?"
   ]
  },
  {
   "cell_type": "code",
   "execution_count": 28,
   "id": "68b413e4",
   "metadata": {},
   "outputs": [
    {
     "name": "stdout",
     "output_type": "stream",
     "text": [
      "Enter list of items(space separated): very example python c java\n",
      "The Sorted list of Words in Alphabetic Order is ['c', 'example', 'java', 'python', 'very']\n"
     ]
    }
   ],
   "source": [
    "# Taking a list as an input\n",
    "\n",
    "l = [i for i in input('Enter list of items(space separated): ').split()]\n",
    "l.sort()\n",
    "print('The Sorted list of Words in Alphabetic Order is',l)"
   ]
  },
  {
   "cell_type": "markdown",
   "id": "7028f4ce",
   "metadata": {},
   "source": [
    "# 5. Write a Python Program to Remove Punctuation From a String?"
   ]
  },
  {
   "cell_type": "code",
   "execution_count": 38,
   "id": "886cc7ff",
   "metadata": {},
   "outputs": [
    {
     "name": "stdout",
     "output_type": "stream",
     "text": [
      "Enter a String: Python, is$ the % best language : for ! learning ;\n",
      "!\"#$%&'()*+,-./:;<=>?@[\\]^_`{|}~\n",
      "Python is the  best language  for  learning \n"
     ]
    }
   ],
   "source": [
    "# importing string module to get punctuations\n",
    "import string\n",
    "# taking a string as input\n",
    "\n",
    "s = input('Enter a String: ')\n",
    "print(string.punctuation)\n",
    "for i in s:\n",
    "    if i in string.punctuation:\n",
    "        s = s.replace(i,\"\")\n",
    "    else:\n",
    "         continue\n",
    "        \n",
    "print(s)"
   ]
  },
  {
   "cell_type": "code",
   "execution_count": null,
   "id": "efd56350",
   "metadata": {},
   "outputs": [],
   "source": []
  }
 ],
 "metadata": {
  "kernelspec": {
   "display_name": "Python 3 (ipykernel)",
   "language": "python",
   "name": "python3"
  },
  "language_info": {
   "codemirror_mode": {
    "name": "ipython",
    "version": 3
   },
   "file_extension": ".py",
   "mimetype": "text/x-python",
   "name": "python",
   "nbconvert_exporter": "python",
   "pygments_lexer": "ipython3",
   "version": "3.9.7"
  }
 },
 "nbformat": 4,
 "nbformat_minor": 5
}
