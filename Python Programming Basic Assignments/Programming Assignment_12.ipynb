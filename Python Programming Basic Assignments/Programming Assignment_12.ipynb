{
 "cells": [
  {
   "cell_type": "markdown",
   "id": "db655156",
   "metadata": {},
   "source": [
    "# 1. Write a Python program to Extract Unique values dictionary values?"
   ]
  },
  {
   "cell_type": "code",
   "execution_count": 3,
   "id": "3e5de4c5",
   "metadata": {},
   "outputs": [
    {
     "name": "stdout",
     "output_type": "stream",
     "text": [
      "Unique values in the given dictionary values are [5, 6, 7, 8, 'py', 10, 'it', 12, 'sk']\n"
     ]
    }
   ],
   "source": [
    "# considering following dictionary as an example\n",
    "\n",
    "d = {'a' : [5, 'sk', 'py', 8],\n",
    "     'b' : [10, 'it', 7, 5],\n",
    "     'c' : [6, 12, 'py', 8],\n",
    "     'd' : [10, 'sk', 5]}\n",
    "\n",
    "unique = list({i for val in d.values() for i in val})\n",
    "print('Unique values in the given dictionary values are {}'.format(unique))"
   ]
  },
  {
   "cell_type": "markdown",
   "id": "2244a88c",
   "metadata": {},
   "source": [
    "# 2. Write a Python program to find the sum of all items in a dictionary?"
   ]
  },
  {
   "cell_type": "code",
   "execution_count": 8,
   "id": "9bc0dbf9",
   "metadata": {},
   "outputs": [
    {
     "name": "stdout",
     "output_type": "stream",
     "text": [
      "The sum of all items in given dictionary is 1900\n"
     ]
    }
   ],
   "source": [
    "# considering following dictionary as an example\n",
    "\n",
    "d = {'a' : 100,\n",
    "     'b' : 300,\n",
    "     'c' : 500,\n",
    "     'd' : 1000}\n",
    "\n",
    "s = sum(list(i for i in d.values()))\n",
    "print('The sum of all items in given dictionary is {}'.format(s))"
   ]
  },
  {
   "cell_type": "markdown",
   "id": "dbe97eee",
   "metadata": {},
   "source": [
    "# 3. Write a Python program to Merging two Dictionaries?"
   ]
  },
  {
   "cell_type": "code",
   "execution_count": 13,
   "id": "03f40931",
   "metadata": {},
   "outputs": [
    {
     "name": "stdout",
     "output_type": "stream",
     "text": [
      "d1 is merged into d2 gives {'e': 'python', 'f': 'like', 2: 0.05, 'h': 1000, 'a': 100, 'b': 300, 'c': [500, 100], 'd': True}\n"
     ]
    }
   ],
   "source": [
    "# considering following dictionary as an example\n",
    "\n",
    "d1 = {'a' : 100,\n",
    "     'b' : 300,\n",
    "     'c' : [500,100],\n",
    "     'd' : True}\n",
    "\n",
    "d2 = {'e' : 'python',\n",
    "     'f' : 'like',\n",
    "     2 : 0.05,\n",
    "     'h' : 1000}\n",
    "\n",
    "d2.update(d1)\n",
    "print('d1 is merged into d2 gives {}'.format(d2))"
   ]
  },
  {
   "cell_type": "markdown",
   "id": "c466f87a",
   "metadata": {},
   "source": [
    "# 4. Write a Python program to convert key-values list to flat dictionary?"
   ]
  },
  {
   "cell_type": "code",
   "execution_count": 22,
   "id": "f93a70d6",
   "metadata": {},
   "outputs": [
    {
     "name": "stdout",
     "output_type": "stream",
     "text": [
      "converting key-values list to flat dictionary gives {1: 'Monday', 2: 'tuesday', 3: 'wednesday', 4: 'Thursday', 5: 'Friday', 6: 'Saturday', 7: 'Sunday'}\n"
     ]
    }
   ],
   "source": [
    "d = {'weekday' : [1, 2, 3, 4, 5, 6, 7],\n",
    "    'name' : ['Monday', 'tuesday', 'wednesday', 'Thursday', 'Friday', 'Saturday', 'Sunday']}\n",
    "lst = list(d.values())\n",
    "flat = {}\n",
    "for i in range(len(lst[0])):\n",
    "    flat[lst[0][i]] = lst[1][i]\n",
    "    \n",
    "print('converting key-values list to flat dictionary gives {}'.format(flat))"
   ]
  },
  {
   "cell_type": "markdown",
   "id": "3f7a50ae",
   "metadata": {},
   "source": [
    "# 5. Write a Python program to insertion at the beginning in OrderedDict?"
   ]
  },
  {
   "cell_type": "code",
   "execution_count": 36,
   "id": "ae9f3e34",
   "metadata": {},
   "outputs": [
    {
     "name": "stdout",
     "output_type": "stream",
     "text": [
      "'c:3' is inserted at the beginning in OrderedDict gives {'c': 3, 'a': '1', 'b': '2'}\n"
     ]
    }
   ],
   "source": [
    "from collections import OrderedDict\n",
    "\n",
    "od = OrderedDict([('a', '1'), ('b', '2')])\n",
    "od.update({'c':3})\n",
    "od.move_to_end('c',last=False)\n",
    "print(\"'c:3' is inserted at the beginning in OrderedDict gives {}\".format(dict(od)))"
   ]
  },
  {
   "cell_type": "markdown",
   "id": "d234f0c2",
   "metadata": {},
   "source": [
    "# 6. Write a Python program to check order of character in string using OrderedDict()?"
   ]
  },
  {
   "cell_type": "code",
   "execution_count": 1,
   "id": "1ad42e4e",
   "metadata": {},
   "outputs": [
    {
     "name": "stdout",
     "output_type": "stream",
     "text": [
      "Enter a string: ineuron python\n",
      "Enter a pattern to check: nro\n",
      "The given pattern follows order of character in given string\n"
     ]
    }
   ],
   "source": [
    "from collections import OrderedDict\n",
    "s = input('Enter a string: ')\n",
    "pattern = input('Enter a pattern to check: ')\n",
    "dict = OrderedDict.fromkeys(s) \n",
    "ptrlen = 0\n",
    "for key,value in dict.items():\n",
    "    if (key == pattern[ptrlen]): \n",
    "        ptrlen = ptrlen + 1\n",
    "    if (ptrlen == (len(pattern))): \n",
    "        print('The given pattern follows order of character in given string')\n",
    "        break\n",
    "else:\n",
    "    print('The given pattern doeanot follow order of character in given string')"
   ]
  },
  {
   "cell_type": "markdown",
   "id": "5a3c77ec",
   "metadata": {},
   "source": [
    "# 7. Write a Python program to sort Python Dictionaries by Key or Value?"
   ]
  },
  {
   "cell_type": "code",
   "execution_count": 4,
   "id": "3beacf1d",
   "metadata": {},
   "outputs": [
    {
     "name": "stdout",
     "output_type": "stream",
     "text": [
      "The sorted python Dictionary by key is \n",
      "(1, 20) (2, 60) (5, 100) (10, 30) (100, 1) (200, 12) "
     ]
    }
   ],
   "source": [
    "# sort by key\n",
    "\n",
    "d = {\n",
    "    1:20,\n",
    "    5:100,\n",
    "    10:30,\n",
    "    2:60,\n",
    "    100:1,\n",
    "    200:12\n",
    "}\n",
    "print('The sorted python Dictionary by key is ')\n",
    "for i in sorted(d.keys()):\n",
    "    print((i,d[i]), end=\" \")\n"
   ]
  },
  {
   "cell_type": "code",
   "execution_count": 11,
   "id": "1cfd1000",
   "metadata": {},
   "outputs": [
    {
     "name": "stdout",
     "output_type": "stream",
     "text": [
      "The sorted python Dictionary by key is \n",
      "[(100, 1), (200, 12), (1, 20), (10, 30), (2, 60), (5, 100)]\n"
     ]
    }
   ],
   "source": [
    "# sort by value\n",
    "print('The sorted python Dictionary by key is ')\n",
    "\n",
    "print(sorted(d.items(), key = lambda dl:(dl[1], dl[0]))) \n"
   ]
  },
  {
   "cell_type": "code",
   "execution_count": null,
   "id": "75621828",
   "metadata": {},
   "outputs": [],
   "source": []
  }
 ],
 "metadata": {
  "kernelspec": {
   "display_name": "Python 3 (ipykernel)",
   "language": "python",
   "name": "python3"
  },
  "language_info": {
   "codemirror_mode": {
    "name": "ipython",
    "version": 3
   },
   "file_extension": ".py",
   "mimetype": "text/x-python",
   "name": "python",
   "nbconvert_exporter": "python",
   "pygments_lexer": "ipython3",
   "version": "3.9.7"
  }
 },
 "nbformat": 4,
 "nbformat_minor": 5
}
