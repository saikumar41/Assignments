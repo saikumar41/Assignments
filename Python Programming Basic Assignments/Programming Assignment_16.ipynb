{
 "cells": [
  {
   "cell_type": "markdown",
   "id": "17f0d061",
   "metadata": {},
   "source": [
    "# Question1:\n",
    "\n",
    "Write a function that stutters a word as if someone is struggling to read it. The first two letters are repeated twice with an ellipsis ... and space after each, and then the word is pronounced with a question mark ?."
   ]
  },
  {
   "cell_type": "code",
   "execution_count": 3,
   "id": "ee1426eb",
   "metadata": {},
   "outputs": [
    {
     "data": {
      "text/plain": [
       "'en... en... enthusiastic?'"
      ]
     },
     "execution_count": 3,
     "metadata": {},
     "output_type": "execute_result"
    }
   ],
   "source": [
    "def stutter(s):\n",
    "    a = s[:2] + \"... \"\n",
    "    return a*2 + s + \"?\"\n",
    "\n",
    "stutter(\"enthusiastic\")"
   ]
  },
  {
   "cell_type": "markdown",
   "id": "a8d5c53a",
   "metadata": {},
   "source": [
    "# Question 2:\n",
    "Create a function that takes an angle in radians and returns the corresponding angle in degrees rounded to one decimal place."
   ]
  },
  {
   "cell_type": "code",
   "execution_count": 7,
   "id": "e72ff673",
   "metadata": {},
   "outputs": [
    {
     "data": {
      "text/plain": [
       "2864.8"
      ]
     },
     "execution_count": 7,
     "metadata": {},
     "output_type": "execute_result"
    }
   ],
   "source": [
    "import math\n",
    "\n",
    "def radians_to_degrees(rad):\n",
    "    return round((rad * 180/math.pi),1)\n",
    "\n",
    "radians_to_degrees(50)"
   ]
  },
  {
   "cell_type": "markdown",
   "id": "7d187901",
   "metadata": {},
   "source": [
    "# Question 3:\n",
    "In this challenge, establish if a given integer num is a Curzon number. If 1 plus 2 elevated to num is exactly divisible by 1 plus 2 multiplied by num, then num is a Curzon number."
   ]
  },
  {
   "cell_type": "code",
   "execution_count": 9,
   "id": "df73a27e",
   "metadata": {},
   "outputs": [
    {
     "data": {
      "text/plain": [
       "False"
      ]
     },
     "execution_count": 9,
     "metadata": {},
     "output_type": "execute_result"
    }
   ],
   "source": [
    "def is_curzon(num):\n",
    "    return (2 ** num + 1) % (2 * num +1) == 0\n",
    "\n",
    "is_curzon(10)"
   ]
  },
  {
   "cell_type": "markdown",
   "id": "ee557a49",
   "metadata": {},
   "source": [
    "# Question 4:\n",
    "Given the side length x find the area of a hexagon."
   ]
  },
  {
   "cell_type": "code",
   "execution_count": 15,
   "id": "7d9ec3eb",
   "metadata": {},
   "outputs": [
    {
     "data": {
      "text/plain": [
       "23.4"
      ]
     },
     "execution_count": 15,
     "metadata": {},
     "output_type": "execute_result"
    }
   ],
   "source": [
    "def area_of_hexagon(s):\n",
    "    return round((3*3**0.5/2) * s**2,1)\n",
    "    \n",
    "area_of_hexagon(3)"
   ]
  },
  {
   "cell_type": "markdown",
   "id": "7a15632c",
   "metadata": {},
   "source": [
    "# Question 5:\n",
    "    Create a function that returns a base-2 (binary) representation of a base-10 (decimal) string number. To convert is simple: ((2) means base-2 and (10) means base-10) 010101001(2) = 1 + 8 + 32 + 128.\n",
    "\n",
    "    Going from right to left, the value of the most right bit is 1, now from that every bit to the left will be x2 the value, value of an 8 bit binary numbers are (256, 128, 64, 32, 16, 8, 4, 2, 1).\n"
   ]
  },
  {
   "cell_type": "code",
   "execution_count": 13,
   "id": "c7e3c71c",
   "metadata": {},
   "outputs": [
    {
     "data": {
      "text/plain": [
       "'100001'"
      ]
     },
     "execution_count": 13,
     "metadata": {},
     "output_type": "execute_result"
    }
   ],
   "source": [
    "def binary(n):\n",
    "    i = 1\n",
    "    while int(n / i) != 1:\n",
    "        i *= 2\n",
    "    \n",
    "    sum = i\n",
    "    bin = '1'\n",
    "    while True :\n",
    "        i = int(i/2)\n",
    "        sum += i\n",
    "        if sum <= n :\n",
    "            bin = bin + '1'\n",
    "        if sum > n:\n",
    "            bin = bin + '0'\n",
    "            sum -= i\n",
    "        if i == 1:\n",
    "            break\n",
    "        \n",
    "    return bin\n",
    "\n",
    "binary(33)  "
   ]
  },
  {
   "cell_type": "code",
   "execution_count": null,
   "id": "ca87c584",
   "metadata": {},
   "outputs": [],
   "source": []
  }
 ],
 "metadata": {
  "kernelspec": {
   "display_name": "Python 3 (ipykernel)",
   "language": "python",
   "name": "python3"
  },
  "language_info": {
   "codemirror_mode": {
    "name": "ipython",
    "version": 3
   },
   "file_extension": ".py",
   "mimetype": "text/x-python",
   "name": "python",
   "nbconvert_exporter": "python",
   "pygments_lexer": "ipython3",
   "version": "3.9.7"
  }
 },
 "nbformat": 4,
 "nbformat_minor": 5
}
