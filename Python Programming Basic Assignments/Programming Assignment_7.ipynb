{
 "cells": [
  {
   "cell_type": "markdown",
   "id": "c8db17f2",
   "metadata": {},
   "source": [
    "# 1. Write a Python Program to find sum of array?"
   ]
  },
  {
   "cell_type": "code",
   "execution_count": 3,
   "id": "d6cd98e1",
   "metadata": {},
   "outputs": [
    {
     "name": "stdout",
     "output_type": "stream",
     "text": [
      "Enter list of items(space separated): 1 2 3 4 5\n",
      "The sum of [1, 2, 3, 4, 5] array is 15\n"
     ]
    }
   ],
   "source": [
    "# Taking a list as an input\n",
    "\n",
    "l = [int(i) for i in input('Enter list of items(space separated): ').split()]\n",
    "\n",
    "s = sum(l)\n",
    "\n",
    "print(\"The sum of {} array is {}\".format(l,s))"
   ]
  },
  {
   "cell_type": "markdown",
   "id": "0e76186e",
   "metadata": {},
   "source": [
    "# 2. Write a Python Program to find largest element in an array?"
   ]
  },
  {
   "cell_type": "code",
   "execution_count": 4,
   "id": "feb1a08f",
   "metadata": {},
   "outputs": [
    {
     "name": "stdout",
     "output_type": "stream",
     "text": [
      "Enter list of items(space separated): 23 45 67 89\n",
      "The sum of [23, 45, 67, 89] array is 89\n"
     ]
    }
   ],
   "source": [
    "# Taking a list as an input\n",
    "\n",
    "l = [int(i) for i in input('Enter list of items(space separated): ').split()]\n",
    "\n",
    "m = max(l)\n",
    "\n",
    "print(\"The sum of {} array is {}\".format(l,m))"
   ]
  },
  {
   "cell_type": "markdown",
   "id": "985fea85",
   "metadata": {},
   "source": [
    "# 3. Write a Python Program for array rotation?"
   ]
  },
  {
   "cell_type": "code",
   "execution_count": 7,
   "id": "b021d54b",
   "metadata": {},
   "outputs": [
    {
     "name": "stdout",
     "output_type": "stream",
     "text": [
      "Enter list of items(space separated): 1 2 3 4 5 7 6\n",
      "Enter number of rotations to be made: 2\n",
      "The Array [1, 2, 3, 4, 5, 7, 6] after being rotated by 2 times gives [3, 4, 5, 7, 6, 1, 2]\n"
     ]
    }
   ],
   "source": [
    "# Taking a list as an input\n",
    "\n",
    "l = [int(i) for i in input('Enter list of items(space separated): ').split()]\n",
    "\n",
    "# taking number of rotations to be made as input\n",
    "\n",
    "r = int(input('Enter number of rotations to be made: '))\n",
    "\n",
    "rotated = l[r:] + l[:r]\n",
    "\n",
    "print(\"The Array {} after being rotated by {} times gives {}\".format(l,r, rotated))"
   ]
  },
  {
   "cell_type": "markdown",
   "id": "a0d61efd",
   "metadata": {},
   "source": [
    "# 4. Write a Python Program to Split the array and add the first part to the end?"
   ]
  },
  {
   "cell_type": "code",
   "execution_count": 10,
   "id": "c48ccc26",
   "metadata": {},
   "outputs": [
    {
     "name": "stdout",
     "output_type": "stream",
     "text": [
      "Enter list of items(space separated): 3 1 2\n",
      "Enter index at which array is to be splited: 1\n",
      "The Array [3, 1, 2] after being rotated by 2 times gives [1, 2, 3]\n"
     ]
    }
   ],
   "source": [
    "# Taking a list as an input\n",
    "\n",
    "l = [int(i) for i in input('Enter list of items(space separated): ').split()]\n",
    "\n",
    "# taking index at which array is to be splited\n",
    "\n",
    "i = int(input('Enter index at which array is to be splited: '))\n",
    "\n",
    "sliced = l[i:] + l[:i]\n",
    "\n",
    "print(\"The Array {} after being rotated by {} times gives {}\".format(l,r, sliced))"
   ]
  },
  {
   "cell_type": "markdown",
   "id": "1e03316c",
   "metadata": {},
   "source": [
    "# 5. Write a Python Program to check if given array is Monotonic?"
   ]
  },
  {
   "cell_type": "code",
   "execution_count": 30,
   "id": "c78d07a5",
   "metadata": {},
   "outputs": [
    {
     "name": "stdout",
     "output_type": "stream",
     "text": [
      "Enter list of items(space separated): 1 5 3 10\n",
      "The Given array [1, 5, 3, 10] is not a monotonic\n"
     ]
    }
   ],
   "source": [
    "# Taking a list as an input\n",
    "\n",
    "l = [int(i) for i in input('Enter list of items(space separated): ').split()]\n",
    "asc,desc = [],[]\n",
    "asc.extend(l)\n",
    "desc.extend(l)\n",
    "asc.sort()\n",
    "desc.sort(reverse=True)\n",
    "if l == asc or l == desc :\n",
    "    print(\"The Given array {} is a monotonic\".format(l))\n",
    "else:\n",
    "    print(\"The Given array {} is not a monotonic\".format(l))"
   ]
  },
  {
   "cell_type": "code",
   "execution_count": null,
   "id": "249d4820",
   "metadata": {},
   "outputs": [],
   "source": []
  },
  {
   "cell_type": "code",
   "execution_count": null,
   "id": "122c510a",
   "metadata": {},
   "outputs": [],
   "source": []
  }
 ],
 "metadata": {
  "kernelspec": {
   "display_name": "Python 3 (ipykernel)",
   "language": "python",
   "name": "python3"
  },
  "language_info": {
   "codemirror_mode": {
    "name": "ipython",
    "version": 3
   },
   "file_extension": ".py",
   "mimetype": "text/x-python",
   "name": "python",
   "nbconvert_exporter": "python",
   "pygments_lexer": "ipython3",
   "version": "3.9.7"
  }
 },
 "nbformat": 4,
 "nbformat_minor": 5
}
