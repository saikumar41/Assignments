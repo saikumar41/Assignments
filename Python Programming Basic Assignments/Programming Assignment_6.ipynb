{
 "cells": [
  {
   "cell_type": "markdown",
   "id": "d3ffb7a5",
   "metadata": {},
   "source": [
    "# 1. Write a Python Program to Display Fibonacci Sequence Using Recursion?"
   ]
  },
  {
   "cell_type": "code",
   "execution_count": 14,
   "id": "00af9fd4",
   "metadata": {},
   "outputs": [
    {
     "name": "stdout",
     "output_type": "stream",
     "text": [
      "Enter the length of fibonacci sequence needs to be printed:10\n",
      "\n",
      " Fibonacci series with length 10 is [0, 1, 1, 2, 3, 5, 8, 13, 21, 34] \n"
     ]
    }
   ],
   "source": [
    "# Fibonacci Sequence using Recursion\n",
    "# 0, 1, 1, 2, 3, 5, 8, 13, 21, 34, 55, 89, 144 ...\n",
    "\n",
    "# Taking user input to get the upper bound of sequence\n",
    "\n",
    "n = int(input('Enter the length of fibonacci sequence needs to be printed:'))\n",
    "if n <= 0:\n",
    "    n = input(\"enter a valid length of series: \")\n",
    "fib = []\n",
    "def fibonacci(n):\n",
    "    if n == 0:\n",
    "        return 0\n",
    "    elif n == 1:\n",
    "        return 1\n",
    "    else:\n",
    "        return fibonacci(n - 1) + fibonacci(n - 2)\n",
    " \n",
    "for i in range(n):\n",
    "    fib.append(fibonacci(i))\n",
    "\n",
    "print('\\n Fibonacci series with length {} is {} '.format(n,fib))\n",
    "        \n",
    "        "
   ]
  },
  {
   "cell_type": "markdown",
   "id": "3eff11ba",
   "metadata": {},
   "source": [
    "# 2. Write a Python Program to Find Factorial of Number Using Recursion?"
   ]
  },
  {
   "cell_type": "code",
   "execution_count": 4,
   "id": "c41b803b",
   "metadata": {},
   "outputs": [
    {
     "name": "stdout",
     "output_type": "stream",
     "text": [
      "Please enter a number to find its factorial:6\n",
      "Factorial of 6 is 720\n"
     ]
    }
   ],
   "source": [
    "# Factorial of a number is given by a number multiplied by every number that preceeds it.\n",
    "# 5! = 5*4*3*2*1\n",
    "\n",
    "#taking number as a input to find its factorial\n",
    "\n",
    "n = int(input('Please enter a number to find its factorial:'))\n",
    "\n",
    "def fact(n):\n",
    "    if n==1:\n",
    "        return 1\n",
    "    else:\n",
    "        return n *fact(n-1)\n",
    "    \n",
    "print(\"Factorial of {} is {}\".format(n,fact(n)))"
   ]
  },
  {
   "cell_type": "markdown",
   "id": "69954abf",
   "metadata": {},
   "source": [
    "# 3. Write a Python Program to calculate your Body Mass Index?"
   ]
  },
  {
   "cell_type": "code",
   "execution_count": 8,
   "id": "976bb1e3",
   "metadata": {},
   "outputs": [
    {
     "name": "stdout",
     "output_type": "stream",
     "text": [
      "Enter your weight in KGs: 94\n",
      "Enter your height in meters: 1.65\n",
      "Your Body Mass Index is  34.527089072543625\n"
     ]
    }
   ],
   "source": [
    "# BMI is calculated by Weight( in kg) / height( in m) ^2\n",
    "\n",
    "# taking height nad weight as input\n",
    "\n",
    "w = float(input('Enter your weight in KGs: '))\n",
    "h = float(input('Enter your height in meters: '))\n",
    "\n",
    "bmi = w / h**2\n",
    "\n",
    "print('Your Body Mass Index is ',bmi )"
   ]
  },
  {
   "cell_type": "markdown",
   "id": "7224b7cf",
   "metadata": {},
   "source": [
    "# 4. Write a Python Program to calculate the natural logarithm of any number?"
   ]
  },
  {
   "cell_type": "code",
   "execution_count": 15,
   "id": "39451f90",
   "metadata": {},
   "outputs": [
    {
     "name": "stdout",
     "output_type": "stream",
     "text": [
      "Enter a number to calculate its natural logarithm: 4\n",
      "the natural logarithm of 4.0 number is 1.3862943611198906\n"
     ]
    }
   ],
   "source": [
    "# importing math module to find log\n",
    "import math\n",
    "\n",
    "# taking a number as input\n",
    "\n",
    "n = float(input('Enter a number to calculate its natural logarithm: '))\n",
    "\n",
    "log = math.log(n)\n",
    "\n",
    "print('the natural logarithm of {} number is {}'.format(n,log))\n"
   ]
  },
  {
   "cell_type": "markdown",
   "id": "320257e9",
   "metadata": {},
   "source": [
    "# 5. Write a Python Program for cube sum of first n natural numbers?"
   ]
  },
  {
   "cell_type": "code",
   "execution_count": 10,
   "id": "f955a18a",
   "metadata": {},
   "outputs": [
    {
     "name": "stdout",
     "output_type": "stream",
     "text": [
      "Enter n to find cube sum of first n natural numbers:4\n",
      "The cube sum of first 4 natural numbers is 100.0\n"
     ]
    }
   ],
   "source": [
    "# cube sum of first n natural numbers is (n*(n+1)/2)^2\n",
    "\n",
    "# taking n as input\n",
    "\n",
    "n = int(input('Enter n to find cube sum of first n natural numbers:'))\n",
    "\n",
    "sum = (n*(n+1)/2)**2\n",
    "\n",
    "print('The cube sum of first {} natural numbers is {}'.format(n,sum))"
   ]
  },
  {
   "cell_type": "code",
   "execution_count": null,
   "id": "498ef4c7",
   "metadata": {},
   "outputs": [],
   "source": []
  }
 ],
 "metadata": {
  "kernelspec": {
   "display_name": "Python 3 (ipykernel)",
   "language": "python",
   "name": "python3"
  },
  "language_info": {
   "codemirror_mode": {
    "name": "ipython",
    "version": 3
   },
   "file_extension": ".py",
   "mimetype": "text/x-python",
   "name": "python",
   "nbconvert_exporter": "python",
   "pygments_lexer": "ipython3",
   "version": "3.9.7"
  }
 },
 "nbformat": 4,
 "nbformat_minor": 5
}
