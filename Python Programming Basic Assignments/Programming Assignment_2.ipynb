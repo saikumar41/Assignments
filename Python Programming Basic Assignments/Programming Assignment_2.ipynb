{
 "cells": [
  {
   "cell_type": "markdown",
   "id": "197d56a5",
   "metadata": {},
   "source": [
    "# 1. Write a Python program to convert kilometers to miles?"
   ]
  },
  {
   "cell_type": "code",
   "execution_count": 8,
   "id": "38e3e297",
   "metadata": {},
   "outputs": [
    {
     "name": "stdout",
     "output_type": "stream",
     "text": [
      "Enter distance in kilometers: 102.3\n",
      "102.3 kilometers = 63.5662533 miles\n"
     ]
    }
   ],
   "source": [
    "# 1kilometer = 0.621371 miles\n",
    "# taking kilometers as user input\n",
    "km = float(input('Enter distance in kilometers: '))\n",
    "miles = 0.621371 * km\n",
    "print('{} kilometers = {} miles'.format(km,miles))"
   ]
  },
  {
   "cell_type": "markdown",
   "id": "75a4ae6e",
   "metadata": {},
   "source": [
    "# 2. Write a Python program to convert Celsius to Fahrenheit? "
   ]
  },
  {
   "cell_type": "code",
   "execution_count": 7,
   "id": "3cae5f10",
   "metadata": {},
   "outputs": [
    {
     "name": "stdout",
     "output_type": "stream",
     "text": [
      "Enter Temparature in celsius :37\n",
      "37.0 degrees celsius = 98.6 degrees Fahrenheit\n"
     ]
    }
   ],
   "source": [
    "# Fahrenheit = (Celsius * 9/5) + 32 \n",
    "# taking temparature in celsius as input\n",
    "celsius = float(input('Enter Temparature in celsius :'))\n",
    "fahrenheit = (celsius * 9/5) +32\n",
    "print('{} degrees celsius = {} degrees Fahrenheit'.format(celsius,fahrenheit))"
   ]
  },
  {
   "cell_type": "markdown",
   "id": "af803d94",
   "metadata": {},
   "source": [
    "# 3. Write a Python program to display calendar?"
   ]
  },
  {
   "cell_type": "code",
   "execution_count": 6,
   "id": "281cab95",
   "metadata": {},
   "outputs": [
    {
     "name": "stdout",
     "output_type": "stream",
     "text": [
      "enter the year you wish to see calendar for(yyyy):2021\n",
      "                                  2021\n",
      "\n",
      "      January                   February                   March\n",
      "Mo Tu We Th Fr Sa Su      Mo Tu We Th Fr Sa Su      Mo Tu We Th Fr Sa Su\n",
      "             1  2  3       1  2  3  4  5  6  7       1  2  3  4  5  6  7\n",
      " 4  5  6  7  8  9 10       8  9 10 11 12 13 14       8  9 10 11 12 13 14\n",
      "11 12 13 14 15 16 17      15 16 17 18 19 20 21      15 16 17 18 19 20 21\n",
      "18 19 20 21 22 23 24      22 23 24 25 26 27 28      22 23 24 25 26 27 28\n",
      "25 26 27 28 29 30 31                                29 30 31\n",
      "\n",
      "       April                      May                       June\n",
      "Mo Tu We Th Fr Sa Su      Mo Tu We Th Fr Sa Su      Mo Tu We Th Fr Sa Su\n",
      "          1  2  3  4                      1  2          1  2  3  4  5  6\n",
      " 5  6  7  8  9 10 11       3  4  5  6  7  8  9       7  8  9 10 11 12 13\n",
      "12 13 14 15 16 17 18      10 11 12 13 14 15 16      14 15 16 17 18 19 20\n",
      "19 20 21 22 23 24 25      17 18 19 20 21 22 23      21 22 23 24 25 26 27\n",
      "26 27 28 29 30            24 25 26 27 28 29 30      28 29 30\n",
      "                          31\n",
      "\n",
      "        July                     August                  September\n",
      "Mo Tu We Th Fr Sa Su      Mo Tu We Th Fr Sa Su      Mo Tu We Th Fr Sa Su\n",
      "          1  2  3  4                         1             1  2  3  4  5\n",
      " 5  6  7  8  9 10 11       2  3  4  5  6  7  8       6  7  8  9 10 11 12\n",
      "12 13 14 15 16 17 18       9 10 11 12 13 14 15      13 14 15 16 17 18 19\n",
      "19 20 21 22 23 24 25      16 17 18 19 20 21 22      20 21 22 23 24 25 26\n",
      "26 27 28 29 30 31         23 24 25 26 27 28 29      27 28 29 30\n",
      "                          30 31\n",
      "\n",
      "      October                   November                  December\n",
      "Mo Tu We Th Fr Sa Su      Mo Tu We Th Fr Sa Su      Mo Tu We Th Fr Sa Su\n",
      "             1  2  3       1  2  3  4  5  6  7             1  2  3  4  5\n",
      " 4  5  6  7  8  9 10       8  9 10 11 12 13 14       6  7  8  9 10 11 12\n",
      "11 12 13 14 15 16 17      15 16 17 18 19 20 21      13 14 15 16 17 18 19\n",
      "18 19 20 21 22 23 24      22 23 24 25 26 27 28      20 21 22 23 24 25 26\n",
      "25 26 27 28 29 30 31      29 30                     27 28 29 30 31\n",
      "\n"
     ]
    }
   ],
   "source": [
    "#importing Calendar module\n",
    "import calendar\n",
    "# taking year as input\n",
    "year = int(input('enter the year you wish to see calendar for(yyyy):'))\n",
    "print(calendar.calendar(year))"
   ]
  },
  {
   "cell_type": "markdown",
   "id": "088b52da",
   "metadata": {},
   "source": [
    "# 4. Write a Python program to solve quadratic equation?"
   ]
  },
  {
   "cell_type": "code",
   "execution_count": 3,
   "id": "1333b406",
   "metadata": {},
   "outputs": [
    {
     "name": "stdout",
     "output_type": "stream",
     "text": [
      "enter value of co-efficient a (should not be 0): 0\n",
      "The co-efficient 'a' can't be zero, please try again:1\n",
      "enter value of co-efficient b :5\n",
      "enter value of constant c :6\n",
      "The solutions of given quadratic equation 1x^2+5x+6 are -2.0 & -3.0\n"
     ]
    }
   ],
   "source": [
    "# Quadratic equatin will be in the form of ax^2+bx+c where a,b,c are real numbers & a!=0\n",
    "# taking a,b,c as input from user\n",
    "\n",
    "a = int(input('enter value of co-efficient a (should not be 0): '))\n",
    "while a==0:\n",
    "    a=int(input(\"The co-efficient 'a' can't be zero, please try again:\"))\n",
    "b = int(input('enter value of co-efficient b :'))\n",
    "c = int(input('enter value of constant c :'))\n",
    "\n",
    "# finding the value of discriminant\n",
    "d = b**2 - 4*a*c\n",
    "\n",
    "# calculating solutions of quadratic equation\n",
    "x1 = (-b + d**0.5) / 2*a\n",
    "x2 = (-b - d**0.5) / 2*a\n",
    "\n",
    "print('The solutions of given quadratic equation {a}x^2+{b}x+{c} are {x1} & {x2}'.format(a=a,b=b,c=c,x1=x1,x2=x2))"
   ]
  },
  {
   "cell_type": "markdown",
   "id": "f907c8d2",
   "metadata": {},
   "source": [
    "# 5. Write a Python program to swap two variables without temp variable?"
   ]
  },
  {
   "cell_type": "code",
   "execution_count": 5,
   "id": "992aa9e4",
   "metadata": {},
   "outputs": [
    {
     "name": "stdout",
     "output_type": "stream",
     "text": [
      "enter a number:12\n",
      "enter another number:34\n",
      "Variables Before swapping:\n",
      "a = 12 and b = 34\n",
      "Variables after swapping:\n",
      "a = 34 and b = 12\n"
     ]
    }
   ],
   "source": [
    "# getting input from user for 2 variables\n",
    "a = int(input('enter a number:'))\n",
    "b = int(input('enter another number:'))\n",
    "print('Variables Before swapping:')\n",
    "print('a = {} and b = {}'.format(a,b))\n",
    "\n",
    "# swapping 2 variables without temp variable\n",
    "a,b = b,a\n",
    "\n",
    "print('Variables after swapping:')\n",
    "print('a = {} and b = {}'.format(a,b))"
   ]
  },
  {
   "cell_type": "code",
   "execution_count": null,
   "id": "607c7cfa",
   "metadata": {},
   "outputs": [],
   "source": []
  }
 ],
 "metadata": {
  "kernelspec": {
   "display_name": "Python 3 (ipykernel)",
   "language": "python",
   "name": "python3"
  },
  "language_info": {
   "codemirror_mode": {
    "name": "ipython",
    "version": 3
   },
   "file_extension": ".py",
   "mimetype": "text/x-python",
   "name": "python",
   "nbconvert_exporter": "python",
   "pygments_lexer": "ipython3",
   "version": "3.9.7"
  }
 },
 "nbformat": 4,
 "nbformat_minor": 5
}
