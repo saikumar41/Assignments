{
 "cells": [
  {
   "cell_type": "markdown",
   "id": "b51d16c1",
   "metadata": {},
   "source": [
    "# 1.Write a Python program to find sum of elements in list?"
   ]
  },
  {
   "cell_type": "code",
   "execution_count": 1,
   "id": "97ae5dec",
   "metadata": {},
   "outputs": [
    {
     "name": "stdout",
     "output_type": "stream",
     "text": [
      "Enter list of items(space separated): 1 2 3 4\n",
      "sum of elements in list [1, 2, 3, 4] is 10\n"
     ]
    }
   ],
   "source": [
    "# Taking a list as an input\n",
    "\n",
    "l = [int(i) for i in input('Enter list of items(space separated): ').split()]\n",
    "\n",
    "s = sum(l)\n",
    "print('sum of elements in list {} is {}'.format(l,s))"
   ]
  },
  {
   "cell_type": "markdown",
   "id": "c21de8d2",
   "metadata": {},
   "source": [
    "# 2. Write a Python program to  Multiply all numbers in the list?"
   ]
  },
  {
   "cell_type": "code",
   "execution_count": 4,
   "id": "277219d6",
   "metadata": {},
   "outputs": [
    {
     "name": "stdout",
     "output_type": "stream",
     "text": [
      "Enter list of items(space separated): 1 2 3 4\n",
      "Product of all numbers in list [1, 2, 3, 4] is 24\n"
     ]
    }
   ],
   "source": [
    "# Taking a list as an input\n",
    "\n",
    "l = [int(i) for i in input('Enter list of items(space separated): ').split()]\n",
    "\n",
    "mul = 1\n",
    "\n",
    "for i in l:\n",
    "    mul *= i\n",
    "    \n",
    "print('Product of all numbers in list {} is {}'.format(l,mul))"
   ]
  },
  {
   "cell_type": "markdown",
   "id": "5338afb0",
   "metadata": {},
   "source": [
    "# 3. Write a Python program to find smallest number in a list?"
   ]
  },
  {
   "cell_type": "code",
   "execution_count": 5,
   "id": "81c9026e",
   "metadata": {},
   "outputs": [
    {
     "name": "stdout",
     "output_type": "stream",
     "text": [
      "Enter list of items(space separated): 1 2 3 4 5\n",
      "smallest number in list [1, 2, 3, 4, 5] is 1\n"
     ]
    }
   ],
   "source": [
    "# Taking a list as an input\n",
    "\n",
    "l = [int(i) for i in input('Enter list of items(space separated): ').split()]\n",
    "\n",
    "min_value = min(l)\n",
    "print('smallest number in list {} is {}'.format(l,min_value))"
   ]
  },
  {
   "cell_type": "markdown",
   "id": "fe69aed1",
   "metadata": {},
   "source": [
    "# 4. Write a Python program to find largest number in a list?"
   ]
  },
  {
   "cell_type": "code",
   "execution_count": 7,
   "id": "0cb88f43",
   "metadata": {},
   "outputs": [
    {
     "name": "stdout",
     "output_type": "stream",
     "text": [
      "Enter list of items(space separated): 10 100 20 500\n",
      "largest number in list [10, 100, 20, 500] is 500\n"
     ]
    }
   ],
   "source": [
    "# Taking a list as an input\n",
    "\n",
    "l = [int(i) for i in input('Enter list of items(space separated): ').split()]\n",
    "\n",
    "max_value = max(l)\n",
    "print('largest number in list {} is {}'.format(l,max_value))"
   ]
  },
  {
   "cell_type": "markdown",
   "id": "5951156a",
   "metadata": {},
   "source": [
    "# 5. Write a Python program to find second largest number in a list?"
   ]
  },
  {
   "cell_type": "code",
   "execution_count": 8,
   "id": "3fd65f6f",
   "metadata": {},
   "outputs": [
    {
     "name": "stdout",
     "output_type": "stream",
     "text": [
      "Enter list of items(space separated): 10 100 20 500\n",
      "largest number in list [10, 20, 100, 500] is 100\n"
     ]
    }
   ],
   "source": [
    "# Taking a list as an input\n",
    "\n",
    "l = [int(i) for i in input('Enter list of items(space separated): ').split()]\n",
    "\n",
    "l.sort()\n",
    "print('largest number in list {} is {}'.format(l,l[-2]))"
   ]
  },
  {
   "cell_type": "markdown",
   "id": "c2733c2c",
   "metadata": {},
   "source": [
    "# 6. Write a Python program to find N largest elements from a list?"
   ]
  },
  {
   "cell_type": "code",
   "execution_count": 10,
   "id": "45a22ae9",
   "metadata": {},
   "outputs": [
    {
     "name": "stdout",
     "output_type": "stream",
     "text": [
      "Enter list of items(space separated): 100 2 200 1000 300 4 5 60\n",
      "Enter number of largest number to find: 3\n",
      "3 largest numbers in list [1000, 300, 200, 100, 60, 5, 4, 2] are  1000, 300, 200, "
     ]
    }
   ],
   "source": [
    "# Taking a list as an input\n",
    "\n",
    "l = [int(i) for i in input('Enter list of items(space separated): ').split()]\n",
    "\n",
    "# taking n as input\n",
    "\n",
    "n = int(input('Enter number of largest number to find: '))\n",
    "\n",
    "l.sort(reverse=True)\n",
    "print('{} largest numbers in list {} are '.format(n,l),end=\" \")\n",
    "for i in range(n):\n",
    "    print(l[i],end=\", \")"
   ]
  },
  {
   "cell_type": "markdown",
   "id": "a01d01b3",
   "metadata": {},
   "source": [
    "# 7. Write a Python program to print even numbers in a list?"
   ]
  },
  {
   "cell_type": "code",
   "execution_count": 11,
   "id": "8b2ba6af",
   "metadata": {},
   "outputs": [
    {
     "name": "stdout",
     "output_type": "stream",
     "text": [
      "Enter list of items(space separated): 1 2 3 4 5 6 77 68\n",
      "Even numbers in the list [1, 2, 3, 4, 5, 6, 77, 68] are  2, 4, 6, 68, "
     ]
    }
   ],
   "source": [
    "# Taking a list as an input\n",
    "\n",
    "l = [int(i) for i in input('Enter list of items(space separated): ').split()]\n",
    "\n",
    "\n",
    "print('Even numbers in the list {} are '.format(l),end=\" \")\n",
    "for i in l:\n",
    "    if i % 2 == 0:\n",
    "        print(i,end=\", \")\n"
   ]
  },
  {
   "cell_type": "markdown",
   "id": "04a9a126",
   "metadata": {},
   "source": [
    "# 8. Write a Python program to print odd numbers in a List?"
   ]
  },
  {
   "cell_type": "code",
   "execution_count": 12,
   "id": "ec379623",
   "metadata": {},
   "outputs": [
    {
     "name": "stdout",
     "output_type": "stream",
     "text": [
      "Enter list of items(space separated): 1 2 45 56 67 89\n",
      "Odd numbers in the list [1, 2, 45, 56, 67, 89] are  1, 45, 67, 89, "
     ]
    }
   ],
   "source": [
    "# Taking a list as an input\n",
    "\n",
    "l = [int(i) for i in input('Enter list of items(space separated): ').split()]\n",
    "\n",
    "\n",
    "print('Odd numbers in the list {} are '.format(l),end=\" \")\n",
    "for i in l:\n",
    "    if i % 2 != 0:\n",
    "        print(i,end=\", \")"
   ]
  },
  {
   "cell_type": "markdown",
   "id": "cf89d0ef",
   "metadata": {},
   "source": [
    "# 9. Write a Python program to Remove empty List from List?"
   ]
  },
  {
   "cell_type": "code",
   "execution_count": 19,
   "id": "63479b2e",
   "metadata": {},
   "outputs": [
    {
     "name": "stdout",
     "output_type": "stream",
     "text": [
      "The given list after removing empty list will be [1, 2, 'sr', 'rd']:\n"
     ]
    }
   ],
   "source": [
    "# Taking a list as an input\n",
    "\n",
    "l = [1, 2, [], 'sr', 'rd', []]\n",
    "\n",
    "c = l.count([])\n",
    "for _ in range(c):\n",
    "    l.remove([])\n",
    "print('The given list after removing empty list will be {}:'.format(l))"
   ]
  },
  {
   "cell_type": "markdown",
   "id": "a32d2f26",
   "metadata": {},
   "source": [
    "# 10. Write a Python program to Cloning or Copying a list?"
   ]
  },
  {
   "cell_type": "code",
   "execution_count": 22,
   "id": "0acb073b",
   "metadata": {},
   "outputs": [
    {
     "name": "stdout",
     "output_type": "stream",
     "text": [
      "Enter list of items(space separated): 1 2 3 4\n",
      "l1 =  ['1', '2', '3', '4']\n",
      "l2 =  ['1', '2', '3', '4']\n",
      "List l1 has been cloned or copied to l2.\n"
     ]
    }
   ],
   "source": [
    "# Taking a list as an input\n",
    "\n",
    "l1 = [i for i in input('Enter list of items(space separated): ').split()]\n",
    "\n",
    "l2 = l1.copy()\n",
    "\n",
    "print('l1 = ',l1)\n",
    "print('l2 = ',l2)\n",
    "print('List l1 has been cloned or copied to l2.')"
   ]
  },
  {
   "cell_type": "markdown",
   "id": "848b95f1",
   "metadata": {},
   "source": [
    "# 11. Write a Python program to Count occurrences of an element in a list?"
   ]
  },
  {
   "cell_type": "code",
   "execution_count": 21,
   "id": "42fdf8e1",
   "metadata": {},
   "outputs": [
    {
     "name": "stdout",
     "output_type": "stream",
     "text": [
      "Enter list of items(space separated): 1 1 23 45 1 sd rk\n",
      "Enter element to count its occurences: 1\n",
      "The count of occurrences of 1 in list ['1', '1', '23', '45', '1', 'sd', 'rk'] is 3\n"
     ]
    }
   ],
   "source": [
    "# Taking a list as an input\n",
    "\n",
    "l = [i for i in input('Enter list of items(space separated): ').split()]\n",
    "\n",
    "# taking n as input\n",
    "\n",
    "n = input('Enter element to count its occurences: ')\n",
    "\n",
    "print('The count of occurrences of {} in list {} is {}'.format(n,l,l.count(n)))"
   ]
  },
  {
   "cell_type": "code",
   "execution_count": null,
   "id": "b6226b7c",
   "metadata": {},
   "outputs": [],
   "source": []
  }
 ],
 "metadata": {
  "kernelspec": {
   "display_name": "Python 3 (ipykernel)",
   "language": "python",
   "name": "python3"
  },
  "language_info": {
   "codemirror_mode": {
    "name": "ipython",
    "version": 3
   },
   "file_extension": ".py",
   "mimetype": "text/x-python",
   "name": "python",
   "nbconvert_exporter": "python",
   "pygments_lexer": "ipython3",
   "version": "3.9.7"
  }
 },
 "nbformat": 4,
 "nbformat_minor": 5
}
