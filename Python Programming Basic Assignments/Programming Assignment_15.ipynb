{
 "cells": [
  {
   "cell_type": "markdown",
   "id": "94272c83",
   "metadata": {},
   "source": [
    "# Question 1:\n",
    "Please write a program using generator to print the numbers which can be divisible by 5 and 7 between 0 and n in comma separated form while n is input by console."
   ]
  },
  {
   "cell_type": "code",
   "execution_count": 1,
   "id": "8509f1d1",
   "metadata": {},
   "outputs": [
    {
     "name": "stdout",
     "output_type": "stream",
     "text": [
      "Enter a upper limit: 100\n",
      "0,35,70,"
     ]
    }
   ],
   "source": [
    "def divby_5_7(n):\n",
    "    for i in range(n):\n",
    "        if i%5 == 0 and i%7 == 0:\n",
    "            yield i\n",
    "            \n",
    "n = int(input('Enter a upper limit: '))\n",
    "for i in divby_5_7(n):\n",
    "    print(i,end=',')"
   ]
  },
  {
   "cell_type": "markdown",
   "id": "6c295789",
   "metadata": {},
   "source": [
    "# Question 2:\n",
    "Please write a program using generator to print the even numbers between 0 and n in comma separated form while n is input by console."
   ]
  },
  {
   "cell_type": "code",
   "execution_count": 2,
   "id": "7e8b6838",
   "metadata": {},
   "outputs": [
    {
     "name": "stdout",
     "output_type": "stream",
     "text": [
      "Enter a upper limit: 10\n",
      "0,2,4,6,8,10,"
     ]
    }
   ],
   "source": [
    "def even(n):\n",
    "    for i in range(n+1):\n",
    "        if i%2 == 0:\n",
    "            yield i\n",
    "            \n",
    "n = int(input('Enter a upper limit: '))            \n",
    "for i in even(n):\n",
    "    print(i,end=',')"
   ]
  },
  {
   "cell_type": "markdown",
   "id": "85bb9e11",
   "metadata": {},
   "source": [
    "# Question 3:\n",
    "The Fibonacci Sequence is computed based on the following formula:\n",
    "\n",
    "f(n)=0 if n=0\n",
    "\n",
    "f(n)=1 if n=1\n",
    "\n",
    "f(n)=f(n-1)+f(n-2) if n>1\n",
    "\n",
    "Please write a program using list comprehension to print the Fibonacci Sequence in comma separated form with a given n input by console.\n"
   ]
  },
  {
   "cell_type": "code",
   "execution_count": 11,
   "id": "0ce0f776",
   "metadata": {},
   "outputs": [
    {
     "name": "stdout",
     "output_type": "stream",
     "text": [
      "Enter Fibonacci sequence length: 7\n",
      "0,1,1,2,3,5,8,13\n"
     ]
    }
   ],
   "source": [
    "n = int(input('Enter Fibonacci sequence length: ')) \n",
    "\n",
    "fib = [0,1]\n",
    "[fib.append(fib[i-1]+fib[i-2]) for i in range(2,n+1)]\n",
    "\n",
    "print(*fib,sep=',')"
   ]
  },
  {
   "cell_type": "markdown",
   "id": "2b62c024",
   "metadata": {},
   "source": [
    "# Question 4:\n",
    "Assuming that we have some email addresses in the \"username@companyname.com\" format, please write program to print the user name of a given email address. Both user names and company names are composed of letters only.\n"
   ]
  },
  {
   "cell_type": "code",
   "execution_count": 5,
   "id": "cb38ad75",
   "metadata": {},
   "outputs": [
    {
     "name": "stdout",
     "output_type": "stream",
     "text": [
      "Enter a email address: john@google.com\n",
      "john\n"
     ]
    }
   ],
   "source": [
    "email = input('Enter a email address: ')\n",
    "\n",
    "uname = email.split('@')[0]\n",
    "\n",
    "print(uname)"
   ]
  },
  {
   "cell_type": "markdown",
   "id": "6e58f561",
   "metadata": {},
   "source": [
    "# Question 5:\n",
    "Define a class named Shape and its subclass Square. The Square class has an init function which takes a length as argument. Both classes have a area function which can print the area of the shape where Shape's area is 0 by default.\n"
   ]
  },
  {
   "cell_type": "code",
   "execution_count": 1,
   "id": "dc5250fb",
   "metadata": {},
   "outputs": [
    {
     "name": "stdout",
     "output_type": "stream",
     "text": [
      "Area of shape : 100\n"
     ]
    }
   ],
   "source": [
    "class Shape:\n",
    "    def area(self):\n",
    "        print('Area of shape : {}'.format(0))\n",
    "\n",
    "class Square(Shape):\n",
    "    def __init__(self,length):\n",
    "        self.length = length\n",
    "    \n",
    "    def area(self):\n",
    "        print('Area of shape : {}'.format(self.length**2))\n",
    "        \n",
    "sq = Square(10)\n",
    "sq.area()"
   ]
  },
  {
   "cell_type": "code",
   "execution_count": null,
   "id": "21bf02a0",
   "metadata": {},
   "outputs": [],
   "source": []
  }
 ],
 "metadata": {
  "kernelspec": {
   "display_name": "Python 3 (ipykernel)",
   "language": "python",
   "name": "python3"
  },
  "language_info": {
   "codemirror_mode": {
    "name": "ipython",
    "version": 3
   },
   "file_extension": ".py",
   "mimetype": "text/x-python",
   "name": "python",
   "nbconvert_exporter": "python",
   "pygments_lexer": "ipython3",
   "version": "3.9.7"
  }
 },
 "nbformat": 4,
 "nbformat_minor": 5
}
