{
 "cells": [
  {
   "cell_type": "markdown",
   "id": "9c9e7a7e",
   "metadata": {},
   "source": [
    "# Question 1:\n",
    "Write a program that calculates and prints the value according to the given formula:<br>\n",
    "<b>Q = Square root of [(2 * C * D)/H]</b><br>\n",
    "Following are the fixed values of C and H:<br>\n",
    "<b>C is 50. H is 30.</b><br>\n",
    "D is the variable whose values should be input to your program in a comma-separated sequence.<br>\n",
    "Example<br>\n",
    "Let us assume the following comma separated input sequence is given to the program:<br>\n",
    "100,150,180<br>\n",
    "The output of the program should be:<br>\n",
    "18,22,24<br>"
   ]
  },
  {
   "cell_type": "code",
   "execution_count": 14,
   "id": "a1ff9724",
   "metadata": {},
   "outputs": [
    {
     "name": "stdout",
     "output_type": "stream",
     "text": [
      "Enter sequence of values (comma separated): 100,150,180\n",
      "The output of the program :\n",
      "18,22,24,"
     ]
    }
   ],
   "source": [
    "D = [int(i) for i in input('Enter sequence of values (comma separated): ').split(',')]\n",
    "\n",
    "C = 50\n",
    "H = 30\n",
    "print('The output of the program :')\n",
    "for d in D:\n",
    "    Q = ((2 * C * d)/H) ** 0.5\n",
    "    print(int(Q), end=\",\")"
   ]
  },
  {
   "cell_type": "markdown",
   "id": "55d8d9d0",
   "metadata": {},
   "source": [
    "# Question 2:\n",
    "Write a program which takes 2 digits, X,Y as input and generates a 2-dimensional array. \n",
    "\n",
    "The element value in the i-th row and j-th column of the array should be i*j.\n",
    "\n",
    "\n",
    "Note: i=0,1.., X-1; j=0,1,¡Y-1.\n",
    "\n",
    "\n",
    "Example\n",
    "\n",
    "\n",
    "Suppose the following inputs are given to the program:\n",
    "\n",
    "\n",
    "3,5\n",
    "\n",
    "\n",
    "Then, the output of the program should be:\n",
    "\n",
    "\n",
    "[[0, 0, 0, 0, 0], [0, 1, 2, 3, 4], [0, 2, 4, 6, 8]] \n",
    "\n"
   ]
  },
  {
   "cell_type": "code",
   "execution_count": 15,
   "id": "6509a1dd",
   "metadata": {},
   "outputs": [
    {
     "name": "stdout",
     "output_type": "stream",
     "text": [
      "Enter 2 Digits (comma separated): 3,5\n",
      "The output of the program :\n",
      "[[0, 0, 0, 0, 0], [0, 1, 2, 3, 4], [0, 2, 4, 6, 8]]\n"
     ]
    }
   ],
   "source": [
    "X,Y = (int(i) for i in input('Enter 2 Digits (comma separated): ').split(','))\n",
    "\n",
    "arr = [[i*j for i in range(Y)]for j in range(X)]\n",
    "print('The output of the program :')\n",
    "print(arr)"
   ]
  },
  {
   "cell_type": "markdown",
   "id": "b5ad0a74",
   "metadata": {},
   "source": [
    "# Question 3:\n",
    "Write a program that accepts a comma separated sequence of words as input and prints the words in a comma-separated sequence after sorting them alphabetically.\n",
    "\n",
    "\n",
    "Suppose the following input is supplied to the program:\n",
    "\n",
    "\n",
    "without,hello,bag,world\n",
    "\n",
    "\n",
    "Then, the output should be:\n",
    "\n",
    "bag,hello,without,world\n"
   ]
  },
  {
   "cell_type": "code",
   "execution_count": 16,
   "id": "3a449555",
   "metadata": {},
   "outputs": [
    {
     "name": "stdout",
     "output_type": "stream",
     "text": [
      "Enter sequence of words (comma separated): without,hello,bag,world\n",
      "The output of the program :\n",
      "bag,hello,without,world\n"
     ]
    }
   ],
   "source": [
    "words = [i for i in input('Enter sequence of words (comma separated): ').split(',')]\n",
    "\n",
    "words.sort()\n",
    "print('The output of the program :')\n",
    "print(','.join(words))"
   ]
  },
  {
   "cell_type": "markdown",
   "id": "d36a43f1",
   "metadata": {},
   "source": [
    "# Question 4:\n",
    "Write a program that accepts a sequence of whitespace separated words as input and prints the words after removing all duplicate words and sorting them alphanumerically.\n",
    "\n",
    "\n",
    "Suppose the following input is supplied to the program:\n",
    "\n",
    "\n",
    "hello world and practice makes perfect and hello world again\n",
    "\n",
    "\n",
    "Then, the output should be:\n",
    "\n",
    "again and hello makes perfect practice world\n"
   ]
  },
  {
   "cell_type": "code",
   "execution_count": 17,
   "id": "d984ee25",
   "metadata": {},
   "outputs": [
    {
     "name": "stdout",
     "output_type": "stream",
     "text": [
      "Enter sequence of words (comma separated): hello world and practice makes perfect and hello world again\n",
      "The output of the program :\n",
      "again and hello makes perfect practice world\n"
     ]
    }
   ],
   "source": [
    "words = [i for i in input('Enter sequence of words (comma separated): ').split()]\n",
    "\n",
    "w = list(set(words))\n",
    "w.sort()\n",
    "print('The output of the program :')\n",
    "print(' '.join(w))"
   ]
  },
  {
   "cell_type": "markdown",
   "id": "4b45c073",
   "metadata": {},
   "source": [
    "# Question 5:\n",
    "Write a program that accepts a sentence and calculate the number of letters and digits.\n",
    "\n",
    "\n",
    "Suppose the following input is supplied to the program:\n",
    "\n",
    "\n",
    "hello world! 123\n",
    "\n",
    "\n",
    "Then, the output should be:\n",
    "\n",
    "\n",
    "LETTERS 10\n",
    "\n",
    "\n",
    "DIGITS 3\n"
   ]
  },
  {
   "cell_type": "code",
   "execution_count": 1,
   "id": "a0da0fba",
   "metadata": {},
   "outputs": [
    {
     "name": "stdout",
     "output_type": "stream",
     "text": [
      "Enter a sentence: hello world! 123\n",
      "The output of the program :\n",
      "\n",
      "LETTERS 10\n",
      "\n",
      "DIGITS 3\n"
     ]
    }
   ],
   "source": [
    "sentence = input('Enter a sentence: ')\n",
    "letters = 0\n",
    "digits = 0\n",
    "for i in sentence:\n",
    "    if i.isalpha():\n",
    "        letters +=1\n",
    "    elif i.isnumeric():\n",
    "        digits +=1\n",
    "    else:\n",
    "        continue\n",
    "        \n",
    "print('The output of the program :')\n",
    "print('\\nLETTERS {}\\n\\nDIGITS {}'.format(letters,digits))"
   ]
  },
  {
   "cell_type": "markdown",
   "id": "d1d388e8",
   "metadata": {},
   "source": [
    "# Question 6:\n",
    "A website requires the users to input username and password to register. Write a program to check the validity of password input by users.\n",
    "\n",
    "\n",
    "Following are the criteria for checking the password:\n",
    "\n",
    "\n",
    "1. At least 1 letter between [a-z]\n",
    "\n",
    "\n",
    "2. At least 1 number between [0-9]\n",
    "\n",
    "\n",
    "3. At least 1 letter between [A-Z]\n",
    "\n",
    "\n",
    "4. At least 1 character from [$#@]\n",
    "\n",
    "\n",
    "5. Minimum length of transaction password: 6\n",
    "\n",
    "\n",
    "6. Maximum length of transaction password: 12\n",
    "\n",
    "\n",
    "Your program should accept a sequence of comma separated passwords and will check them according to the above criteria. Passwords that match the criteria are to be printed, each separated by a comma.\n",
    "\n",
    "\n",
    "Example\n",
    "\n",
    "\n",
    "If the following passwords are given as input to the program:\n",
    "\n",
    "\n",
    "ABd1234@1,a F1#,2w3E*,2We3345\n",
    "\n",
    "\n",
    "Then, the output of the program should be:\n",
    "\n",
    "                              \n",
    "ABd1234@1\n"
   ]
  },
  {
   "cell_type": "code",
   "execution_count": 19,
   "id": "9519e13e",
   "metadata": {},
   "outputs": [
    {
     "name": "stdout",
     "output_type": "stream",
     "text": [
      "Enter sequence of words (comma separated): ABd1234@1,a F1#,2w3E*,2We3345\n",
      "ABd1234@1,"
     ]
    }
   ],
   "source": [
    "passwords = [i for i in input('Enter sequence of words (comma separated): ').split(',')]\n",
    "\n",
    "for i in passwords:\n",
    "\n",
    "    if len(i)>12 or len(i)<6 or (not any(char.isdigit() for char in i)) or (not any(char.isupper() for char in i)) or (not any(char.islower() for char in i)) or (not any(char in ['$','#','@'] for char in i))  :\n",
    "        continue\n",
    "    else:\n",
    "        print(i,end=',')"
   ]
  },
  {
   "cell_type": "code",
   "execution_count": null,
   "id": "115916ec",
   "metadata": {},
   "outputs": [],
   "source": []
  }
 ],
 "metadata": {
  "kernelspec": {
   "display_name": "Python 3 (ipykernel)",
   "language": "python",
   "name": "python3"
  },
  "language_info": {
   "codemirror_mode": {
    "name": "ipython",
    "version": 3
   },
   "file_extension": ".py",
   "mimetype": "text/x-python",
   "name": "python",
   "nbconvert_exporter": "python",
   "pygments_lexer": "ipython3",
   "version": "3.9.7"
  }
 },
 "nbformat": 4,
 "nbformat_minor": 5
}
