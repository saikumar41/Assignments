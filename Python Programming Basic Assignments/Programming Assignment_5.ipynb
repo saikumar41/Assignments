{
 "cells": [
  {
   "cell_type": "markdown",
   "id": "148508fd",
   "metadata": {},
   "source": [
    "# 1. Write a Python Program to Find LCM?"
   ]
  },
  {
   "cell_type": "code",
   "execution_count": 9,
   "id": "7a282f0b",
   "metadata": {},
   "outputs": [
    {
     "name": "stdout",
     "output_type": "stream",
     "text": [
      "Enter numbers seperated by comma to find their LCM: 11234,12345\n",
      "The LCM of [11234, 12345] is 138683730\n"
     ]
    }
   ],
   "source": [
    "# taking comma seperated values to find LCM\n",
    "\n",
    "numbers = [int(x) for x in input('Enter numbers seperated by comma to find their LCM: ').split(',')]\n",
    "multiples = [[] for _ in numbers]\n",
    "mul=1\n",
    "a = True\n",
    "while a:\n",
    "    for i in range(len(numbers)):\n",
    "        multiples[i].append(numbers[i] * mul)\n",
    "    for j in range(len(multiples)):\n",
    "        c = 0\n",
    "        for k in multiples:\n",
    "            if multiples[j][-1] in k:\n",
    "                c+=1\n",
    "        if c == len(numbers):\n",
    "            lcm = multiples[j][-1]\n",
    "            a = False\n",
    "            break\n",
    "        else:\n",
    "            continue\n",
    "    mul += 1\n",
    "print('The LCM of {} is {}'.format(numbers,lcm))"
   ]
  },
  {
   "cell_type": "markdown",
   "id": "b1131f16",
   "metadata": {},
   "source": [
    "# 2. Write a Python Program to Find HCF?"
   ]
  },
  {
   "cell_type": "code",
   "execution_count": 23,
   "id": "904b4e1d",
   "metadata": {},
   "outputs": [
    {
     "name": "stdout",
     "output_type": "stream",
     "text": [
      "Enter numbers seperated by comma to find their LCM: 182664, 154875, 137688\n",
      "The HCF of [182664, 154875, 137688] is 3\n"
     ]
    }
   ],
   "source": [
    "# Calculating HCF using Euclid's Algorithm\n",
    "# taking comma seperated values to find LCM\n",
    "\n",
    "numbers = [int(x) for x in input('Enter numbers seperated by comma to find their LCM: ').split(',')]\n",
    "num = numbers\n",
    "a = True\n",
    "while a:\n",
    "    numbers.sort(reverse=True)\n",
    "    temp = [numbers[0],numbers[1]]\n",
    "    while temp[1] != 0:\n",
    "        i = int(temp[0]/temp[1])\n",
    "        temp[0],temp[1] = temp[1],temp[0] - temp[1] * i\n",
    "    hcf = temp[0]\n",
    "    if len(numbers) > 2:\n",
    "        numbers = numbers[2:]\n",
    "        numbers.append(hcf)\n",
    "    else:\n",
    "        a=False\n",
    "    \n",
    "print('The HCF of {} is {}'.format(num,hcf))\n",
    "    "
   ]
  },
  {
   "cell_type": "markdown",
   "id": "1718cc94",
   "metadata": {},
   "source": [
    "# 3. Write a Python Program to Convert Decimal to Binary, Octal and Hexadecimal?"
   ]
  },
  {
   "cell_type": "code",
   "execution_count": 5,
   "id": "06a50a14",
   "metadata": {},
   "outputs": [
    {
     "name": "stdout",
     "output_type": "stream",
     "text": [
      "Enter a number:23\n",
      "Binary Value of 23 is 0b10111.\n",
      "Octal Value of 23 is 0o27.\n",
      "Hexadecimal Value of 23 is 0x17.\n"
     ]
    }
   ],
   "source": [
    "# using inbuilt methods bin(), oct(), hex()\n",
    "# Taking a decimal number as input.\n",
    "\n",
    "dec = int(input('Enter a number:'))\n",
    "\n",
    "print(\"Binary Value of {} is {}.\".format(dec,bin(dec)))\n",
    "print(\"Octal Value of {} is {}.\".format(dec,oct(dec)))\n",
    "print(\"Hexadecimal Value of {} is {}.\".format(dec,hex(dec)))"
   ]
  },
  {
   "cell_type": "markdown",
   "id": "47e2e4b8",
   "metadata": {},
   "source": [
    "# 4. Write a Python Program To Find ASCII value of a character?"
   ]
  },
  {
   "cell_type": "code",
   "execution_count": 24,
   "id": "8e6b957b",
   "metadata": {},
   "outputs": [
    {
     "name": "stdout",
     "output_type": "stream",
     "text": [
      "Enter a Character to get its ASCII Value: c\n",
      "The ASCII Value of 'c' character is 99 \n"
     ]
    }
   ],
   "source": [
    "#using inbuilt method ord()\n",
    "# Taking a character as input\n",
    "\n",
    "c = input('Enter a Character to get its ASCII Value: ')\n",
    "\n",
    "print(\"The ASCII Value of '{}' character is {} \".format(c,ord(c)))"
   ]
  },
  {
   "cell_type": "markdown",
   "id": "c75daff1",
   "metadata": {},
   "source": [
    "# 5. Write a Python Program to Make a Simple Calculator with 4 basic mathematical operations?"
   ]
  },
  {
   "cell_type": "code",
   "execution_count": 3,
   "id": "67771b4b",
   "metadata": {},
   "outputs": [
    {
     "name": "stdout",
     "output_type": "stream",
     "text": [
      "Please select one of the following operations to perform:\n",
      " 1. Addition\n",
      " 2. Subtraction\n",
      " 3. Multiplication\n",
      " 4. Division\n",
      "enter your choice (1/2/3/4): 4\n",
      "enter first number: 20\n",
      "enter second number: 10\n",
      "\n",
      "20.0 / 10.0 = 2.0\n",
      "Do you want to perform another operation(yes/no) : no\n",
      "\n",
      "Thank you!!\n"
     ]
    }
   ],
   "source": [
    "\n",
    "print(\"Please select one of the following operations to perform:\\n 1. Addition\\n 2. Subtraction\\n 3. Multiplication\\n 4. Division\")\n",
    "\n",
    "while True:\n",
    "    choice = int(input(\"enter your choice (1/2/3/4): \"))\n",
    "    if choice in [1,2,3,4]:\n",
    "        a = float(input(\"enter first number: \"))\n",
    "        b = float(input(\"enter second number: \"))\n",
    "        if choice == 1:\n",
    "            print(\"\\n{} + {} = {}\".format(a,b,a+b))\n",
    "        elif choice == 2:\n",
    "            print(\"\\n{} - {} = {}\".format(a,b,a-b))\n",
    "        elif choice == 3:\n",
    "            print(\"\\n{} * {} = {}\".format(a,b,a*b))\n",
    "        elif choice == 4:\n",
    "            print(\"\\n{} / {} = {}\".format(a,b,a/b))\n",
    "            \n",
    "        again = input(\"Do you want to perform another operation(yes/no) : \")\n",
    "        \n",
    "        if again.lower() == 'yes':\n",
    "            continue\n",
    "        else:\n",
    "            break\n",
    "    else:\n",
    "        print(\"\\nPlease enter a valid option.\")\n",
    "print(\"\\nThank you!!\")"
   ]
  },
  {
   "cell_type": "code",
   "execution_count": null,
   "id": "094a58fd",
   "metadata": {},
   "outputs": [],
   "source": []
  }
 ],
 "metadata": {
  "kernelspec": {
   "display_name": "Python 3 (ipykernel)",
   "language": "python",
   "name": "python3"
  },
  "language_info": {
   "codemirror_mode": {
    "name": "ipython",
    "version": 3
   },
   "file_extension": ".py",
   "mimetype": "text/x-python",
   "name": "python",
   "nbconvert_exporter": "python",
   "pygments_lexer": "ipython3",
   "version": "3.9.7"
  }
 },
 "nbformat": 4,
 "nbformat_minor": 5
}
