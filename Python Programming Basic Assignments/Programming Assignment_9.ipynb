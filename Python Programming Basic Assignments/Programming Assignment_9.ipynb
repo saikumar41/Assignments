{
 "cells": [
  {
   "cell_type": "markdown",
   "id": "6d157f2a",
   "metadata": {},
   "source": [
    "# 1. Write a Python program to check if the given number is a Disarium Number?"
   ]
  },
  {
   "cell_type": "code",
   "execution_count": 11,
   "id": "63c6817d",
   "metadata": {},
   "outputs": [
    {
     "name": "stdout",
     "output_type": "stream",
     "text": [
      "Enter a number to check if it is Disarium Number: 135\n",
      "The given number 135 is Disarium Number.\n"
     ]
    }
   ],
   "source": [
    "# A disarium number is a number in which the sum of the digits to the power of \n",
    "# their respective position is equal to the number itself (position is counted from left to right starting from 1).\n",
    "\n",
    "# Taking a number as input\n",
    "\n",
    "n = input('Enter a number to check if it is Disarium Number: ')\n",
    "position = 1\n",
    "sum = 0\n",
    "for i in n:\n",
    "    sum += int(i) ** position\n",
    "    position += 1\n",
    "\n",
    "if sum == int(n):\n",
    "    print('The given number {} is Disarium Number.'.format(n))\n",
    "else:\n",
    "    print('The given number {} is not a Disarium Number.'.format(n))"
   ]
  },
  {
   "cell_type": "markdown",
   "id": "998e2787",
   "metadata": {},
   "source": [
    "# 2. Write a Python program to print all disarium numbers between 1 to 100?"
   ]
  },
  {
   "cell_type": "code",
   "execution_count": 16,
   "id": "58e0b316",
   "metadata": {},
   "outputs": [
    {
     "name": "stdout",
     "output_type": "stream",
     "text": [
      "all disarium numbers between 1 to 100 are  [1, 2, 3, 4, 5, 6, 7, 8, 9, 89]\n"
     ]
    }
   ],
   "source": [
    "disarium = []\n",
    "for n in range(1,101):\n",
    "    position = 1\n",
    "    sum = 0\n",
    "    for j in str(n):\n",
    "        sum += int(j) ** position\n",
    "        position += 1\n",
    "    if sum == int(n):\n",
    "        disarium.append(n)\n",
    "\n",
    "print('all disarium numbers between 1 to 100 are ',disarium)"
   ]
  },
  {
   "cell_type": "markdown",
   "id": "869568bb",
   "metadata": {},
   "source": [
    "# 3. Write a Python program to check if the given number is Happy Number?"
   ]
  },
  {
   "cell_type": "code",
   "execution_count": 26,
   "id": "d583a7cf",
   "metadata": {},
   "outputs": [
    {
     "name": "stdout",
     "output_type": "stream",
     "text": [
      "Enter a number to check if it is Happy Number: 97\n",
      "The given number is happy\n"
     ]
    }
   ],
   "source": [
    "# A happy number is a number defined by the following process:\n",
    "# Starting with any positive integer, replace the number by the sum of the squares of its digits.\n",
    "# Repeat the process until the number equals 1 (where it will stay), or it loops endlessly in a cycle which does not include 1.\n",
    "# Those numbers for which this process ends in 1 are happy.\n",
    "\n",
    "# Taking a number as input\n",
    "\n",
    "n = input('Enter a number to check if it is Happy Number: ')\n",
    "\n",
    "temp = []\n",
    "temp.append(int(n))\n",
    "for j in temp:\n",
    "    sum = 0\n",
    "    for i in str(j):\n",
    "        sum += int(i) ** 2\n",
    "    if sum == 1:\n",
    "        print(\"The given number is happy\")\n",
    "        break\n",
    "    if sum in temp:\n",
    "        print(\"The given number is not happy\")\n",
    "        break\n",
    "    else:\n",
    "        temp.append(sum)"
   ]
  },
  {
   "cell_type": "markdown",
   "id": "5f557e00",
   "metadata": {},
   "source": [
    "# 4. Write a Python program to print all happy numbers between 1 and 100?"
   ]
  },
  {
   "cell_type": "code",
   "execution_count": 22,
   "id": "d9ff5e8a",
   "metadata": {},
   "outputs": [
    {
     "name": "stdout",
     "output_type": "stream",
     "text": [
      "All Happy numbers between 1 to 100 are  [1, 7, 10, 13, 19, 23, 28, 31, 32, 44, 49, 68, 70, 79, 82, 86, 91, 94, 97, 100]\n"
     ]
    }
   ],
   "source": [
    "happy = []\n",
    "for n in range(1,101):\n",
    "    temp = []\n",
    "    temp.append(int(n))\n",
    "    for j in temp:\n",
    "        sum = 0\n",
    "        for i in str(j):\n",
    "            sum += int(i) ** 2\n",
    "        if sum == 1:\n",
    "            happy.append(n)\n",
    "            break\n",
    "        if sum in temp:\n",
    "            break\n",
    "        else:\n",
    "            temp.append(sum)\n",
    "print('All Happy numbers between 1 to 100 are ',happy)"
   ]
  },
  {
   "cell_type": "markdown",
   "id": "490c919d",
   "metadata": {},
   "source": [
    "# 5. Write a Python program to determine whether the given number is a Harshad Number?"
   ]
  },
  {
   "cell_type": "code",
   "execution_count": 30,
   "id": "1ba08423",
   "metadata": {},
   "outputs": [
    {
     "name": "stdout",
     "output_type": "stream",
     "text": [
      "Enter a number to check if it is Harshad Number: 24\n",
      "The given number 24 is Harshad Number.\n"
     ]
    }
   ],
   "source": [
    "# A number which is divisible by the sum of its digits is harshad number.\n",
    "\n",
    "# Taking a number as input\n",
    "\n",
    "n = input('Enter a number to check if it is Harshad Number: ')\n",
    "\n",
    "sum = 0\n",
    "\n",
    "for i in n:\n",
    "    sum += int(i)\n",
    "    \n",
    "if int(n) % sum == 0:\n",
    "    print('The given number {} is Harshad Number.'.format(n))\n",
    "else:\n",
    "     print('The given number {} is not a Harshad Number.'.format(n))"
   ]
  },
  {
   "cell_type": "markdown",
   "id": "74a88fe9",
   "metadata": {},
   "source": [
    "# 6. Write a Python program to print all pronic numbers between 1 and 100?"
   ]
  },
  {
   "cell_type": "code",
   "execution_count": 38,
   "id": "419ade97",
   "metadata": {},
   "outputs": [
    {
     "name": "stdout",
     "output_type": "stream",
     "text": [
      "All pronic numbers between 1 to 100 are  [2, 6, 12, 20, 30, 42, 56, 72, 90]\n"
     ]
    }
   ],
   "source": [
    "# A pronic number is a number which is represented by the product of two consecutive numbers , \n",
    "# that is a number of the form \"n x (n+1)\".\n",
    "\n",
    "pronic = []\n",
    "for i in range(1,101):\n",
    "    s = int(i ** 0.5)\n",
    "    product = s * (s + 1)\n",
    "    if product == i:\n",
    "        pronic.append(i)\n",
    "        \n",
    "print('All pronic numbers between 1 to 100 are ',pronic)"
   ]
  },
  {
   "cell_type": "code",
   "execution_count": null,
   "id": "2cd22e48",
   "metadata": {},
   "outputs": [],
   "source": []
  }
 ],
 "metadata": {
  "kernelspec": {
   "display_name": "Python 3 (ipykernel)",
   "language": "python",
   "name": "python3"
  },
  "language_info": {
   "codemirror_mode": {
    "name": "ipython",
    "version": 3
   },
   "file_extension": ".py",
   "mimetype": "text/x-python",
   "name": "python",
   "nbconvert_exporter": "python",
   "pygments_lexer": "ipython3",
   "version": "3.9.7"
  }
 },
 "nbformat": 4,
 "nbformat_minor": 5
}
