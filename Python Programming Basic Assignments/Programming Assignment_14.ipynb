{
 "cells": [
  {
   "cell_type": "markdown",
   "id": "cf7108a3",
   "metadata": {},
   "source": [
    "# Question 1:\n",
    "\n",
    "Define a class with a generator which can iterate the numbers, which are divisible by 7, between a given range 0 and n.\n"
   ]
  },
  {
   "cell_type": "code",
   "execution_count": 4,
   "id": "28203a31",
   "metadata": {},
   "outputs": [
    {
     "name": "stdout",
     "output_type": "stream",
     "text": [
      "Enter a integer: 100\n",
      "0\n",
      "7\n",
      "14\n",
      "21\n",
      "28\n",
      "35\n",
      "42\n",
      "49\n",
      "56\n",
      "63\n",
      "70\n",
      "77\n",
      "84\n",
      "91\n",
      "98\n"
     ]
    }
   ],
   "source": [
    "def divisibleby7(n):\n",
    "    i = 0\n",
    "    while i<n:\n",
    "        if i%7==0:\n",
    "            yield i\n",
    "        i += 1\n",
    "\n",
    "n = int(input('Enter a integer: '))\n",
    "for i in divisibleby7(n):\n",
    "    print(i)"
   ]
  },
  {
   "cell_type": "markdown",
   "id": "4f8a726b",
   "metadata": {},
   "source": [
    "# Question 2:\n",
    "    \n",
    "Write a program to compute the frequency of the words from the input. The output should output after sorting the key alphanumerically. \n"
   ]
  },
  {
   "cell_type": "code",
   "execution_count": 17,
   "id": "6510e90c",
   "metadata": {},
   "outputs": [
    {
     "name": "stdout",
     "output_type": "stream",
     "text": [
      "Enter a string: New to Python or choosing between Python 2 and Python 3? Read Python 2 or Python 3\n"
     ]
    },
    {
     "data": {
      "text/plain": [
       "{'2': 2,\n",
       " '3': 1,\n",
       " '3?': 1,\n",
       " 'New': 1,\n",
       " 'Python': 5,\n",
       " 'Read': 1,\n",
       " 'and': 1,\n",
       " 'between': 1,\n",
       " 'choosing': 1,\n",
       " 'or': 2,\n",
       " 'to': 1}"
      ]
     },
     "execution_count": 17,
     "metadata": {},
     "output_type": "execute_result"
    }
   ],
   "source": [
    "s = input('Enter a string: ')\n",
    "lst = s.split()\n",
    "d = {a:lst.count(a) for a in sorted(lst) }\n",
    "d"
   ]
  },
  {
   "cell_type": "markdown",
   "id": "3b7deef7",
   "metadata": {},
   "source": [
    "# Question 3:\n",
    "\n",
    "Define a class Person and its two child classes: Male and Female. All classes have a method \"getGender\" which can print \"Male\" for Male class and \"Female\" for Female class.\n"
   ]
  },
  {
   "cell_type": "code",
   "execution_count": 21,
   "id": "60b3b0ce",
   "metadata": {},
   "outputs": [
    {
     "name": "stdout",
     "output_type": "stream",
     "text": [
      "Male\n",
      "Female\n"
     ]
    }
   ],
   "source": [
    "class Person():\n",
    "    def getGender(self):\n",
    "        pass\n",
    "\n",
    "class Male(Person):\n",
    "    def getGender(self):\n",
    "        print('Male')\n",
    "\n",
    "class Female(Person):\n",
    "    def getGender(self):\n",
    "        print('Female')\n",
    "        \n",
    "        \n",
    "m = Male()\n",
    "f = Female()\n",
    "m.getGender()\n",
    "f.getGender()"
   ]
  },
  {
   "cell_type": "markdown",
   "id": "458562e4",
   "metadata": {},
   "source": [
    "# Question 4:\n",
    "Please write a program to generate all sentences where subject is in [\"I\", \"You\"] and verb is in [\"Play\", \"Love\"] and the object is in [\"Hockey\",\"Football\"].\n"
   ]
  },
  {
   "cell_type": "code",
   "execution_count": 55,
   "id": "67a94db3",
   "metadata": {},
   "outputs": [
    {
     "name": "stdout",
     "output_type": "stream",
     "text": [
      "All sentences generated are as follows: \n",
      "I Play Hockey\n",
      "I Play Football\n",
      "I Love Hockey\n",
      "I Love Football\n",
      "You Play Hockey\n",
      "You Play Football\n",
      "You Love Hockey\n",
      "You Love Football\n"
     ]
    }
   ],
   "source": [
    "subject = [\"I\", \"You\"]\n",
    "verb = [\"Play\", \"Love\"]\n",
    "Object = [\"Hockey\",\"Football\"]\n",
    "print(\"All sentences generated are as follows: \")\n",
    "for i in subject:\n",
    "    for j in verb:\n",
    "        for k in Object:\n",
    "            print(i + \" \" + j + \" \" + k)\n"
   ]
  },
  {
   "cell_type": "markdown",
   "id": "8f9e3596",
   "metadata": {},
   "source": [
    "# Question 5:\n",
    "Please write a program to compress and decompress the string \"hello world!hello world!hello world!hello world!\".\n"
   ]
  },
  {
   "cell_type": "code",
   "execution_count": 26,
   "id": "02ec9ea0",
   "metadata": {},
   "outputs": [
    {
     "name": "stdout",
     "output_type": "stream",
     "text": [
      "Enter a String: hello world!hello world!hello world!hello world!\n",
      "compressed string:  b'x\\x9c\\xcbH\\xcd\\xc9\\xc9W(\\xcf/\\xcaIQ\\xcc \\x82\\r\\x00\\xbd[\\x11\\xf5'\n",
      "Decompressed string:  b'hello world!hello world!hello world!hello world!'\n"
     ]
    }
   ],
   "source": [
    "import zlib\n",
    "\n",
    "s = input('Enter a String: ')\n",
    "b = bytes(s, 'utf-8')\n",
    "comp = zlib.compress(b)\n",
    "print('compressed string: ', comp)\n",
    "decomp = zlib.decompress(comp)\n",
    "print('Decompressed string: ',str(decomp))"
   ]
  },
  {
   "cell_type": "markdown",
   "id": "85008b82",
   "metadata": {},
   "source": [
    "# Question 6:\n",
    "Please write a binary search function which searches an item in a sorted list. The function should return the index of element to be searched in the list.\n"
   ]
  },
  {
   "cell_type": "code",
   "execution_count": 64,
   "id": "cc0b7a00",
   "metadata": {},
   "outputs": [
    {
     "name": "stdout",
     "output_type": "stream",
     "text": [
      "Enter a list of integers in sorted order(comma seoerated values): 3,5,7,8,9\n",
      "Enter element to be searched: 7\n",
      "7 is found in [3, 5, 7, 8, 9] at 2th index\n"
     ]
    }
   ],
   "source": [
    "def binarySearch(arr, l, r, x):\n",
    "    if r >= l:\n",
    "        mid = l + (r - l) // 2\n",
    "        if arr[mid] == x:\n",
    "            return mid\n",
    "        elif arr[mid] > x:\n",
    "            return binarySearch(arr, l, mid-1, x)\n",
    "        else:\n",
    "            return binarySearch(arr, mid + 1, r, x)\n",
    "    else:\n",
    "        return -1\n",
    "lst = list(map(int,input(\"Enter a list of integers in sorted order(comma seoerated values): \").split(',')))\n",
    "n = int(input(\"Enter element to be searched: \"))\n",
    "ind = binarySearch(lst,0,len(lst),n)\n",
    "if ind == -1:\n",
    "    print(\"The element is not found in given list!\")\n",
    "else:\n",
    "    print(\"{} is found in {} at {}th index\".format(n,lst,ind))"
   ]
  },
  {
   "cell_type": "code",
   "execution_count": null,
   "id": "4ee25313",
   "metadata": {},
   "outputs": [],
   "source": []
  }
 ],
 "metadata": {
  "kernelspec": {
   "display_name": "Python 3 (ipykernel)",
   "language": "python",
   "name": "python3"
  },
  "language_info": {
   "codemirror_mode": {
    "name": "ipython",
    "version": 3
   },
   "file_extension": ".py",
   "mimetype": "text/x-python",
   "name": "python",
   "nbconvert_exporter": "python",
   "pygments_lexer": "ipython3",
   "version": "3.9.7"
  }
 },
 "nbformat": 4,
 "nbformat_minor": 5
}
