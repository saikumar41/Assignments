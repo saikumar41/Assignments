{
 "cells": [
  {
   "cell_type": "markdown",
   "id": "80d5ec4c",
   "metadata": {},
   "source": [
    "# 1. Write a Python Program to Find the Factorial of a Number?"
   ]
  },
  {
   "cell_type": "code",
   "execution_count": 4,
   "id": "7572e91c",
   "metadata": {},
   "outputs": [
    {
     "name": "stdout",
     "output_type": "stream",
     "text": [
      "Please enter a number to find its factorial:5\n",
      "Factorial of 5 is 120\n"
     ]
    }
   ],
   "source": [
    "# Factorial of a number is given by a number multiplied by every number that preceeds it.\n",
    "# 5! = 5*4*3*2*1\n",
    "\n",
    "#taking number as a input to find its factorial\n",
    "\n",
    "n = int(input('Please enter a number to find its factorial:'))\n",
    "fact = 1\n",
    "for i in range(1,n+1):\n",
    "    fact *= i\n",
    "    \n",
    "print(\"Factorial of {} is {}\".format(n,fact))"
   ]
  },
  {
   "cell_type": "markdown",
   "id": "9152115d",
   "metadata": {},
   "source": [
    "# 2. Write a Python Program to Display the multiplication Table?"
   ]
  },
  {
   "cell_type": "code",
   "execution_count": 6,
   "id": "3a7ff3d3",
   "metadata": {},
   "outputs": [
    {
     "name": "stdout",
     "output_type": "stream",
     "text": [
      "Please enter a number to print its multiplication table:10\n",
      "\n",
      " The multiplication table of number 10 is \n",
      "\n",
      "10 * 1 = 10\n",
      "10 * 2 = 20\n",
      "10 * 3 = 30\n",
      "10 * 4 = 40\n",
      "10 * 5 = 50\n",
      "10 * 6 = 60\n",
      "10 * 7 = 70\n",
      "10 * 8 = 80\n",
      "10 * 9 = 90\n",
      "10 * 10 = 100\n"
     ]
    }
   ],
   "source": [
    "# Taking number as input to which multiplication table needs to be print\n",
    "\n",
    "n = int(input('Please enter a number to print its multiplication table:'))\n",
    "print('\\n The multiplication table of number {} is \\n'.format(n))\n",
    "for i in range(1,11):\n",
    "    print('{} * {} = {}'.format(n,i,n*i))"
   ]
  },
  {
   "cell_type": "markdown",
   "id": "b7e6ec7b",
   "metadata": {},
   "source": [
    "# 3. Write a Python Program to Print the Fibonacci sequence?"
   ]
  },
  {
   "cell_type": "code",
   "execution_count": 10,
   "id": "09249899",
   "metadata": {},
   "outputs": [
    {
     "name": "stdout",
     "output_type": "stream",
     "text": [
      "Please enter the length of fibonacci sequence needs to be printed:10\n",
      "\n",
      " Fibonacci series with length 10 is [0, 1, 1, 2, 3, 5, 8, 13, 21, 34] \n"
     ]
    }
   ],
   "source": [
    "# Fibonacci sequence is produced such that each number is the sum of the two preceding ones, starting from 0 and 1.\n",
    "# 0, 1, 1, 2, 3, 5, 8, 13, 21, 34, 55, 89, 144\n",
    "\n",
    "# Taking user input to get the upper bound of sequence\n",
    "\n",
    "n = int(input('Please enter the length of fibonacci sequence needs to be printed:'))\n",
    "\n",
    "\n",
    "fib = [0,1]\n",
    "for i in range(2,n):\n",
    "    fib.append(fib[i-1]+fib[i-2])\n",
    "    \n",
    "print('\\n Fibonacci series with length {} is {} '.format(n,fib))\n",
    "    \n",
    "        "
   ]
  },
  {
   "cell_type": "markdown",
   "id": "7167d8a4",
   "metadata": {},
   "source": [
    "# 4. Write a Python Program to Check Armstrong Number?"
   ]
  },
  {
   "cell_type": "code",
   "execution_count": 27,
   "id": "9eda8bff",
   "metadata": {},
   "outputs": [
    {
     "name": "stdout",
     "output_type": "stream",
     "text": [
      "Please enter a number to check whether it is a armstrong number:371\n",
      "371 is a Armstrong number\n"
     ]
    }
   ],
   "source": [
    "# Armstrong number is a number that is equal to the sum of cubes of its digits.\n",
    "# examples - 0, 1, 153, 370, 371 and 407\n",
    "\n",
    "# Taking a number as input to check if it is armstrong number\n",
    "\n",
    "n = input('Please enter a number to check whether it is a armstrong number:')\n",
    "\n",
    "sum=0\n",
    "for i in n:\n",
    "    sum += int(i)**len(n)\n",
    "    \n",
    "if sum == int(n):\n",
    "    print('{} is a Armstrong number'.format(n))\n",
    "else:\n",
    "    print('{} is not a Armstrong number'.format(n))"
   ]
  },
  {
   "cell_type": "markdown",
   "id": "eb2fd386",
   "metadata": {},
   "source": [
    "# 5. Write a Python Program to Find Armstrong Number in an Interval?"
   ]
  },
  {
   "cell_type": "code",
   "execution_count": 28,
   "id": "e6ddc342",
   "metadata": {},
   "outputs": [
    {
     "name": "stdout",
     "output_type": "stream",
     "text": [
      "Please enter lower bound :100\n",
      "Please enter upper bound :10000\n",
      "Armstrong numbers in interval 100 and 10000 are\n",
      "153\n",
      "370\n",
      "371\n",
      "407\n",
      "1634\n",
      "8208\n",
      "9474\n"
     ]
    }
   ],
   "source": [
    "# Armstrong number is a number that is equal to the sum of cubes of its digits.\n",
    "# examples - 0, 1, 153, 370, 371 and 407\n",
    "\n",
    "# Taking a lower bound and upper bound as input to print Armstrong numbers in that interval\n",
    "\n",
    "lower = int(input('Please enter lower bound :'))\n",
    "upper = int(input('Please enter upper bound :'))\n",
    "print('Armstrong numbers in interval {} and {} are'.format(lower,upper))\n",
    "for i in range(lower,upper+1):\n",
    "    n = str(i)\n",
    "    sum=0\n",
    "    for i in n:\n",
    "        sum += int(i)**len(n)\n",
    "    \n",
    "    if sum == int(n):\n",
    "        print(n)\n",
    "    else:\n",
    "        continue"
   ]
  },
  {
   "cell_type": "markdown",
   "id": "69a9e1ed",
   "metadata": {},
   "source": [
    "# 6. Write a Python Program to Find the Sum of Natural Numbers?"
   ]
  },
  {
   "cell_type": "code",
   "execution_count": 31,
   "id": "ac80bc1e",
   "metadata": {},
   "outputs": [
    {
     "name": "stdout",
     "output_type": "stream",
     "text": [
      "Please enter a number upto which sum of natural numbers to be found :5\n",
      "The sum of 5 Natural Numbers is 15\n"
     ]
    }
   ],
   "source": [
    "#  Sum of n natural number = n * (n + 1) / 2.\n",
    "\n",
    "# Taking n as user input \n",
    "\n",
    "n = int(input('Please enter a number upto which sum of natural numbers to be found :'))\n",
    "\n",
    "sum = n * (n + 1) / 2\n",
    "\n",
    "print('The sum of {} Natural Numbers is {}'.format(n,int(sum)))"
   ]
  },
  {
   "cell_type": "code",
   "execution_count": null,
   "id": "b7e11797",
   "metadata": {},
   "outputs": [],
   "source": []
  }
 ],
 "metadata": {
  "kernelspec": {
   "display_name": "Python 3 (ipykernel)",
   "language": "python",
   "name": "python3"
  },
  "language_info": {
   "codemirror_mode": {
    "name": "ipython",
    "version": 3
   },
   "file_extension": ".py",
   "mimetype": "text/x-python",
   "name": "python",
   "nbconvert_exporter": "python",
   "pygments_lexer": "ipython3",
   "version": "3.9.7"
  }
 },
 "nbformat": 4,
 "nbformat_minor": 5
}
