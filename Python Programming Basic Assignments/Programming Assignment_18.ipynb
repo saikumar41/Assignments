{
 "cells": [
  {
   "cell_type": "markdown",
   "id": "6f6f8333",
   "metadata": {},
   "source": [
    "# Question 1\n",
    "Create a function that takes a list of non-negative integers and strings and return a new list without the strings."
   ]
  },
  {
   "cell_type": "code",
   "execution_count": 5,
   "id": "259affd0",
   "metadata": {},
   "outputs": [
    {
     "data": {
      "text/plain": [
       "[1, 2, 123]"
      ]
     },
     "execution_count": 5,
     "metadata": {},
     "output_type": "execute_result"
    }
   ],
   "source": [
    "def filter_list(lst):\n",
    "    if [i for i in lst if type(i)==int and i<0]:\n",
    "        return \"Please Provide a list with non-negative integers and strings.\"\n",
    "    return [i for i in lst if type(i) == int]\n",
    "\n",
    "filter_list([1, 2, \"aasf\", \"1\", \"123\", 123])"
   ]
  },
  {
   "cell_type": "markdown",
   "id": "85904bfe",
   "metadata": {},
   "source": [
    "# Question 2\n",
    "The \"Reverser\" takes a string as input and returns that string in reverse order, with the opposite case.\n"
   ]
  },
  {
   "cell_type": "code",
   "execution_count": 21,
   "id": "3bc0484f",
   "metadata": {},
   "outputs": [
    {
     "data": {
      "text/plain": [
       "'DLROw OLLEh'"
      ]
     },
     "execution_count": 21,
     "metadata": {},
     "output_type": "execute_result"
    }
   ],
   "source": [
    "def reverse(s):\n",
    "    return s[::-1].swapcase()\n",
    "\n",
    "reverse(\"Hello World\")"
   ]
  },
  {
   "cell_type": "markdown",
   "id": "cf98667c",
   "metadata": {},
   "source": [
    "# Question 3\n",
    "You can assign variables from lists like this:<br>\n",
    "lst = [1, 2, 3, 4, 5, 6]<br>\n",
    "first = lst[0]<br>\n",
    "middle = lst[1:-1]<br>\n",
    "last = lst[-1]<br>\n",
    "\n",
    "print(first) ➞ outputs 1<br>\n",
    "print(middle) ➞ outputs [2, 3, 4, 5]<br>\n",
    "print(last) ➞ outputs 6<br>\n",
    "With Python 3, you can assign variables from lists in a much more succinct way. Create variables first, middle and last from the given list using destructuring assignment (check the Resources tab for some examples), where:<br>\n",
    "first  ➞ 1\n",
    "\n",
    "middle ➞ [2, 3, 4, 5]\n",
    "\n",
    "last ➞ 6\n",
    "Your task is to unpack the list writeyourcodehere into three variables, being first, middle, and last, with middle being everything in between the first and last element. Then print all three variables.<br>"
   ]
  },
  {
   "cell_type": "code",
   "execution_count": 24,
   "id": "1fde6b77",
   "metadata": {},
   "outputs": [
    {
     "name": "stdout",
     "output_type": "stream",
     "text": [
      "Enter list of items(comma separated): 1,2,3,4,5,6,7\n",
      "\n",
      "first -> 1\n",
      "\n",
      "middle -> ['2', '3', '4', '5', '6']\n",
      "\n",
      "last -> 7\n"
     ]
    }
   ],
   "source": [
    "# Taking a list as an input\n",
    "\n",
    "l = [i for i in input('Enter list of items(comma separated): ').split(',')]\n",
    "\n",
    "first, middle, last = l[0],l[1:-1],l[-1]\n",
    "print(\"\\nfirst -> {}\\n\\nmiddle -> {}\\n\\nlast -> {}\".format(first,middle,last))"
   ]
  },
  {
   "cell_type": "markdown",
   "id": "c10004f3",
   "metadata": {},
   "source": [
    "# Question 4\n",
    "Write a function that calculates the factorial of a number recursively."
   ]
  },
  {
   "cell_type": "code",
   "execution_count": 26,
   "id": "101e2308",
   "metadata": {},
   "outputs": [
    {
     "data": {
      "text/plain": [
       "720"
      ]
     },
     "execution_count": 26,
     "metadata": {},
     "output_type": "execute_result"
    }
   ],
   "source": [
    "def factorial(num):\n",
    "    if num == 1:\n",
    "        return 1\n",
    "    else:\n",
    "        return num * factorial(num-1)\n",
    "    \n",
    "factorial(6)"
   ]
  },
  {
   "cell_type": "markdown",
   "id": "8d23abb0",
   "metadata": {},
   "source": [
    "# Question 5\n",
    "Write a function that moves all elements of one type to the end of the list."
   ]
  },
  {
   "cell_type": "code",
   "execution_count": 29,
   "id": "f90fb94c",
   "metadata": {},
   "outputs": [
    {
     "data": {
      "text/plain": [
       "[3, 2, 4, 4, 1, 1]"
      ]
     },
     "execution_count": 29,
     "metadata": {},
     "output_type": "execute_result"
    }
   ],
   "source": [
    "def move_to_end(lst,n):\n",
    "    for _ in range(lst.count(n)):\n",
    "        lst.remove(n)\n",
    "        lst.append(n)\n",
    "        \n",
    "    return lst\n",
    "\n",
    "move_to_end([1, 3, 2, 4, 4, 1], 1)"
   ]
  },
  {
   "cell_type": "code",
   "execution_count": null,
   "id": "b9b42aef",
   "metadata": {},
   "outputs": [],
   "source": []
  }
 ],
 "metadata": {
  "kernelspec": {
   "display_name": "Python 3 (ipykernel)",
   "language": "python",
   "name": "python3"
  },
  "language_info": {
   "codemirror_mode": {
    "name": "ipython",
    "version": 3
   },
   "file_extension": ".py",
   "mimetype": "text/x-python",
   "name": "python",
   "nbconvert_exporter": "python",
   "pygments_lexer": "ipython3",
   "version": "3.9.7"
  }
 },
 "nbformat": 4,
 "nbformat_minor": 5
}
