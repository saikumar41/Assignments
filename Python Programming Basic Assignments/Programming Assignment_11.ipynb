{
 "cells": [
  {
   "cell_type": "markdown",
   "id": "f1cf43d4",
   "metadata": {},
   "source": [
    "# 1. Write a Python program to find words which are greater than given length k?"
   ]
  },
  {
   "cell_type": "code",
   "execution_count": 1,
   "id": "9615fdc7",
   "metadata": {},
   "outputs": [
    {
     "name": "stdout",
     "output_type": "stream",
     "text": [
      "Enter a sentence: I am very good in Programming but not in python\n",
      "Enter Length of word to find: 5\n",
      "The words which are greater than given length 5 are ['Programming', 'python']\n"
     ]
    }
   ],
   "source": [
    "# take a string as input\n",
    "\n",
    "s = input('Enter a sentence: ')\n",
    "k = int(input('Enter Length of word to find: '))\n",
    "l = s.split()\n",
    "lst = []\n",
    "for word in l:\n",
    "    if len(word) > k:\n",
    "        lst.append(word)\n",
    "print('The words which are greater than given length {} are {}'.format(k,lst))"
   ]
  },
  {
   "cell_type": "markdown",
   "id": "4316798a",
   "metadata": {},
   "source": [
    "# 2. Write a Python program for removing i-th character from a string?"
   ]
  },
  {
   "cell_type": "code",
   "execution_count": 6,
   "id": "c98d09e4",
   "metadata": {},
   "outputs": [
    {
     "name": "stdout",
     "output_type": "stream",
     "text": [
      "Enter a string: python\n",
      "Enter the value of i so that ith character to be removed: 3\n",
      "The given string after removing 3-th character is pyhon\n"
     ]
    }
   ],
   "source": [
    "# take a string as input\n",
    "\n",
    "s = input('Enter a string: ')\n",
    "i = int(input('Enter the value of i so that ith character to be removed: '))\n",
    "\n",
    "s = s.replace(s[i-1],'')\n",
    "\n",
    "print('The given string after removing {}-th character is {}'.format(i,s))"
   ]
  },
  {
   "cell_type": "markdown",
   "id": "fffd46f9",
   "metadata": {},
   "source": [
    "# 3. Write a Python program to split and join a string?"
   ]
  },
  {
   "cell_type": "code",
   "execution_count": 10,
   "id": "f4ba2680",
   "metadata": {},
   "outputs": [
    {
     "name": "stdout",
     "output_type": "stream",
     "text": [
      "Enter a string: I like python programming\n",
      "Enter delimiter to join the given strings: -\n",
      "splitting the given string with spaces gives the following list : ['I', 'like', 'python', 'programming']\n",
      "joining back list using delimiter '-' gives I-like-python-programming \n"
     ]
    }
   ],
   "source": [
    "# taking a string as input\n",
    "\n",
    "s = input('Enter a string: ')\n",
    "\n",
    "delim = input('Enter delimiter to join the given strings: ')\n",
    "\n",
    "print('splitting the given string with spaces gives the following list : {}'.format(s.split()))\n",
    "\n",
    "print(\"joining back list using delimiter '{}' gives {} \".format(delim,delim.join(s.split())))"
   ]
  },
  {
   "cell_type": "markdown",
   "id": "c961e45b",
   "metadata": {},
   "source": [
    "# 4. Write a Python to check if a given string is binary string or not?"
   ]
  },
  {
   "cell_type": "code",
   "execution_count": 12,
   "id": "89a8a261",
   "metadata": {},
   "outputs": [
    {
     "name": "stdout",
     "output_type": "stream",
     "text": [
      "Enter a string: 1010se\n",
      "The given string is not a binary string\n"
     ]
    }
   ],
   "source": [
    "# taking a string as input\n",
    "\n",
    "s = input('Enter a string: ')\n",
    "\n",
    "unique = set(s)\n",
    "\n",
    "if len(unique) == 2 and '0' in unique and '1' in unique:\n",
    "    print('The given string is a binary string')\n",
    "else:\n",
    "     print('The given string is not a binary string')"
   ]
  },
  {
   "cell_type": "markdown",
   "id": "744b9453",
   "metadata": {},
   "source": [
    "# 5. Write a Python program to find uncommon words from two Strings?"
   ]
  },
  {
   "cell_type": "code",
   "execution_count": 20,
   "id": "e8cdd38b",
   "metadata": {},
   "outputs": [
    {
     "name": "stdout",
     "output_type": "stream",
     "text": [
      "Enter first string: I like python\n",
      "Enter second string: I like java\n",
      "The uncommon words from given two Strings are ['python', 'java']\n"
     ]
    }
   ],
   "source": [
    "# taking two strings as input\n",
    "\n",
    "s1 = input('Enter first string: ')\n",
    "s2 = input('Enter second string: ')\n",
    "\n",
    "\n",
    "sp1 = set(s1.split())\n",
    "sp2 = set(s2.split())\n",
    "uncommon = list(sp1.difference(sp2)) + list(sp2.difference(sp1))\n",
    "            \n",
    "print('The uncommon words from given two Strings are {}'.format(uncommon))"
   ]
  },
  {
   "cell_type": "markdown",
   "id": "726d8235",
   "metadata": {},
   "source": [
    "# 6. Write a Python to find all duplicate characters in string?"
   ]
  },
  {
   "cell_type": "code",
   "execution_count": 21,
   "id": "05e09425",
   "metadata": {},
   "outputs": [
    {
     "name": "stdout",
     "output_type": "stream",
     "text": [
      "Enter a string: I am learning python in ineuron\n",
      "The duplicate characters in given string are [' ', 'a', 'e', 'r', 'n', 'i', 'o']\n"
     ]
    }
   ],
   "source": [
    "# taking a string as input\n",
    "\n",
    "s = input('Enter a string: ')\n",
    "dup = []\n",
    "for i in s:\n",
    "    if i in dup:\n",
    "        continue\n",
    "    if s.count(i) > 1:\n",
    "        dup.append(i)\n",
    "\n",
    "print('The duplicate characters in given string are {}'.format(dup))"
   ]
  },
  {
   "cell_type": "markdown",
   "id": "941b2e52",
   "metadata": {},
   "source": [
    "# 7. Write a Python Program to check if a string contains any special character?"
   ]
  },
  {
   "cell_type": "code",
   "execution_count": 23,
   "id": "4b9f0f65",
   "metadata": {},
   "outputs": [
    {
     "name": "stdout",
     "output_type": "stream",
     "text": [
      "Enter a string: I like Python!\n",
      "The given string contains special characters\n"
     ]
    }
   ],
   "source": [
    "# taking a string as input\n",
    "\n",
    "s = input('Enter a string: ')\n",
    "\n",
    "if s.isalnum():\n",
    "    print('The given string doeanot contain any special characters')\n",
    "else:\n",
    "    print('The given string contains special characters')"
   ]
  },
  {
   "cell_type": "code",
   "execution_count": null,
   "id": "78b4e4fc",
   "metadata": {},
   "outputs": [],
   "source": []
  }
 ],
 "metadata": {
  "kernelspec": {
   "display_name": "Python 3 (ipykernel)",
   "language": "python",
   "name": "python3"
  },
  "language_info": {
   "codemirror_mode": {
    "name": "ipython",
    "version": 3
   },
   "file_extension": ".py",
   "mimetype": "text/x-python",
   "name": "python",
   "nbconvert_exporter": "python",
   "pygments_lexer": "ipython3",
   "version": "3.9.7"
  }
 },
 "nbformat": 4,
 "nbformat_minor": 5
}
