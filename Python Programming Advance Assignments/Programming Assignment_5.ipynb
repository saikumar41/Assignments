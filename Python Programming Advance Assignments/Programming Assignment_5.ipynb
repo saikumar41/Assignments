{
 "cells": [
  {
   "cell_type": "markdown",
   "id": "22d4d593",
   "metadata": {},
   "source": [
    "# 1. Create a function that takes a number n (integer greater than zero) as an argument, and returns 2 if n is odd and 8 if n is even.\n",
    "\n",
    "You can only use the following arithmetic operators: addition of numbers +, subtraction of numbers -, multiplication of number \\*, division of number /, and exponentiation \\**.\n",
    "\n",
    "You are not allowed to use any other methods in this challenge (i.e. no if statements, comparison operators, etc).\n"
   ]
  },
  {
   "cell_type": "code",
   "execution_count": 43,
   "id": "d0202aeb",
   "metadata": {},
   "outputs": [
    {
     "name": "stdout",
     "output_type": "stream",
     "text": [
      "2\n",
      "8\n",
      "2\n",
      "8\n"
     ]
    }
   ],
   "source": [
    "def f(num):\n",
    "    answers = [8,2]\n",
    "    return answers[num%2]\n",
    "\n",
    "print(f(1))\n",
    "print(f(2))\n",
    "print(f(3))\n",
    "print(f(4))"
   ]
  },
  {
   "cell_type": "markdown",
   "id": "03fc76af",
   "metadata": {},
   "source": [
    "# 2. Create a function that returns the majority vote in a list. A majority vote is an element that occurs > N/2 times in a list (where N is the length of the list)."
   ]
  },
  {
   "cell_type": "code",
   "execution_count": 6,
   "id": "ba540180",
   "metadata": {},
   "outputs": [
    {
     "name": "stdout",
     "output_type": "stream",
     "text": [
      "A\n",
      "A\n",
      "None\n"
     ]
    }
   ],
   "source": [
    "def majority_vote(votes):\n",
    "    num_votes = {i:votes.count(i) for i in votes}\n",
    "    for i in num_votes.keys():\n",
    "        if num_votes[i] > len(votes)/2:\n",
    "            return i\n",
    "    else:\n",
    "        return None\n",
    "        \n",
    "print(majority_vote([\"A\", \"A\", \"B\"]))\n",
    "print(majority_vote([\"A\", \"A\", \"A\", \"B\", \"C\", \"A\"]))\n",
    "print(majority_vote([\"A\", \"B\", \"B\", \"A\", \"C\", \"C\"]))"
   ]
  },
  {
   "cell_type": "markdown",
   "id": "ab6c8183",
   "metadata": {},
   "source": [
    "# 3. Create a function that takes a string txt and censors any word from a given list lst. The text removed must be replaced by the given character char."
   ]
  },
  {
   "cell_type": "code",
   "execution_count": 40,
   "id": "c51e95d1",
   "metadata": {},
   "outputs": [
    {
     "name": "stdout",
     "output_type": "stream",
     "text": [
      "----- is - wednesday!\n",
      "The *** jumped **** the moon.\n",
      "Why *** the ******* cross the ****?\n"
     ]
    }
   ],
   "source": [
    "def censor_string(text,censor_list,replace_char):\n",
    "    for i in censor_list:\n",
    "        text = text.lower().replace(i.lower(),replace_char*len(i),1)\n",
    "    return text.capitalize()\n",
    "        \n",
    "print(censor_string(\"Today is a Wednesday!\", [\"Today\", \"a\"], \"-\"))\n",
    "print(censor_string(\"The cow jumped over the moon.\", [\"cow\", \"over\"], \"*\"))\n",
    "print(censor_string(\"Why did the chicken cross the road?\", [\"Did\", \"chicken\", \"road\"], \"*\"))     "
   ]
  },
  {
   "cell_type": "markdown",
   "id": "cee1888b",
   "metadata": {},
   "source": [
    "# 4. In mathematics a Polydivisible Number (or magic number) is a number in a given number base with digits abcde... that has the following properties:\n",
    "\n",
    "    -  Its first digit a is not 0.\n",
    "    - The number formed by its first two digits ab is a multiple of 2.\n",
    "    - The number formed by its first three digits abc is a multiple of 3.\n",
    "    - The number formed by its first four digits abcd is a multiple of 4.\n",
    "\n",
    "    Create a function which takes an integer n and returns True if the given number is a Polydivisible Number and False otherwise.\n"
   ]
  },
  {
   "cell_type": "code",
   "execution_count": 21,
   "id": "08b91bb8",
   "metadata": {},
   "outputs": [
    {
     "name": "stdout",
     "output_type": "stream",
     "text": [
      "True\n",
      "False\n"
     ]
    }
   ],
   "source": [
    "def is_polydivisible(num):\n",
    "    while num !=0:\n",
    "        if num % len(str(num)) != 0:\n",
    "            return False\n",
    "        num = num // 10\n",
    "    return True   \n",
    "        \n",
    "print(is_polydivisible(1232))\n",
    "print(is_polydivisible(123220 ))"
   ]
  },
  {
   "cell_type": "markdown",
   "id": "2a11263a",
   "metadata": {},
   "source": [
    "# 5. Create a function that takes a list of numbers and returns the sum of all prime numbers in the list."
   ]
  },
  {
   "cell_type": "code",
   "execution_count": 30,
   "id": "0477a9fd",
   "metadata": {},
   "outputs": [
    {
     "name": "stdout",
     "output_type": "stream",
     "text": [
      "17\n",
      "87\n",
      "None\n"
     ]
    }
   ],
   "source": [
    "def prime(num):\n",
    "    if num == 1:\n",
    "        return False\n",
    "    for i in range(2,num//2+1):\n",
    "        if num % i == 0:\n",
    "            return False\n",
    "    return True\n",
    "    \n",
    "def sum_primes(num_list):\n",
    "    primes_list = [i for i in num_list if prime(i)]\n",
    "    return sum(primes_list) if len(primes_list) > 0 else None\n",
    "\n",
    "print(sum_primes([1, 2, 3, 4, 5, 6, 7, 8, 9, 10]))\n",
    "print(sum_primes([2, 3, 4, 11, 20, 50, 71]))\n",
    "print(sum_primes([]))"
   ]
  },
  {
   "cell_type": "code",
   "execution_count": null,
   "id": "3916386b",
   "metadata": {},
   "outputs": [],
   "source": []
  }
 ],
 "metadata": {
  "kernelspec": {
   "display_name": "Python 3 (ipykernel)",
   "language": "python",
   "name": "python3"
  },
  "language_info": {
   "codemirror_mode": {
    "name": "ipython",
    "version": 3
   },
   "file_extension": ".py",
   "mimetype": "text/x-python",
   "name": "python",
   "nbconvert_exporter": "python",
   "pygments_lexer": "ipython3",
   "version": "3.9.7"
  }
 },
 "nbformat": 4,
 "nbformat_minor": 5
}
