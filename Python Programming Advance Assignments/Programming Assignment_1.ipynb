{
 "cells": [
  {
   "cell_type": "markdown",
   "id": "71fba687",
   "metadata": {},
   "source": [
    "# 1. Write a function that takes a list of lists and returns the value of all of the symbols in it, where each symbol adds or takes something from the total score. Symbol values:\n",
    "\n",
    "1. \\# = 5\n",
    "2. O = 3\n",
    "3. X = 1\n",
    "4. ! = -1\n",
    "5. !! = -3\n",
    "6. !!! = -5\n",
    "\n",
    "A list of lists containing 2 #s, a O, and a !!! would equal (0 + 5 + 5 + 3 - 5) 8.\n",
    "\n",
    "\n",
    "If the final score is negative, return 0 (e.g. 3 #s, 3 !!s, 2 !!!s and a X would be (0 + 5 + 5 + 5 - 3 - 3 - 3 - 5 - 5 + 1) -3, so return 0.\n"
   ]
  },
  {
   "cell_type": "code",
   "execution_count": 2,
   "id": "2f77394e",
   "metadata": {},
   "outputs": [
    {
     "name": "stdout",
     "output_type": "stream",
     "text": [
      "Final score is  2\n"
     ]
    }
   ],
   "source": [
    "def check_score(l):\n",
    "    scores = {\n",
    "        '#' : 5,\n",
    "        'O' : 3,\n",
    "        'X' : 1,\n",
    "        '!' : -1,\n",
    "        '!!' : -3,\n",
    "        '!!!' : -5,\n",
    "    }\n",
    "    \n",
    "    score = 0\n",
    "    for i in l:\n",
    "        for j in i:\n",
    "            score += scores[j]\n",
    "    if score >= 0 :        \n",
    "        return score\n",
    "    else:\n",
    "        return 0\n",
    "\n",
    "final_score = check_score([\n",
    "  [\"#\", \"!\"],\n",
    "  [\"!!\", \"X\"]\n",
    "])\n",
    "\n",
    "print('Final score is ',final_score)"
   ]
  },
  {
   "cell_type": "markdown",
   "id": "c4534d5e",
   "metadata": {},
   "source": [
    "# 2. Create a function that takes a variable number of arguments, each argument representing the number of items in a group, and returns the number of permutations (combinations) of items that you could get by taking one item from each group."
   ]
  },
  {
   "cell_type": "code",
   "execution_count": 8,
   "id": "70f15f25",
   "metadata": {},
   "outputs": [
    {
     "name": "stdout",
     "output_type": "stream",
     "text": [
      "120\n"
     ]
    }
   ],
   "source": [
    "def combinations(*args):\n",
    "    comb = 1\n",
    "    for i in args:\n",
    "        comb *= i\n",
    "        \n",
    "    return comb\n",
    "\n",
    "print(combinations(2, 3, 4, 5))\n",
    "    "
   ]
  },
  {
   "cell_type": "markdown",
   "id": "1e487b9e",
   "metadata": {},
   "source": [
    "# 3. Create a function that takes a string as an argument and returns the Morse code equivalent."
   ]
  },
  {
   "cell_type": "code",
   "execution_count": 7,
   "id": "5d26d68f",
   "metadata": {},
   "outputs": [
    {
     "name": "stdout",
     "output_type": "stream",
     "text": [
      " . -.. .- -... -... .. -   -.-. .... .- .-.. .-.. . -. --. . \n"
     ]
    }
   ],
   "source": [
    "def encode_morse(s):\n",
    "    char_to_dots = {\n",
    "      'A': '.-', 'B': '-...', 'C': '-.-.', 'D': '-..', 'E': '.', 'F': '..-.',\n",
    "      'G': '--.', 'H': '....', 'I': '..', 'J': '.---', 'K': '-.-', 'L': '.-..',\n",
    "      'M': '--', 'N': '-.', 'O': '---', 'P': '.--.', 'Q': '--.-', 'R': '.-.',\n",
    "      'S': '...', 'T': '-', 'U': '..-', 'V': '...-', 'W': '.--', 'X': '-..-',\n",
    "      'Y': '-.--', 'Z': '--..', ' ': ' ', '0': '-----',\n",
    "      '1': '.----', '2': '..---', '3': '...--', '4': '....-', '5': '.....',\n",
    "      '6': '-....', '7': '--...', '8': '---..', '9': '----.',\n",
    "      '&': '.-...', \"'\": '.----.', '@': '.--.-.', ')': '-.--.-', '(': '-.--.',\n",
    "      ':': '---...', ',': '--..--', '=': '-...-', '!': '-.-.--', '.': '.-.-.-',\n",
    "      '-': '-....-', '+': '.-.-.', '\"': '.-..-.', '?': '..--..', '/': '-..-.'\n",
    "    }\n",
    "    morse = ' '\n",
    "    for i in s:\n",
    "        morse = morse + char_to_dots[i] + ' '\n",
    "        \n",
    "    return morse\n",
    "\n",
    "print(encode_morse(\"EDABBIT CHALLENGE\"))"
   ]
  },
  {
   "cell_type": "markdown",
   "id": "d0682759",
   "metadata": {},
   "source": [
    "# 4.  Write a function that takes a number and returns True if it's a prime; False otherwise. The number can be 2^64-1 (2 to the power of 63, not XOR). With the standard technique it would be O(2^64-1), which is much too large for the 10 second time limit."
   ]
  },
  {
   "cell_type": "code",
   "execution_count": 27,
   "id": "c3aff8b9",
   "metadata": {},
   "outputs": [
    {
     "name": "stdout",
     "output_type": "stream",
     "text": [
      "False\n"
     ]
    }
   ],
   "source": [
    "def prime(num):\n",
    "    for n in range(2,int(num**0.5)+1):\n",
    "        if num % n == 0:\n",
    "            return False\n",
    "    return True\n",
    "\n",
    "print(prime(5151512515524))"
   ]
  },
  {
   "cell_type": "markdown",
   "id": "bd9c0d08",
   "metadata": {},
   "source": [
    "# 5.  Create a function that converts a word to a bitstring and then to a boolean list based on the following criteria:\n",
    "\n",
    "    1. Locate the position of the letter in the English alphabet (from 1 to 26).\n",
    "    2. Odd positions will be represented as 1 and 0 otherwise.\n",
    "    3. Convert the represented positions to boolean values, 1 for True and 0 for False.\n",
    "    4. Store the conversions into an array.\n"
   ]
  },
  {
   "cell_type": "code",
   "execution_count": 21,
   "id": "e90bf452",
   "metadata": {},
   "outputs": [
    {
     "name": "stdout",
     "output_type": "stream",
     "text": [
      "[False, True, False, True, True]\n"
     ]
    }
   ],
   "source": [
    "def to_boolean_list(s):\n",
    "    alpha = 'abcdefghijklmnopqrstuvwxyz'\n",
    "    num_alpha = {a[1]:a[0] for a in enumerate(alpha)}\n",
    "    bool_list = []\n",
    "    for i in s:\n",
    "        if (num_alpha[i]+1) % 2 == 0:\n",
    "            bool_list.append(bool(0))\n",
    "        else:\n",
    "            bool_list.append(bool(1))\n",
    "            \n",
    "    return bool_list\n",
    "\n",
    "print(to_boolean_list(\"loves\"))\n"
   ]
  },
  {
   "cell_type": "code",
   "execution_count": null,
   "id": "ac98dcc4",
   "metadata": {},
   "outputs": [],
   "source": []
  }
 ],
 "metadata": {
  "kernelspec": {
   "display_name": "Python 3 (ipykernel)",
   "language": "python",
   "name": "python3"
  },
  "language_info": {
   "codemirror_mode": {
    "name": "ipython",
    "version": 3
   },
   "file_extension": ".py",
   "mimetype": "text/x-python",
   "name": "python",
   "nbconvert_exporter": "python",
   "pygments_lexer": "ipython3",
   "version": "3.9.7"
  }
 },
 "nbformat": 4,
 "nbformat_minor": 5
}
