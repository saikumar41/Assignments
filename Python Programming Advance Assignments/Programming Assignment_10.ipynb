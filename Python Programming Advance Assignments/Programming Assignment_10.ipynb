{
 "cells": [
  {
   "cell_type": "markdown",
   "id": "53a257df",
   "metadata": {},
   "source": [
    "# 1. Create a function that takes the width, height and character and returns a picture frame as a 2D list."
   ]
  },
  {
   "cell_type": "code",
   "execution_count": 10,
   "id": "e7ab1ad9",
   "metadata": {},
   "outputs": [
    {
     "name": "stdout",
     "output_type": "stream",
     "text": [
      "[['####'], ['#  #'], ['#  #'], ['#  #'], ['####']]\n",
      "[['**********'], ['*        *'], ['**********']]\n",
      "invalid\n"
     ]
    }
   ],
   "source": [
    "def get_frame(width,height,char):\n",
    "    frame = []\n",
    "    if width <= 2:\n",
    "        return \"invalid\"\n",
    "    for i in range(height):\n",
    "        if i == 0 or i == height-1:\n",
    "            frame.append([char * width])\n",
    "        else:\n",
    "            frame.append([char + ' '*(width-2) + char])\n",
    "                \n",
    "    return frame\n",
    "\n",
    "print(get_frame(4, 5, \"#\"))\n",
    "print(get_frame(10, 3, \"*\"))\n",
    "print(get_frame(2, 5, \"0\"))"
   ]
  },
  {
   "cell_type": "markdown",
   "id": "a7d099d8",
   "metadata": {},
   "source": [
    "# 2. Write three functions:\n",
    "\n",
    "  1. boolean_and\n",
    "  2. boolean_or\n",
    "  3. boolean_xor\n",
    "        \n",
    "    These functions should evaluate a list of True and False values, starting from the leftmost element and evaluating pairwise.\n"
   ]
  },
  {
   "cell_type": "code",
   "execution_count": 14,
   "id": "a922eb42",
   "metadata": {},
   "outputs": [
    {
     "name": "stdout",
     "output_type": "stream",
     "text": [
      "False\n",
      "True\n",
      "False\n"
     ]
    }
   ],
   "source": [
    "def boolean_and(lst):\n",
    "    return False if False in lst else True\n",
    "\n",
    "def boolean_or(lst):\n",
    "    return True if True in lst else False\n",
    "\n",
    "def boolean_xor(lst):\n",
    "    result = lst[0]\n",
    "    for i in range(1,len(lst)):\n",
    "        if result == lst[i]:\n",
    "            result = False\n",
    "        else:\n",
    "            result = True\n",
    "    return result\n",
    "\n",
    "print(boolean_and([True, True, False, True]))\n",
    "print(boolean_or([True, True, False, False]))\n",
    "print(boolean_xor([True, True, False, False]))"
   ]
  },
  {
   "cell_type": "markdown",
   "id": "500abd13",
   "metadata": {},
   "source": [
    "# 3. Create a function that creates a box based on dimension n."
   ]
  },
  {
   "cell_type": "code",
   "execution_count": 17,
   "id": "9bf109f7",
   "metadata": {},
   "outputs": [
    {
     "name": "stdout",
     "output_type": "stream",
     "text": [
      "['#####', '#   #', '#   #', '#   #', '#####']\n",
      "['###', '# #', '###']\n",
      "['##', '##']\n",
      "['#']\n"
     ]
    }
   ],
   "source": [
    "def make_box(n):\n",
    "    box = []\n",
    "    for i in range(n):\n",
    "        if i == 0 or i == n-1:\n",
    "            box.append('#' * n)\n",
    "        else:\n",
    "            box.append('#' + ' '*(n-2) + '#')\n",
    "            \n",
    "    return box\n",
    "\n",
    "print(make_box(5))\n",
    "print(make_box(3))\n",
    "print(make_box(2))\n",
    "print(make_box(1))"
   ]
  },
  {
   "cell_type": "markdown",
   "id": "7c499a36",
   "metadata": {},
   "source": [
    "# 4. Given a common phrase, return False if any individual word in the phrase contains duplicate letters. Return True otherwise."
   ]
  },
  {
   "cell_type": "code",
   "execution_count": 19,
   "id": "01e83ba4",
   "metadata": {},
   "outputs": [
    {
     "name": "stdout",
     "output_type": "stream",
     "text": [
      "True\n",
      "True\n",
      "False\n",
      "False\n"
     ]
    }
   ],
   "source": [
    "def no_duplicate_letters(string):\n",
    "    words = string.split()\n",
    "    for i in words:\n",
    "        for j in i:\n",
    "            if i.count(j) >=2 :\n",
    "                return False\n",
    "            \n",
    "    return True\n",
    "\n",
    "print(no_duplicate_letters(\"Fortune favours the bold.\"))\n",
    "print(no_duplicate_letters(\"You can lead a horse to water, but you can't make him drink.\"))\n",
    "print(no_duplicate_letters(\"Look before you leap.\"))\n",
    "print(no_duplicate_letters(\"An apple a day keeps the doctor away.\"))"
   ]
  },
  {
   "cell_type": "markdown",
   "id": "42487d1e",
   "metadata": {},
   "source": [
    "# 5. Write a regular expression that will match the states that voted yes to President Trump's impeachment. You must use RegEx positive lookahead."
   ]
  },
  {
   "cell_type": "code",
   "execution_count": 31,
   "id": "58d1d6fc",
   "metadata": {},
   "outputs": [
    {
     "data": {
      "text/plain": [
       "['California', 'Florida', 'Michigan']"
      ]
     },
     "execution_count": 31,
     "metadata": {},
     "output_type": "execute_result"
    }
   ],
   "source": [
    "import re\n",
    "txt = \"Texas = no, California = yes, Florida = yes, Michigan = yes\"\n",
    "pattern = \"\\w+(?=\\s=\\syes)\"\n",
    "\n",
    "re.findall(pattern, txt)\n"
   ]
  },
  {
   "cell_type": "code",
   "execution_count": null,
   "id": "37e0c42c",
   "metadata": {},
   "outputs": [],
   "source": []
  },
  {
   "cell_type": "code",
   "execution_count": null,
   "id": "64991512",
   "metadata": {},
   "outputs": [],
   "source": []
  }
 ],
 "metadata": {
  "kernelspec": {
   "display_name": "Python 3 (ipykernel)",
   "language": "python",
   "name": "python3"
  },
  "language_info": {
   "codemirror_mode": {
    "name": "ipython",
    "version": 3
   },
   "file_extension": ".py",
   "mimetype": "text/x-python",
   "name": "python",
   "nbconvert_exporter": "python",
   "pygments_lexer": "ipython3",
   "version": "3.9.7"
  }
 },
 "nbformat": 4,
 "nbformat_minor": 5
}
