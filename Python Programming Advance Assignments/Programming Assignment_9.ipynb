{
 "cells": [
  {
   "cell_type": "markdown",
   "id": "9a44e2f4",
   "metadata": {},
   "source": [
    "# 1. YouTube offers different playback speed options for users. This allows users to increase or decrease the speed of the video content. Given the actual duration and playback speed of the video, calculate the playback duration of the video."
   ]
  },
  {
   "cell_type": "code",
   "execution_count": 26,
   "id": "c7f70353",
   "metadata": {},
   "outputs": [
    {
     "name": "stdout",
     "output_type": "stream",
     "text": [
      "0:15:0\n",
      "0:53:20\n",
      "102:40:18\n"
     ]
    }
   ],
   "source": [
    "def playback_duration(time,speed):\n",
    "    time_min = time.split(':')\n",
    "    total_min = int(time_min[0])*60 + int(time_min[1]) + int(time_min[2])/60\n",
    "    dur = total_min/speed\n",
    "    min,sec = int(dur),int((dur-int(dur))*60,)\n",
    "    if min > 60:\n",
    "        hours = min//60\n",
    "        min = min%60\n",
    "    else:\n",
    "        hours = 0\n",
    "    return f'{hours}:{min}:{sec}'\n",
    "\n",
    "print(playback_duration(\"00:30:00\", 2))\n",
    "print(playback_duration(\"01:20:00\", 1.5))\n",
    "print(playback_duration(\"51:20:09\", 0.5))"
   ]
  },
  {
   "cell_type": "markdown",
   "id": "03d81e6c",
   "metadata": {},
   "source": [
    "# 2. We needs your help to construct a building which will be a pile of n cubes. The cube at the bottom will have a volume of n^3, the cube above will have volume of (n-1)^3 and so on until the top which will have a volume of 1^3.\n",
    "\n",
    "Given the total volume m of the building, can you find the number of cubes n required for the building?\n",
    "\n",
    "In other words, you have to return an integer n such that:\n",
    "\n",
    "n^3 + (n-1)^3 + ... + 1^3 == m\n",
    "\n",
    "Return None if there is no such number.\n"
   ]
  },
  {
   "cell_type": "code",
   "execution_count": 11,
   "id": "2300a3f1",
   "metadata": {},
   "outputs": [
    {
     "name": "stdout",
     "output_type": "stream",
     "text": [
      "45\n",
      "2022\n",
      "None\n"
     ]
    }
   ],
   "source": [
    "def pile_of_cubes(vol):\n",
    "    cube = [0]\n",
    "    i = 1\n",
    "    while True:\n",
    "        cube.append(i**3 + cube[i-1])\n",
    "        if cube[-1] >= vol:\n",
    "            break\n",
    "        i += 1\n",
    "    if cube[-1] == vol:\n",
    "        return len(cube)-1\n",
    "    else:\n",
    "        return None\n",
    "    \n",
    "print(pile_of_cubes(1071225))\n",
    "print(pile_of_cubes(4183059834009))\n",
    "print(pile_of_cubes(16))"
   ]
  },
  {
   "cell_type": "markdown",
   "id": "b5a01e3d",
   "metadata": {},
   "source": [
    "# 3. A fulcrum of a list is an integer such that all elements to the left of it and all elements to the right of it sum to the same value. Write a function that finds the fulcrum of a list.\n",
    "\n",
    "To illustrate:\n",
    "\n",
    "find_fulcrum([3, 1, 5, 2, 4, 6, -1]) ➞ 2<br>\n",
    "// Since [3, 1, 5] and [4, 6, -1] both sum to 9\n"
   ]
  },
  {
   "cell_type": "code",
   "execution_count": 21,
   "id": "c2cd6b57",
   "metadata": {},
   "outputs": [
    {
     "name": "stdout",
     "output_type": "stream",
     "text": [
      "2\n",
      "4\n",
      "1\n",
      "0\n",
      "-1\n"
     ]
    }
   ],
   "source": [
    "def find_fulcrum(lst):\n",
    "    for i in range(1,len(lst)):\n",
    "        if sum(lst[:i]) == sum(lst[i+1:]):\n",
    "            return lst[i]\n",
    "        \n",
    "    return -1\n",
    "        \n",
    "print(find_fulcrum([3, 1, 5, 2, 4, 6, -1]))\n",
    "print(find_fulcrum([1, 2, 4, 9, 10, -10, -9, 3]))\n",
    "print(find_fulcrum([9, 1, 9]))\n",
    "print(find_fulcrum([7, -1, 0, -1, 1, 1, 2, 3]))\n",
    "print(find_fulcrum([8, 8, 8, 8]))"
   ]
  },
  {
   "cell_type": "markdown",
   "id": "fbd1241f",
   "metadata": {},
   "source": [
    "# 4. Given a list of integers representing the color of each sock, determine how many pairs of socks with matching colors there are. For example, there are 7 socks with colors [1, 2, 1, 2, 1, 3, 2]. There is one pair of color 1 and one of color 2. There are three odd socks left, one of each color. The number of pairs is 2.\n",
    "\n",
    "Create a function that returns an integer representing the number of matching pairs of socks that are available.\n"
   ]
  },
  {
   "cell_type": "code",
   "execution_count": 23,
   "id": "df518d23",
   "metadata": {},
   "outputs": [
    {
     "name": "stdout",
     "output_type": "stream",
     "text": [
      "3\n",
      "4\n",
      "0\n"
     ]
    }
   ],
   "source": [
    "def sock_merchant(lst):\n",
    "    colors = set(lst)\n",
    "    pairs = 0\n",
    "    for i in colors:\n",
    "        if lst.count(i) >= 2:\n",
    "            pairs += lst.count(i)//2\n",
    "            \n",
    "    return pairs\n",
    "\n",
    "print(sock_merchant([10, 20, 20, 10, 10, 30, 50, 10, 20]))\n",
    "print(sock_merchant([50, 20, 30, 90, 30, 20, 50, 20, 90]))\n",
    "print(sock_merchant([]))"
   ]
  },
  {
   "cell_type": "markdown",
   "id": "f3fad23b",
   "metadata": {},
   "source": [
    "# 5. Create a function that takes a string containing integers as well as other characters and return the sum of the negative integers only."
   ]
  },
  {
   "cell_type": "code",
   "execution_count": 27,
   "id": "90733d05",
   "metadata": {},
   "outputs": [
    {
     "name": "stdout",
     "output_type": "stream",
     "text": [
      "-23\n",
      "-33\n"
     ]
    }
   ],
   "source": [
    "import re\n",
    "def negative_sum(string):\n",
    "    pattern = r'[-]\\d+'\n",
    "    negative_numbers = re.findall(pattern,string)\n",
    "    return sum(map(int,negative_numbers))\n",
    "    \n",
    "print(negative_sum(\"-12 13%14&-11\"))\n",
    "print(negative_sum(\"22 13%14&-11-22 13 12\"))"
   ]
  },
  {
   "cell_type": "code",
   "execution_count": null,
   "id": "495e0b66",
   "metadata": {},
   "outputs": [],
   "source": []
  }
 ],
 "metadata": {
  "kernelspec": {
   "display_name": "Python 3 (ipykernel)",
   "language": "python",
   "name": "python3"
  },
  "language_info": {
   "codemirror_mode": {
    "name": "ipython",
    "version": 3
   },
   "file_extension": ".py",
   "mimetype": "text/x-python",
   "name": "python",
   "nbconvert_exporter": "python",
   "pygments_lexer": "ipython3",
   "version": "3.9.7"
  }
 },
 "nbformat": 4,
 "nbformat_minor": 5
}
