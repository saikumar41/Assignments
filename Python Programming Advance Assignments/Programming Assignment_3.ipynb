{
 "cells": [
  {
   "cell_type": "markdown",
   "id": "b597b5f4",
   "metadata": {},
   "source": [
    "# 1. Create a function to perform basic arithmetic operations that includes addition, subtraction, multiplication and division on a string number (e.g. \"12 + 24\" or \"23 - 21\" or \"12 // 12\" or \"12 * 21\").\n",
    "\n",
    "Here, we have 1 followed by a space, operator followed by another space and 2. For the challenge, we are going to have only two numbers between 1 valid operator. The return value should be a number.\n",
    "\n",
    "eval() is not allowed. In case of division, whenever the second number equals \"0\" return -1.\n",
    "\n",
    "For example:\n",
    "\n",
    "\"15 // 0\"  ➞ -1\n"
   ]
  },
  {
   "cell_type": "code",
   "execution_count": 12,
   "id": "1976ce36",
   "metadata": {},
   "outputs": [
    {
     "name": "stdout",
     "output_type": "stream",
     "text": [
      "24\n",
      "0\n",
      "144\n",
      "-1\n"
     ]
    }
   ],
   "source": [
    "def arithmetic_operation(equation):\n",
    "    a,op,b = equation.split()\n",
    "    a,b = int(a),int(b)\n",
    "    if op == '+':\n",
    "        return a+b\n",
    "    elif op == '-':\n",
    "        return a-b\n",
    "    elif op == '*':\n",
    "        return a*b\n",
    "    elif op == '/':\n",
    "        if b==0:\n",
    "            return -1\n",
    "        else:\n",
    "            return a/b\n",
    "    elif op == '//':\n",
    "        if b==0:\n",
    "            return -1\n",
    "        else:\n",
    "            return a//b\n",
    "    elif op == '%':\n",
    "        if b==0:\n",
    "            return -1\n",
    "        else:\n",
    "            return a%b\n",
    "        \n",
    "print(arithmetic_operation(\"12 + 12\"))\n",
    "print(arithmetic_operation(\"12 - 12\") )\n",
    "print(arithmetic_operation(\"12 * 12\"))\n",
    "print(arithmetic_operation(\"12 // 0\"))"
   ]
  },
  {
   "cell_type": "markdown",
   "id": "dbc72585",
   "metadata": {},
   "source": [
    "# 2. Write a function that takes the coordinates of three points in the form of a 2d array and returns the perimeter of the triangle. The given points are the vertices of a triangle on a two-dimensional plane."
   ]
  },
  {
   "cell_type": "code",
   "execution_count": 10,
   "id": "b770108e",
   "metadata": {},
   "outputs": [
    {
     "name": "stdout",
     "output_type": "stream",
     "text": [
      "Perimeter of triangle with vertices [[15, 7], [5, 22], [11, 1]] is 47.08\n",
      "Perimeter of triangle with vertices [[0, 0], [0, 1], [1, 0]] is 3.41\n",
      "Perimeter of triangle with vertices [[-10, -10], [10, 10], [-10, 10]] is 68.28\n"
     ]
    }
   ],
   "source": [
    "def perimeter(vertices):\n",
    "    sides = []\n",
    "    index = 0\n",
    "    while index < len(vertices)-1:\n",
    "        i = vertices[index]\n",
    "        for j in vertices[index+1:]:\n",
    "            side = ((j[0]- i[0])**2 + (j[1] - i[1])**2)**0.5\n",
    "            sides.append(side)\n",
    "            \n",
    "        index +=1\n",
    "            \n",
    "    return 'Perimeter of triangle with vertices {} is {}'.format(vertices,round(sum(sides),2))\n",
    "\n",
    "print(perimeter( [ [15, 7], [5, 22], [11, 1] ] ))\n",
    "print(perimeter( [ [0, 0], [0, 1], [1, 0] ] ))\n",
    "print(perimeter( [ [-10, -10], [10, 10 ], [-10, 10] ] ))"
   ]
  },
  {
   "cell_type": "markdown",
   "id": "5437faaa",
   "metadata": {},
   "source": [
    "# 3. A city skyline can be represented as a 2-D list with 1s representing buildings. In the example below, the height of the tallest building is 4 (second-most right column).\n",
    "\n",
    "[[0, 0, 0, 0, 0, 0],<br>\n",
    "[0, 0, 0, 0, 1, 0],<br>\n",
    "[0, 0, 1, 0, 1, 0],<br>\n",
    "[0, 1, 1, 1, 1, 0],<br>\n",
    "[1, 1, 1, 1, 1, 1]]<br>\n",
    "\n",
    "Create a function that takes a skyline (2-D list of 0's and 1's) and returns the height of the tallest skyscraper.\n"
   ]
  },
  {
   "cell_type": "code",
   "execution_count": 21,
   "id": "1b1f07b3",
   "metadata": {},
   "outputs": [
    {
     "name": "stdout",
     "output_type": "stream",
     "text": [
      "the height of the tallest building is 3\n",
      "the height of the tallest building is 4\n",
      "the height of the tallest building is 2\n"
     ]
    }
   ],
   "source": [
    "def tallest_skyscraper(skyline):\n",
    "    for i in range(len(skyline)):\n",
    "        if 1 in skyline[i]:\n",
    "            return 'the height of the tallest building is {}'.format(len(skyline) - i)\n",
    "        \n",
    "        \n",
    "print(tallest_skyscraper([\n",
    "  [0, 0, 0, 0],\n",
    "  [0, 1, 0, 0],\n",
    "  [0, 1, 1, 0],\n",
    "  [1, 1, 1, 1]\n",
    "]))\n",
    "print(tallest_skyscraper([\n",
    "  [0, 1, 0, 0],\n",
    "  [0, 1, 0, 0],\n",
    "  [0, 1, 1, 0],\n",
    "  [1, 1, 1, 1]\n",
    "]))\n",
    "print(tallest_skyscraper([\n",
    "  [0, 0, 0, 0],\n",
    "  [0, 0, 0, 0],\n",
    "  [1, 1, 1, 0],\n",
    "  [1, 1, 1, 1]\n",
    "])\n",
    ")"
   ]
  },
  {
   "cell_type": "markdown",
   "id": "53500c87",
   "metadata": {},
   "source": [
    "# 4. A financial institution provides professional services to banks and claims charges from the customers based on the number of man-days provided. Internally, it has set a scheme to motivate and reward staff to meet and exceed targeted billable utilization and revenues by paying a bonus for each day claimed from customers in excess of a threshold target.\n",
    "\n",
    "This quarterly scheme is calculated with a threshold target of 32 days per quarter, and the incentive payment for each billable day in excess of such threshold target is shown as follows:\n",
    "\n",
    "    Days                                 Bonus\n",
    "    0 to 32 days                       Zero\n",
    "    33 to 40 days             SGD325 dollars per billable day\n",
    "    41 to 48 days             SGD550 dollars per billable day\n",
    "    Greater than 48 days      SGD600 dollars per billable day\n",
    "\n",
    "Please note that incentive payment is calculated progressively. As an example, if an employee reached total billable days of 45 in a quarter, his/her incentive payment is computed as follows:\n",
    "\n",
    "32*0 + 8*325 + 5*550 = 5350\n",
    "\n",
    "Write a function to read the billable days of an employee and return the bonus he/she has obtained in that quarter.\n"
   ]
  },
  {
   "cell_type": "code",
   "execution_count": 5,
   "id": "f5e725d6",
   "metadata": {},
   "outputs": [
    {
     "name": "stdout",
     "output_type": "stream",
     "text": [
      "The bonus he/she has obtained in that quarter is 0\n",
      "The bonus he/she has obtained in that quarter is 1625\n",
      "The bonus he/she has obtained in that quarter is 5350\n",
      "The bonus he/she has obtained in that quarter is 8200\n"
     ]
    }
   ],
   "source": [
    "def bonus(days):\n",
    "    total = 0\n",
    "    temp_days = days\n",
    "    while days >0 :\n",
    "        if days >0 and days <=32:\n",
    "            days -= 32\n",
    "        elif days >32 and days <=40:\n",
    "            temp =  days - 32\n",
    "            total += (temp) *325\n",
    "            days -= temp\n",
    "        elif days >41 and days <=48:\n",
    "            temp = days - 40\n",
    "            total += (temp) *550\n",
    "            days -= temp\n",
    "        elif days >48:\n",
    "            temp = days - 48\n",
    "            total += (temp) *600\n",
    "            days -= temp\n",
    "    return 'The bonus he/she has obtained in that quarter is {}'.format(total)\n",
    "        \n",
    "print(bonus(15))\n",
    "print(bonus(37))    \n",
    "print(bonus(45))\n",
    "print(bonus(50))"
   ]
  },
  {
   "cell_type": "markdown",
   "id": "e3252163",
   "metadata": {},
   "source": [
    "# 5. A number is said to be Disarium if the sum of its digits raised to their respective positions is the number itself.\n",
    "\n",
    "Create a function that determines whether a number is a Disarium or not.\n"
   ]
  },
  {
   "cell_type": "code",
   "execution_count": 8,
   "id": "62f902d5",
   "metadata": {},
   "outputs": [
    {
     "name": "stdout",
     "output_type": "stream",
     "text": [
      "False\n",
      "True\n",
      "False\n",
      "True\n",
      "False\n",
      "True\n"
     ]
    }
   ],
   "source": [
    "def is_disarium(num):\n",
    "    str_num = str(num)\n",
    "    sum = 0\n",
    "    for i in range(len(str_num)):\n",
    "        sum += int(str_num[i])**(i+1)\n",
    "    if sum == num:\n",
    "        return True\n",
    "    else:\n",
    "        return False\n",
    "    \n",
    "print(is_disarium(75))\n",
    "# 7^1 + 5^2 = 7 + 25 = 32\n",
    "\n",
    "print(is_disarium(135))\n",
    "# 1^1 + 3^2 + 5^3 = 1 + 9 + 125 = 135\n",
    "\n",
    "print(is_disarium(544))\n",
    "\n",
    "print(is_disarium(518))\n",
    "\n",
    "print(is_disarium(466))\n",
    "\n",
    "print(is_disarium(8))\n"
   ]
  },
  {
   "cell_type": "code",
   "execution_count": null,
   "id": "0e1f6fd8",
   "metadata": {},
   "outputs": [],
   "source": []
  }
 ],
 "metadata": {
  "kernelspec": {
   "display_name": "Python 3 (ipykernel)",
   "language": "python",
   "name": "python3"
  },
  "language_info": {
   "codemirror_mode": {
    "name": "ipython",
    "version": 3
   },
   "file_extension": ".py",
   "mimetype": "text/x-python",
   "name": "python",
   "nbconvert_exporter": "python",
   "pygments_lexer": "ipython3",
   "version": "3.9.7"
  }
 },
 "nbformat": 4,
 "nbformat_minor": 5
}
