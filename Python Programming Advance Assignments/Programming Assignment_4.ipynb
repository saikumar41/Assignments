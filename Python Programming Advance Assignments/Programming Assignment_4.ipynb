{
 "cells": [
  {
   "attachments": {
    "image.png": {
     "image/png": "[encoded data removed]"
    }
   },
   "cell_type": "markdown",
   "id": "a4fd91c6",
   "metadata": {},
   "source": [
    "# 1. In mathematics, the Fibonacci numbers, commonly denoted Fn, form a sequence, called the Fibonacci sequence, such that each number is the sum of the two preceding ones, starting from 0 and 1:\n",
    "![image.png](attachment:image.png)\n",
    "\n",
    "The beginning of the sequence is this:\n",
    "0, 1, 1, 2, 3, 5, 8, 13, 21, 34, 55, 89, 144, ...\n",
    "\n",
    "The function fastFib(num) returns the fibonacci number Fn, of the given num as an argument."
   ]
  },
  {
   "cell_type": "code",
   "execution_count": 11,
   "id": "57a7bba0",
   "metadata": {},
   "outputs": [
    {
     "name": "stdout",
     "output_type": "stream",
     "text": [
      "The fibonacci number Fn, of the given num 5 is 5\n",
      "The fibonacci number Fn, of the given num 10 is 55\n",
      "The fibonacci number Fn, of the given num 20 is 6765\n",
      "The fibonacci number Fn, of the given num 50 is 12586269025\n"
     ]
    }
   ],
   "source": [
    "def fib_fast(num):\n",
    "    f = [0, 1]\n",
    "    for i in range(2, num+1):\n",
    "        f.append(f[i-1] + f[i-2])\n",
    "    return 'The fibonacci number Fn, of the given num {} is {}'.format(num, f[num])\n",
    "        \n",
    "    \n",
    "print(fib_fast(5))\n",
    "\n",
    "print(fib_fast(10))\n",
    "\n",
    "print(fib_fast(20))\n",
    "\n",
    "print(fib_fast(50))\n"
   ]
  },
  {
   "cell_type": "markdown",
   "id": "ff320318",
   "metadata": {},
   "source": [
    "# 2. Create a function that takes a strings characters as ASCII and returns each characters hexadecimal value as a string."
   ]
  },
  {
   "cell_type": "code",
   "execution_count": 19,
   "id": "8a03f159",
   "metadata": {},
   "outputs": [
    {
     "name": "stdout",
     "output_type": "stream",
     "text": [
      "68 65 6c 6c 6f 20 77 6f 72 6c 64\n",
      "42 69 67 20 42 6f 69\n",
      "4d 61 72 74 79 20 50 6f 70 70 69 6e 73 6f 6e\n"
     ]
    }
   ],
   "source": [
    "def convert_to_hex(text):\n",
    "    hex_text = []\n",
    "    for i in text:\n",
    "        utf8_char = i.encode('utf8')\n",
    "        hex_value = utf8_char.hex()\n",
    "        hex_text.append(hex_value)\n",
    "        \n",
    "    return ' '.join(hex_text)\n",
    "\n",
    "print(convert_to_hex(\"hello world\"))\n",
    "print(convert_to_hex(\"Big Boi\"))\n",
    "print(convert_to_hex(\"Marty Poppinson\"))\n"
   ]
  },
  {
   "cell_type": "markdown",
   "id": "212e1115",
   "metadata": {},
   "source": [
    "# 3. Someone has attempted to censor my strings by replacing every vowel with a *, l*k* th*s. Luckily, I've been able to find the vowels that were removed.\n",
    "\n",
    "Given a censored string and a string of the censored vowels, return the original uncensored string.\n"
   ]
  },
  {
   "cell_type": "code",
   "execution_count": 28,
   "id": "8b2fe541",
   "metadata": {},
   "outputs": [
    {
     "name": "stdout",
     "output_type": "stream",
     "text": [
      "Where did my vowels go?\n",
      "abcd\n",
      "UPPERCASE\n"
     ]
    }
   ],
   "source": [
    "def uncensor(strings,vowels):\n",
    "    uncensored_string = ''\n",
    "    c = 0\n",
    "    for i in strings:\n",
    "        if i == '*':\n",
    "            uncensored_string += vowels[c]\n",
    "            c += 1\n",
    "        else:\n",
    "            uncensored_string += i\n",
    "    return uncensored_string\n",
    "\n",
    "print(uncensor(\"Wh*r* d*d my v*w*ls g*?\", \"eeioeo\"))\n",
    "print(uncensor(\"abcd\", \"\"))\n",
    "print(uncensor(\"*PP*RC*S*\", \"UEAE\"))"
   ]
  },
  {
   "cell_type": "markdown",
   "id": "6fb36d7d",
   "metadata": {},
   "source": [
    "# 4. Write a function that takes an IP address and returns the domain name using PTR DNS records."
   ]
  },
  {
   "cell_type": "code",
   "execution_count": 33,
   "id": "714da3a4",
   "metadata": {},
   "outputs": [
    {
     "name": "stdout",
     "output_type": "stream",
     "text": [
      "dns.google\n",
      "dns.google\n"
     ]
    }
   ],
   "source": [
    "import socket\n",
    "def get_domain(ip):\n",
    "    result=socket.gethostbyaddr(ip)\n",
    "    return list(result)[0]\n",
    "\n",
    "print(get_domain(\"8.8.8.8\"))\n",
    "print(get_domain(\"8.8.4.4\"))"
   ]
  },
  {
   "cell_type": "markdown",
   "id": "fcf6ace0",
   "metadata": {},
   "source": [
    "# 5. Create a function that takes an integer n and returns the factorial of factorials. See below examples for a better understanding:\n",
    "\n",
    "    Examples\n",
    "    fact_of_fact(4) ➞ 288\n",
    "    4! * 3! * 2! * 1! = 288\n"
   ]
  },
  {
   "cell_type": "code",
   "execution_count": 42,
   "id": "71250c56",
   "metadata": {},
   "outputs": [
    {
     "name": "stdout",
     "output_type": "stream",
     "text": [
      "288\n",
      "34560\n",
      "24883200\n",
      "90378331112371142262979521568630736335023247731599748366336000000000000000000\n"
     ]
    }
   ],
   "source": [
    "def fact(num):\n",
    "    f = [1]\n",
    "    for i in range(1,num+1):\n",
    "        f.append(i * f[i-1])\n",
    "    return f[num]\n",
    "        \n",
    "\n",
    "def fact_of_fact(num):\n",
    "    f = [1]\n",
    "    for i in range(1,num+1):\n",
    "        f.append(fact(i) * f[i-1])\n",
    "    return f[num]\n",
    "\n",
    "print(fact_of_fact(4))\n",
    "print(fact_of_fact(5))\n",
    "print(fact_of_fact(6))\n",
    "print(fact_of_fact(15))"
   ]
  },
  {
   "cell_type": "code",
   "execution_count": null,
   "id": "02daefee",
   "metadata": {},
   "outputs": [],
   "source": []
  }
 ],
 "metadata": {
  "kernelspec": {
   "display_name": "Python 3 (ipykernel)",
   "language": "python",
   "name": "python3"
  },
  "language_info": {
   "codemirror_mode": {
    "name": "ipython",
    "version": 3
   },
   "file_extension": ".py",
   "mimetype": "text/x-python",
   "name": "python",
   "nbconvert_exporter": "python",
   "pygments_lexer": "ipython3",
   "version": "3.9.7"
  }
 },
 "nbformat": 4,
 "nbformat_minor": 5
}
