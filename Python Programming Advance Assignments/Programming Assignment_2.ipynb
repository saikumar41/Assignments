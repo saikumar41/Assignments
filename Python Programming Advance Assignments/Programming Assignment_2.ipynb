{
 "cells": [
  {
   "cell_type": "markdown",
   "id": "f4f89cd9",
   "metadata": {},
   "source": [
    "# 1. Write a function that takes a positive integer num and calculates how many dots exist in a pentagonal shape around the center dot on the Nth iteration."
   ]
  },
  {
   "cell_type": "code",
   "execution_count": 6,
   "id": "2a616cec",
   "metadata": {},
   "outputs": [
    {
     "data": {
      "text/plain": [
       "141"
      ]
     },
     "execution_count": 6,
     "metadata": {},
     "output_type": "execute_result"
    }
   ],
   "source": [
    "def pentagonal(n):\n",
    "    return (5*n**2 - 5*n + 2) // 2\n",
    "\n",
    "pentagonal(8)"
   ]
  },
  {
   "cell_type": "markdown",
   "id": "614d123a",
   "metadata": {},
   "source": [
    "# 2.  Make a function that encrypts a given input with these steps:\n",
    "\n",
    "Input: \"apple\"\n",
    "\n",
    "Step 1: Reverse the input: \"elppa\"\n",
    "\n",
    "Step 2: Replace all vowels using the following chart:\n",
    "\n",
    "a => 0\n",
    "\n",
    "e => 1\n",
    "\n",
    "i => 2\n",
    "\n",
    "o => 2\n",
    "\n",
    "u => 3\n",
    "\n",
    "\"1lpp0\"\n",
    "\n",
    "Step 3: Add \"aca\" to the end of the word: \"1lpp0aca\"\n",
    "\n",
    "Output: \"1lpp0aca\"\n"
   ]
  },
  {
   "cell_type": "code",
   "execution_count": 12,
   "id": "8965090f",
   "metadata": {},
   "outputs": [
    {
     "data": {
      "text/plain": [
       "'k0r3baca'"
      ]
     },
     "execution_count": 12,
     "metadata": {},
     "output_type": "execute_result"
    }
   ],
   "source": [
    "def encrypt(s):\n",
    "    vowels ={\n",
    "        'a' : '0',\n",
    "        'e' : '1',\n",
    "        'i' : '2',\n",
    "        'o' : '2',\n",
    "        'u' : '3'\n",
    "    }\n",
    "    rev = s[::-1]\n",
    "    for i in rev:\n",
    "        if i in vowels.keys():\n",
    "            rev = rev.replace(i,vowels[i])\n",
    "    enc = rev + 'aca'\n",
    "    return enc\n",
    "\n",
    "encrypt(\"burak\")"
   ]
  },
  {
   "cell_type": "markdown",
   "id": "4d29b5f6",
   "metadata": {},
   "source": [
    "# 3. Given the month and year as numbers, return whether that month contains a Friday 13th.(i.e You can check Python's datetime module)"
   ]
  },
  {
   "cell_type": "code",
   "execution_count": 28,
   "id": "0e2fc31f",
   "metadata": {},
   "outputs": [
    {
     "name": "stdout",
     "output_type": "stream",
     "text": [
      "True\n",
      "True\n",
      "False\n"
     ]
    }
   ],
   "source": [
    "from datetime import date\n",
    "def has_friday_13(month,year,day=13):\n",
    "    dt = date(year,month,day)\n",
    "    return dt.weekday() == 4\n",
    "\n",
    "print(has_friday_13(3, 2020))\n",
    "print(has_friday_13(10, 2017))\n",
    "print(has_friday_13(1, 1985))"
   ]
  },
  {
   "cell_type": "markdown",
   "id": "69cf0deb",
   "metadata": {},
   "source": [
    "# 4. Write a regular expression that will help us count how many bad cookies are produced every day. You must use RegEx negative lookbehind."
   ]
  },
  {
   "cell_type": "code",
   "execution_count": 70,
   "id": "68374cd1",
   "metadata": {},
   "outputs": [
    {
     "name": "stdout",
     "output_type": "stream",
     "text": [
      "number of bad cookies produced everyday are  4\n"
     ]
    }
   ],
   "source": [
    "import re\n",
    "lst = [\"bad cookie\", \"bad cookie\", \"good cookie\", \"bad cookie\", \"good cookie\", \"good cookie\", \"bad cookie\",]\n",
    "pattern = \"(?<!good)\\scookie\"\n",
    "\n",
    "count = len(re.findall(pattern, \", \".join(lst)))\n",
    "print(\"number of bad cookies produced everyday are \",count)"
   ]
  },
  {
   "cell_type": "markdown",
   "id": "ba17253a",
   "metadata": {},
   "source": [
    "# 5. Given a list of words in the singular form, return a set of those words in the plural form if they appear more than once in the list."
   ]
  },
  {
   "cell_type": "code",
   "execution_count": 57,
   "id": "ece2aefd",
   "metadata": {},
   "outputs": [
    {
     "name": "stdout",
     "output_type": "stream",
     "text": [
      "{'pig', 'cows'}\n",
      "{'tables'}\n",
      "{'arm', 'chair', 'pencil'}\n"
     ]
    }
   ],
   "source": [
    "# inflect package is used to get the plurals for the words.\n",
    "import inflect\n",
    "def pluralize(lst):\n",
    "    p = inflect.engine()\n",
    "    return set([p.plural(i) if lst.count(i) > 1 else i for i in lst ])\n",
    "\n",
    "\n",
    "print(pluralize([\"cow\", \"pig\", \"cow\", \"cow\"]))\n",
    "print(pluralize([\"table\", \"table\", \"table\"]))\n",
    "print(pluralize([\"chair\", \"pencil\", \"arm\"]))"
   ]
  },
  {
   "cell_type": "code",
   "execution_count": null,
   "id": "b56d5904",
   "metadata": {},
   "outputs": [],
   "source": []
  }
 ],
 "metadata": {
  "kernelspec": {
   "display_name": "Python 3 (ipykernel)",
   "language": "python",
   "name": "python3"
  },
  "language_info": {
   "codemirror_mode": {
    "name": "ipython",
    "version": 3
   },
   "file_extension": ".py",
   "mimetype": "text/x-python",
   "name": "python",
   "nbconvert_exporter": "python",
   "pygments_lexer": "ipython3",
   "version": "3.9.7"
  }
 },
 "nbformat": 4,
 "nbformat_minor": 5
}
