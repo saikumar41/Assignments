{
 "cells": [
  {
   "cell_type": "markdown",
   "id": "5b19cb6d",
   "metadata": {},
   "source": [
    "# Python Screening Assignment"
   ]
  },
  {
   "cell_type": "markdown",
   "id": "14190e33",
   "metadata": {},
   "source": [
    "### 1. Create a function in python to read the text file and replace specific content of the file."
   ]
  },
  {
   "cell_type": "code",
   "execution_count": 31,
   "id": "a6849700",
   "metadata": {},
   "outputs": [
    {
     "name": "stdout",
     "output_type": "stream",
     "text": [
      "Enter the File Name: example.txt\n",
      "The string placement has been replaced with the stringscreening in example.txt\n"
     ]
    }
   ],
   "source": [
    "file_name = input(\"Enter the File Name: \")\n",
    "word = \"placement\"\n",
    "new_word = \"screening\"\n",
    "with open(file_name, 'r+') as f:\n",
    "    data = f.read()\n",
    "    if word in data:\n",
    "        data = data.replace(word, new_word)\n",
    "        try:\n",
    "            f.seek(0)\n",
    "            f.write(data)\n",
    "            f.close()\n",
    "        except Exception as e:\n",
    "            print(e)\n",
    "        finally:\n",
    "            print('The string ' + word + ' has been replaced with the string' + new_word + ' in ' + file_name)\n",
    "        \n",
    "    else:\n",
    "        print('The string ' +word + ' is not present in ' + file_name)"
   ]
  },
  {
   "cell_type": "markdown",
   "id": "a654d638",
   "metadata": {},
   "source": [
    "### 2. Demonstrate use of abstract class, multiple inheritance and decorator in python using examples."
   ]
  },
  {
   "cell_type": "markdown",
   "id": "7c576916",
   "metadata": {},
   "source": [
    "#### a. Abstract Class"
   ]
  },
  {
   "cell_type": "markdown",
   "id": "e344b7e9",
   "metadata": {},
   "source": [
    "In object-oriented programming, an abstract class is a class that cannot be instantiated. However, you can create classes that inherit from an abstract class.\n",
    "\n",
    "Typically, you use an abstract class to create a blueprint for other classes. \n",
    "\n",
    "The Following Code is an example for demonstrating Abstract class and methods"
   ]
  },
  {
   "cell_type": "code",
   "execution_count": 41,
   "id": "c0d731b7",
   "metadata": {},
   "outputs": [],
   "source": [
    "from abc import ABC, abstractmethod\n",
    "\n",
    "\n",
    "class Student(ABC):\n",
    "    def __init__(self, first_name, last_name):\n",
    "        self.first_name = first_name\n",
    "        self.last_name = last_name\n",
    "\n",
    "    @property\n",
    "    def full_name(self):\n",
    "        return f\"{self.first_name} {self.last_name}\"\n",
    "\n",
    "    @abstractmethod\n",
    "    def get_course_duration(self):\n",
    "        pass\n",
    "    \n",
    "class FulltimeStudent(Student):\n",
    "    def __init__(self, first_name, last_name, course_hours):\n",
    "        super().__init__(first_name, last_name)\n",
    "        self.course_hours = course_hours\n",
    "\n",
    "    def get_course_duration(self):\n",
    "        return self.course_hours // 8\n",
    "    \n",
    "class OcassionalStudent(Student):\n",
    "    def __init__(self, first_name, last_name, course_hours, duration_per_day):\n",
    "        super().__init__(first_name, last_name)\n",
    "        self.course_hours = course_hours\n",
    "        self.duration_per_day = duration_per_day\n",
    "\n",
    "    def get_course_duration(self):\n",
    "        return self.course_hours // self.duration_per_day\n",
    "    \n",
    "class StudentRoll:\n",
    "    def __init__(self):\n",
    "        self.student_list = []\n",
    "\n",
    "    def add(self, student):\n",
    "        self.student_list.append(student)\n",
    "\n",
    "    def print(self):\n",
    "        for e in self.student_list:\n",
    "            print(f\"{e.full_name} \\t {e.get_course_duration()} days\")"
   ]
  },
  {
   "cell_type": "code",
   "execution_count": 42,
   "id": "103785bc",
   "metadata": {},
   "outputs": [
    {
     "name": "stdout",
     "output_type": "stream",
     "text": [
      "Sai Kumar \t 25 days\n",
      "Sai Paluri \t 37 days\n",
      "Kumar Reddy \t 50 days\n",
      "Paluri Sai \t 75 days\n",
      "Reddy Paluri \t 16 days\n"
     ]
    }
   ],
   "source": [
    "studentroll = StudentRoll()\n",
    "\n",
    "studentroll.add(FulltimeStudent('Sai', 'Kumar', 200))\n",
    "studentroll.add(FulltimeStudent('Sai', 'Paluri', 300))\n",
    "studentroll.add(OcassionalStudent('Kumar', 'Reddy', 200, 4))\n",
    "studentroll.add(OcassionalStudent('Paluri', 'Sai', 150, 2))\n",
    "studentroll.add(OcassionalStudent('Reddy', 'Paluri', 100, 6))\n",
    "\n",
    "studentroll.print()"
   ]
  },
  {
   "cell_type": "markdown",
   "id": "7ae8b84f",
   "metadata": {},
   "source": [
    "#### b. Multiple Inheritance"
   ]
  },
  {
   "cell_type": "markdown",
   "id": "8787735e",
   "metadata": {},
   "source": [
    "When a class inherits from a single class, you have single inheritance. Python allows a class to inherit from multiple classes. If a class inherits from two or more classes, you’ll have multiple inheritance. The Following Code is an example implementing multiple inheritance"
   ]
  },
  {
   "cell_type": "code",
   "execution_count": 105,
   "id": "eff303d1",
   "metadata": {},
   "outputs": [],
   "source": [
    "class Student:\n",
    "    def __init__(self, first_name, last_name):\n",
    "        self.first_name = first_name\n",
    "        self.last_name = last_name\n",
    "        \n",
    "    def get_student(self):\n",
    "        return f\"{self.first_name} {self.last_name}\"\n",
    "        \n",
    "\n",
    "class Course:\n",
    "    def __init__(self, course_name):\n",
    "        self.course_name = course_name\n",
    "        \n",
    "    def get_courses(self):\n",
    "        return f\"{self.course_name}\"\n",
    "\n",
    "class EnrollStudent(Student,Course):\n",
    "    def __init__(self, first_name, last_name, course_name):\n",
    "        Student.__init__(self, first_name, last_name)\n",
    "        Course.__init__(self, course_name)\n",
    "    \n",
    "    def get_students_courses(self):\n",
    "       print(f' {super().get_student()} {super().get_courses()}')\n",
    "        \n",
    "        \n",
    "        "
   ]
  },
  {
   "cell_type": "code",
   "execution_count": 106,
   "id": "6f319865",
   "metadata": {},
   "outputs": [
    {
     "name": "stdout",
     "output_type": "stream",
     "text": [
      " sai kumar CSE\n",
      " sai krishna ECE\n",
      " sai Reddy DS\n"
     ]
    }
   ],
   "source": [
    "enroll_student1 = EnrollStudent('sai','kumar', 'CSE')\n",
    "enroll_student2 = EnrollStudent('sai', 'krishna', 'ECE')\n",
    "enroll_student3 = EnrollStudent('sai', 'Reddy', 'DS')\n",
    "enroll_student1.get_students_courses()\n",
    "enroll_student2.get_students_courses()\n",
    "enroll_student3.get_students_courses()"
   ]
  },
  {
   "cell_type": "markdown",
   "id": "9bd8844e",
   "metadata": {},
   "source": [
    "#### c. Decorators"
   ]
  },
  {
   "cell_type": "markdown",
   "id": "3c425a2e",
   "metadata": {},
   "source": [
    "A decorator is a function that takes another function as an argument and extends its behavior without changing the original function explicitly. The Following Code is an example of Decorator"
   ]
  },
  {
   "cell_type": "code",
   "execution_count": 110,
   "id": "e233a752",
   "metadata": {},
   "outputs": [
    {
     "name": "stdout",
     "output_type": "stream",
     "text": [
      "SAI KUMAR\n"
     ]
    }
   ],
   "source": [
    "def upper_case(fn):\n",
    "    def wrapper(*args, **kwargs):\n",
    "        result = fn(*args, **kwargs)\n",
    "        return result.upper()\n",
    "    return wrapper\n",
    "\n",
    "def lower_case(fn):\n",
    "    def wrapper(*args, **kwargs):\n",
    "        result = fn(*args, **kwargs)\n",
    "        return result.lower()\n",
    "    return wrapper\n",
    "\n",
    "\n",
    "@upper_case\n",
    "def statement(s):\n",
    "    return s\n",
    "\n",
    "print(statement('sai kumar'))"
   ]
  },
  {
   "cell_type": "code",
   "execution_count": null,
   "id": "624bb5b3",
   "metadata": {},
   "outputs": [],
   "source": []
  }
 ],
 "metadata": {
  "kernelspec": {
   "display_name": "Python 3 (ipykernel)",
   "language": "python",
   "name": "python3"
  },
  "language_info": {
   "codemirror_mode": {
    "name": "ipython",
    "version": 3
   },
   "file_extension": ".py",
   "mimetype": "text/x-python",
   "name": "python",
   "nbconvert_exporter": "python",
   "pygments_lexer": "ipython3",
   "version": "3.9.7"
  }
 },
 "nbformat": 4,
 "nbformat_minor": 5
}
