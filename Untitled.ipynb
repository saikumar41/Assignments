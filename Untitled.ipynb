{
 "cells": [
  {
   "cell_type": "code",
   "execution_count": 22,
   "id": "c7da7945",
   "metadata": {},
   "outputs": [],
   "source": [
    "l = [[1,2,3],[11,12,'b','b','b'],[21,'t','223',44,'ba'],[4,5,6],[7,8,9],'demo',12.5]"
   ]
  },
  {
   "cell_type": "code",
   "execution_count": 23,
   "id": "338d901d",
   "metadata": {},
   "outputs": [
    {
     "data": {
      "text/plain": [
       "[[1, 2, 3],\n",
       " [11, 12, 'b', 'b', 'b'],\n",
       " [21, 't', '223', 44, 'ba'],\n",
       " [4, 5, 6],\n",
       " [7, 8, 9],\n",
       " 'demo',\n",
       " 12.5]"
      ]
     },
     "execution_count": 23,
     "metadata": {},
     "output_type": "execute_result"
    }
   ],
   "source": [
    "l"
   ]
  },
  {
   "cell_type": "code",
   "execution_count": 24,
   "id": "3fde15c1",
   "metadata": {},
   "outputs": [
    {
     "name": "stdout",
     "output_type": "stream",
     "text": [
      "string found at 2 index of sublist [11, 12, 'b', 'b', 'b']\n",
      "string found at 2 index of sublist [11, 12, 'b', 'b']\n",
      "string found at 2 index of sublist [11, 12, 'b']\n",
      "string found at 1 index of sublist [21, 't', '223', 44, 'ba']\n",
      "string found at 1 index of sublist [21, '223', 44, 'ba']\n",
      "string found at 2 index of sublist [21, 44, 'ba']\n",
      "[[1, 2, 3], [11, 12], [21, 44], [4, 5, 6], [7, 8, 9], 'demo', 12.5]\n"
     ]
    }
   ],
   "source": [
    "for i in l:\n",
    "    if isinstance(i,list):\n",
    "        c=0\n",
    "        while c < len(i):\n",
    "            j=i[c]\n",
    "            if isinstance(j,str):\n",
    "                print(\"string found at {} index of sublist {}\".format(i.index(j),i))\n",
    "                i.remove(j)\n",
    "                c-=1\n",
    "            c+=1\n",
    "            \n",
    "print(l)"
   ]
  },
  {
   "cell_type": "code",
   "execution_count": null,
   "id": "29161853",
   "metadata": {},
   "outputs": [],
   "source": []
  }
 ],
 "metadata": {
  "kernelspec": {
   "display_name": "Python 3 (ipykernel)",
   "language": "python",
   "name": "python3"
  },
  "language_info": {
   "codemirror_mode": {
    "name": "ipython",
    "version": 3
   },
   "file_extension": ".py",
   "mimetype": "text/x-python",
   "name": "python",
   "nbconvert_exporter": "python",
   "pygments_lexer": "ipython3",
   "version": "3.9.7"
  }
 },
 "nbformat": 4,
 "nbformat_minor": 5
}
